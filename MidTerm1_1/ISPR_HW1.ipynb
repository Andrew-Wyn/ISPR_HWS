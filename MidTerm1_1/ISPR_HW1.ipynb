{
  "nbformat": 4,
  "nbformat_minor": 0,
  "metadata": {
    "colab": {
      "name": "ISPR_HW1.ipynb",
      "provenance": [],
      "collapsed_sections": []
    },
    "kernelspec": {
      "name": "python3",
      "display_name": "Python 3"
    },
    "language_info": {
      "name": "python"
    }
  },
  "cells": [
    {
      "cell_type": "markdown",
      "source": [
        "# ISPR Home Work 1\n",
        "\n",
        "### Student: Moroni Luca\n",
        "\n",
        "## Assignment: 1"
      ],
      "metadata": {
        "id": "T8yS5PwoMov3"
      }
    },
    {
      "cell_type": "code",
      "execution_count": null,
      "metadata": {
        "id": "udnWmZGBMlKi"
      },
      "outputs": [],
      "source": [
        ""
      ]
    }
  ]
}