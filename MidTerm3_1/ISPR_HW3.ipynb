{
  "cells": [
    {
      "cell_type": "markdown",
      "metadata": {
        "id": "sq1KePy9w_xE"
      },
      "source": [
        "# ISPR Home Work 3\n",
        "\n",
        "### Student: Moroni Luca\n",
        "### Mat: 635966\n",
        "\n",
        "## Assignment: 1"
      ]
    },
    {
      "cell_type": "markdown",
      "metadata": {
        "id": "Vyt0GkQoxEUS"
      },
      "source": [
        "## Importing used libraries"
      ]
    },
    {
      "cell_type": "code",
      "execution_count": null,
      "metadata": {
        "colab": {
          "base_uri": "https://localhost:8080/"
        },
        "id": "g4xeoTVdw8TF",
        "outputId": "e88c36e4-e1a2-4745-8e56-dd6f6e59389c"
      },
      "outputs": [
        {
          "output_type": "stream",
          "name": "stdout",
          "text": [
            "Collecting git+https://github.com/szagoruyko/pytorchviz.git@master\n",
            "  Cloning https://github.com/szagoruyko/pytorchviz.git (to revision master) to /tmp/pip-req-build-mmy4ozkc\n",
            "  Running command git clone -q https://github.com/szagoruyko/pytorchviz.git /tmp/pip-req-build-mmy4ozkc\n",
            "Requirement already satisfied: torch in /usr/local/lib/python3.7/dist-packages (from torchviz==0.0.2) (1.11.0+cu113)\n",
            "Requirement already satisfied: graphviz in /usr/local/lib/python3.7/dist-packages (from torchviz==0.0.2) (0.10.1)\n",
            "Requirement already satisfied: typing-extensions in /usr/local/lib/python3.7/dist-packages (from torch->torchviz==0.0.2) (4.2.0)\n",
            "Building wheels for collected packages: torchviz\n",
            "  Building wheel for torchviz (setup.py) ... \u001b[?25l\u001b[?25hdone\n",
            "  Created wheel for torchviz: filename=torchviz-0.0.2-py3-none-any.whl size=4990 sha256=00310fc86d8cbcc937466af3d7b027dcd23611e9a1c36a7ee3816bc6d7065512\n",
            "  Stored in directory: /tmp/pip-ephem-wheel-cache-6bh9c285/wheels/69/06/fd/652908d49c931cdcca96be3c727fb11ed777a3a62402210396\n",
            "Successfully built torchviz\n",
            "Installing collected packages: torchviz\n",
            "Successfully installed torchviz-0.0.2\n"
          ]
        }
      ],
      "source": [
        "%pip install -U git+https://github.com/szagoruyko/pytorchviz.git@master\n",
        "\n",
        "import numpy as np\n",
        "import matplotlib.pyplot as plt\n",
        "import torch\n",
        "import torchvision\n",
        "\n",
        "from torch.nn import functional as F\n",
        "from sklearn.utils import gen_batches\n",
        "from sklearn.preprocessing import MinMaxScaler\n",
        "from torchviz import make_dot, make_dot_from_trace\n",
        "from torch.utils.data import TensorDataset\n",
        "\n",
        "from torch import nn\n",
        "from torch import optim"
      ]
    },
    {
      "cell_type": "code",
      "execution_count": null,
      "metadata": {
        "colab": {
          "base_uri": "https://localhost:8080/"
        },
        "id": "Ic7J1wxVxfXW",
        "outputId": "594bfdf7-cd05-4f2b-d455-2ae87f1e49ce"
      },
      "outputs": [
        {
          "output_type": "stream",
          "name": "stdout",
          "text": [
            "The device available: cuda\n"
          ]
        }
      ],
      "source": [
        "# use gpu if available\n",
        "device = torch.device(\"cuda\" if torch.cuda.is_available() else \"cpu\")\n",
        "\n",
        "print(f\"The device available: {device}\")"
      ]
    },
    {
      "cell_type": "markdown",
      "metadata": {
        "id": "p8Qd1HD3xNJ2"
      },
      "source": [
        "## Load dataset\n"
      ]
    },
    {
      "cell_type": "code",
      "execution_count": null,
      "metadata": {
        "id": "Ceq46qBmXZv7",
        "colab": {
          "base_uri": "https://localhost:8080/",
          "height": 431,
          "referenced_widgets": [
            "2badc63faeaf43a689bb8095f499104c",
            "759e4e2bd10d4b6ab7a1630036516f18",
            "c36acc8706d74349882858c1a3bc4861",
            "e922c5b44b224648acf9e56ad762313b",
            "10bb0c1ca85148b48248249b5579449c",
            "b417aede888640b7a46360f07ee1e7fe",
            "11d47549e06c414f8f635b894111aac3",
            "d7e1f5f315b94cbd85ba583460be9fae",
            "5180f64464664cadaf3d4941aa686bf5",
            "d6c67e6d3ff94a1f8541f0a5964a5673",
            "e1a83f48e69d483c8cba6b906ce50497",
            "3028518347cd497186545cc037c7f3b8",
            "72b4bcee767646b09d0a5fbbd1797b1c",
            "7ee44bc1c16c4528a811b8781a02f86e",
            "f569c3525d9e4c3b97cc44f4d0b37a1b",
            "5d975897e0a7490da7e55a9b7adc39cc",
            "7a183b26a791437ca0e08ac2249f2b3f",
            "47e0684fee4e452b962654ac3ed6e484",
            "8b8806c2dbfa4793a86b5e6185d00ae8",
            "2d16ceb4ebd64260ae63c224aa746173",
            "50d6558c0e7e4cbfab5d2abf2282f888",
            "71f1bec354c3453b8e69888181bf60ce",
            "eced4876a0254f9dbb4a9a6ccc430a2d",
            "7c4fc9781dd342f0a7c32102b5c04a8f",
            "8501ee0beee045d09464ea39a582a97b",
            "257286bc730a4186b0827dc5d22cd245",
            "f99f81747e494b6f998ac53c0ec021bb",
            "865a817ba47c4baeb61743d44f4cc72f",
            "16432444b3e64d4c9ff8c1ba6a76f6a4",
            "336438fd5ff24687998ca736492b5ba4",
            "a2ecde539ed24acba0ca90ce4f4b7a52",
            "c722f18709854a2fb08f7c8e03147003",
            "0e91bcdf517b4e88bcd01d30f3bba05d",
            "1fd3a61b0a9c486a8742b8534a193635",
            "dde0b637376a4c3aba7f2927ab0a704e",
            "49d10a556f4740c2967fcacbe25a1688",
            "dd4757f962c7466cb90b4d90b0f60172",
            "1e349cf3be2546a49b165eb8eab4670a",
            "e4c31927190d4f2e9d6865193135e639",
            "37592a71126445739887b31e9b437adb",
            "581f8a58197f41ff912f1c2b883f03c3",
            "192502a29d404378913e01ad9507c0c9",
            "f08ff298538a480482a968160772a3a6",
            "e41c41a637db4d9d82a6ca903458bbd8"
          ]
        },
        "outputId": "519bb4d7-c716-40c2-b3be-7a58caa47b5e"
      },
      "outputs": [
        {
          "output_type": "stream",
          "name": "stdout",
          "text": [
            "Downloading http://yann.lecun.com/exdb/mnist/train-images-idx3-ubyte.gz\n",
            "Downloading http://yann.lecun.com/exdb/mnist/train-images-idx3-ubyte.gz to /root/torch_datasets/MNIST/raw/train-images-idx3-ubyte.gz\n"
          ]
        },
        {
          "output_type": "display_data",
          "data": {
            "text/plain": [
              "  0%|          | 0/9912422 [00:00<?, ?it/s]"
            ],
            "application/vnd.jupyter.widget-view+json": {
              "version_major": 2,
              "version_minor": 0,
              "model_id": "2badc63faeaf43a689bb8095f499104c"
            }
          },
          "metadata": {}
        },
        {
          "output_type": "stream",
          "name": "stdout",
          "text": [
            "Extracting /root/torch_datasets/MNIST/raw/train-images-idx3-ubyte.gz to /root/torch_datasets/MNIST/raw\n",
            "\n",
            "Downloading http://yann.lecun.com/exdb/mnist/train-labels-idx1-ubyte.gz\n",
            "Downloading http://yann.lecun.com/exdb/mnist/train-labels-idx1-ubyte.gz to /root/torch_datasets/MNIST/raw/train-labels-idx1-ubyte.gz\n"
          ]
        },
        {
          "output_type": "display_data",
          "data": {
            "text/plain": [
              "  0%|          | 0/28881 [00:00<?, ?it/s]"
            ],
            "application/vnd.jupyter.widget-view+json": {
              "version_major": 2,
              "version_minor": 0,
              "model_id": "3028518347cd497186545cc037c7f3b8"
            }
          },
          "metadata": {}
        },
        {
          "output_type": "stream",
          "name": "stdout",
          "text": [
            "Extracting /root/torch_datasets/MNIST/raw/train-labels-idx1-ubyte.gz to /root/torch_datasets/MNIST/raw\n",
            "\n",
            "Downloading http://yann.lecun.com/exdb/mnist/t10k-images-idx3-ubyte.gz\n",
            "Downloading http://yann.lecun.com/exdb/mnist/t10k-images-idx3-ubyte.gz to /root/torch_datasets/MNIST/raw/t10k-images-idx3-ubyte.gz\n"
          ]
        },
        {
          "output_type": "display_data",
          "data": {
            "text/plain": [
              "  0%|          | 0/1648877 [00:00<?, ?it/s]"
            ],
            "application/vnd.jupyter.widget-view+json": {
              "version_major": 2,
              "version_minor": 0,
              "model_id": "eced4876a0254f9dbb4a9a6ccc430a2d"
            }
          },
          "metadata": {}
        },
        {
          "output_type": "stream",
          "name": "stdout",
          "text": [
            "Extracting /root/torch_datasets/MNIST/raw/t10k-images-idx3-ubyte.gz to /root/torch_datasets/MNIST/raw\n",
            "\n",
            "Downloading http://yann.lecun.com/exdb/mnist/t10k-labels-idx1-ubyte.gz\n",
            "Downloading http://yann.lecun.com/exdb/mnist/t10k-labels-idx1-ubyte.gz to /root/torch_datasets/MNIST/raw/t10k-labels-idx1-ubyte.gz\n"
          ]
        },
        {
          "output_type": "display_data",
          "data": {
            "text/plain": [
              "  0%|          | 0/4542 [00:00<?, ?it/s]"
            ],
            "application/vnd.jupyter.widget-view+json": {
              "version_major": 2,
              "version_minor": 0,
              "model_id": "1fd3a61b0a9c486a8742b8534a193635"
            }
          },
          "metadata": {}
        },
        {
          "output_type": "stream",
          "name": "stdout",
          "text": [
            "Extracting /root/torch_datasets/MNIST/raw/t10k-labels-idx1-ubyte.gz to /root/torch_datasets/MNIST/raw\n",
            "\n"
          ]
        }
      ],
      "source": [
        "transform = torchvision.transforms.Compose([torchvision.transforms.ToTensor()])\n",
        "minmaxscaler = MinMaxScaler()\n",
        "\n",
        "MNIST_train_dataset = torchvision.datasets.MNIST(\n",
        "    root=\"~/torch_datasets\", train=True, transform=transform, download=True\n",
        ")\n",
        "\n",
        "X_train = MNIST_train_dataset.data.float()\n",
        "y_train = MNIST_train_dataset.targets\n",
        "\n",
        "# resize the dataset\n",
        "X_train = X_train.view(-1, 784)\n",
        "\n",
        "# rescale in [0, 1]\n",
        "X_train = torch.Tensor(minmaxscaler.fit_transform(X_train))\n",
        "\n",
        "\n",
        "MNIST_test_dataset = torchvision.datasets.MNIST(\n",
        "    root=\"~/torch_datasets\", train=False, transform=transform, download=True\n",
        ")\n",
        "\n",
        "X_test = MNIST_test_dataset.data.float()\n",
        "y_test = MNIST_test_dataset.targets\n",
        "\n",
        "# resize the dataset\n",
        "X_test = X_test.view(-1, 784)\n",
        "\n",
        "# rescale in [0, 1]\n",
        "X_test = torch.Tensor(minmaxscaler.transform(X_test))"
      ]
    },
    {
      "cell_type": "markdown",
      "metadata": {
        "id": "xW-7oBR1xuj7"
      },
      "source": [
        "### Show some images"
      ]
    },
    {
      "cell_type": "code",
      "execution_count": null,
      "metadata": {
        "id": "laO0n-HzxsH5"
      },
      "outputs": [],
      "source": [
        "def show_table_images(data, text, dim = 10):\n",
        "  plt.figure(figsize=(dim*2, dim*2))\n",
        "  for i, comp in enumerate(data):\n",
        "      plt.subplot(dim, dim, i + 1)\n",
        "      plt.imshow(comp.reshape((28, 28)), cmap=plt.cm.gray_r, interpolation=\"nearest\")\n",
        "      plt.xticks(())\n",
        "      plt.yticks(())\n",
        "  plt.suptitle(text, fontsize=16)\n",
        "  plt.subplots_adjust(0.08, 0.02, 0.92, 0.85, 0.08, 0.23)\n",
        "\n",
        "  plt.show()"
      ]
    },
    {
      "cell_type": "code",
      "execution_count": 111,
      "metadata": {
        "colab": {
          "base_uri": "https://localhost:8080/",
          "height": 726
        },
        "id": "BTltMZQYxwaC",
        "outputId": "3decbb81-c27e-4c76-b222-4b4e7e86ff74"
      },
      "outputs": [
        {
          "output_type": "display_data",
          "data": {
            "text/plain": [
              "<Figure size 720x720 with 25 Axes>"
            ],
            "image/png": "[encoded data removed]"
          },
          "metadata": {}
        }
      ],
      "source": [
        "show_table_images(X_train.numpy()[:25], \"First 25 train examples\", 5)"
      ]
    },
    {
      "cell_type": "code",
      "execution_count": null,
      "metadata": {
        "colab": {
          "base_uri": "https://localhost:8080/",
          "height": 726
        },
        "id": "5O4qp8HXxx-G",
        "outputId": "f5dbc20c-0394-4788-d7af-c5e60e7204a2"
      },
      "outputs": [
        {
          "output_type": "display_data",
          "data": {
            "text/plain": [
              "<Figure size 720x720 with 25 Axes>"
            ],
            "image/png": "[encoded data removed]"
          },
          "metadata": {}
        }
      ],
      "source": [
        "show_table_images(X_test.numpy()[:25], \"First 25 test examples\", 5)"
      ]
    },
    {
      "cell_type": "markdown",
      "metadata": {
        "id": "DBxL_0WRSPbw"
      },
      "source": [
        "## Autoencoders\n",
        "\n",
        "I choose to implement the DENOISING AUTOENCODERS."
      ]
    },
    {
      "cell_type": "code",
      "execution_count": null,
      "metadata": {
        "id": "UKBE5ENvryp-"
      },
      "outputs": [],
      "source": [
        "def add_noise(X, mean = 0, std = 0.2):\n",
        "  \"\"\"\n",
        "    Given X as a tensor, returns the X with gaussina noise added,\n",
        "    the gaussian noise is sampled with mean and std.\n",
        "\n",
        "    Args:\n",
        "        X (torch.Tensor): A torch Tensor with element in [0-1].\n",
        "        mean (int): mean of the gaussian noise.\n",
        "        std (int): standard deviation of the gaussian noise.\n",
        "    Returns:\n",
        "        torch.Tensor: A torch Tensor with noise added.\n",
        "  \"\"\"\n",
        "\n",
        "  # add gaussian noise\n",
        "  return X + torch.randn(X.shape)*std + mean"
      ]
    },
    {
      "cell_type": "code",
      "execution_count": null,
      "metadata": {
        "colab": {
          "base_uri": "https://localhost:8080/",
          "height": 726
        },
        "id": "mFA8jWB-gKJs",
        "outputId": "73349c1d-72df-4620-8a03-4f8c21aec6c1"
      },
      "outputs": [
        {
          "output_type": "display_data",
          "data": {
            "text/plain": [
              "<Figure size 720x720 with 25 Axes>"
            ],
            "image/png": "[encoded data removed]"
          },
          "metadata": {}
        }
      ],
      "source": [
        "show_table_images(add_noise(X_train[:25]).numpy(), \"First 25 noised train examples\", 5)"
      ]
    },
    {
      "cell_type": "code",
      "execution_count": null,
      "metadata": {
        "id": "JKKVWljO-EI1"
      },
      "outputs": [],
      "source": [
        "def evaluate_MSE(model, eval_dataset):\n",
        "  \"\"\"\n",
        "    Given an autoencoder model and a dataset,\n",
        "    return the MSE of the reconstruction.\n",
        "\n",
        "    Args:\n",
        "        model (torch.nn.Module): An autoencoder model.\n",
        "        eval_dataset (torch.Tensor) A dataset.\n",
        "    Returns:\n",
        "        float: MSE of the reconstruction over eval_dataset.\n",
        "  \"\"\"\n",
        "\n",
        "  model.to(device)\n",
        "  eval_dataset = eval_dataset.to(device)\n",
        "\n",
        "  with torch.no_grad():\n",
        "    eval_output = model(eval_dataset)\n",
        "\n",
        "    loss = F.mse_loss(eval_output, eval_dataset)\n",
        "  \n",
        "  return loss.item()"
      ]
    },
    {
      "cell_type": "code",
      "execution_count": 58,
      "metadata": {
        "id": "Z3M3e9yUvTeM"
      },
      "outputs": [],
      "source": [
        "def denoising_autoencoder_training(model, X_train, epochs, batch_size, learning_rate, X_test=None):\n",
        "  \"\"\"\n",
        "    Function to train a denoising autoencoder.\n",
        "    Use the ADAM as optimizer and the MSE as loss function.\n",
        "\n",
        "    Args:\n",
        "        model (torch.nn.Module): An autoencoder model.\n",
        "        X_train (torch.Tensor) Training dataset.\n",
        "        epochs (int): number of training epochs.\n",
        "        batch_size (int): number of elements in each mini-batch.\n",
        "        learning_rate (float): the learning rate parameter of the ADAM optimizer.\n",
        "        X_test (torch.Tensor): Test dataset.\n",
        "    Returns:\n",
        "        dict: loss curve over training and test datasets.\n",
        "  \"\"\"\n",
        "\n",
        "  # need to pass over the dataloader to avoid errors (not training) on cpu execution\n",
        "  train_loader = torch.utils.data.DataLoader(TensorDataset(X_train), batch_size=batch_size, shuffle=True)\n",
        "\n",
        "  model = model.to(device)\n",
        "\n",
        "  # create an optimizer object\n",
        "  # Adam optimizer\n",
        "  optimizer = optim.Adam(model.parameters(), lr=learning_rate)\n",
        "\n",
        "  # mean-squared error loss\n",
        "  criterion = nn.MSELoss()\n",
        "\n",
        "  history = {\"train_errors\": [], \"test_errors\" : []}\n",
        "\n",
        "  for epoch in range(epochs):\n",
        "    model.train()\n",
        "    for data in train_loader:\n",
        "      X_batch = data[0]\n",
        "\n",
        "      batch_features_in = add_noise(X_batch).to(device)\n",
        "      X_batch = X_batch.to(device)\n",
        "      \n",
        "      # reset the gradients back to zero\n",
        "      # PyTorch accumulates gradients on subsequent backward passes\n",
        "      optimizer.zero_grad()\n",
        "\n",
        "      # compute reconstructions\n",
        "      outputs = model(batch_features_in)\n",
        "      \n",
        "      # compute training reconstruction loss\n",
        "      train_loss = criterion(outputs, X_batch)      \n",
        "      \n",
        "      # compute accumulated gradients\n",
        "      train_loss.backward()\n",
        "      \n",
        "      # perform parameter update based on current gradients\n",
        "      optimizer.step()\n",
        "                      \n",
        "    # compute the error statistics over the traing and test dataset (if present)\n",
        "    epoch_train_error = evaluate_MSE(model, X_train)\n",
        "    history[\"train_errors\"].append(epoch_train_error)\n",
        "\n",
        "    if X_test is None:\n",
        "      print(f\"epoch : {epoch + 1}/{epochs}, train loss = {epoch_train_error:.6f}\")\n",
        "    else:\n",
        "      epoch_test_error = evaluate_MSE(model, X_test)\n",
        "      history[\"test_errors\"].append(epoch_test_error)\n",
        "      print(f\"epoch : {epoch + 1}/{epochs}, train loss = {epoch_train_error:.6f}, test loss = {epoch_test_error:.6f}\")\n",
        "\n",
        "  return history"
      ]
    },
    {
      "cell_type": "markdown",
      "metadata": {
        "id": "cle7KlvTSq30"
      },
      "source": [
        "### Single layer AutoEncoder"
      ]
    },
    {
      "cell_type": "code",
      "execution_count": null,
      "metadata": {
        "id": "IilsKOIESw8X"
      },
      "outputs": [],
      "source": [
        "class AE(nn.Module):\n",
        "  def __init__(self, input_shape=784, hidden_dimension=128, last=True):\n",
        "      super().__init__()\n",
        "\n",
        "      self.encoder_layer = nn.Linear(\n",
        "          in_features=input_shape, out_features=hidden_dimension\n",
        "      )\n",
        "      self.decoder_layer = nn.Linear(\n",
        "          in_features=hidden_dimension, out_features=input_shape\n",
        "      )\n",
        "\n",
        "      self.encoder_act = nn.ReLU()\n",
        "      if last:\n",
        "        self.decoder_act = nn.Sigmoid()\n",
        "      else:\n",
        "        self.decoder_act = nn.ReLU()\n",
        "\n",
        "\n",
        "  def encode(self, X):\n",
        "    \"\"\"\n",
        "      Encode method of the autoencoder.\n",
        "\n",
        "      Args:\n",
        "          X (torch.nn.Tensor): input tensor to encode.\n",
        "      Returns:\n",
        "          torch.nn.Tensor: encoded tensor.\n",
        "    \"\"\"\n",
        "\n",
        "    hidden = self.encoder_layer(X)\n",
        "    encoded = self.encoder_act(hidden)\n",
        "    \n",
        "    return encoded\n",
        "\n",
        "  def decode(self, X):\n",
        "    \"\"\"\n",
        "      Decode method of the autoencoder.\n",
        "\n",
        "      Args:\n",
        "          X (torch.nn.Tensor): input tensor to decode.\n",
        "      Returns:\n",
        "          torch.nn.Tensor: decoded tensor.\n",
        "    \"\"\"\n",
        "\n",
        "    output = self.decoder_layer(X)\n",
        "    decoded = self.decoder_act(output)\n",
        "\n",
        "    return decoded\n",
        "\n",
        "  def forward(self, features):\n",
        "    encoded = self.encode(features)\n",
        "    decoded = self.decode(encoded)\n",
        "    return decoded"
      ]
    },
    {
      "cell_type": "markdown",
      "metadata": {
        "id": "38k0SA2fxDn6"
      },
      "source": [
        "The chooses of the various hyperparameters are done after a screening phase, the comparison metric that lead me to the choosen hyperparameters didn't rely on the test error, which was added after the final choices for a better visualization of the performances.\n",
        "The performances reported in the following sections refer to the MSE w.r.t the output of the networks and the input without the noise part added.  "
      ]
    },
    {
      "cell_type": "code",
      "execution_count": null,
      "metadata": {
        "id": "UmalgmUxCq1m"
      },
      "outputs": [],
      "source": [
        "# define the number of epochs common to all shallow autoencoder training executions\n",
        "epochs = 20"
      ]
    },
    {
      "cell_type": "markdown",
      "metadata": {
        "id": "Tzj7dri5vmqt"
      },
      "source": [
        "Defining the Autoencoder object."
      ]
    },
    {
      "cell_type": "markdown",
      "metadata": {
        "id": "XpSQMGutlw38"
      },
      "source": [
        "Showing the computational graph of the forward phase of a shallow autoencoder"
      ]
    },
    {
      "cell_type": "code",
      "execution_count": 59,
      "metadata": {
        "id": "1DUsKY49sIq_"
      },
      "outputs": [],
      "source": [
        "ae = AE(input_shape=784, hidden_dimension=128)"
      ]
    },
    {
      "cell_type": "code",
      "execution_count": null,
      "metadata": {
        "colab": {
          "base_uri": "https://localhost:8080/",
          "height": 1000
        },
        "id": "Z5xn68cjiVLa",
        "outputId": "84370b9e-fc79-4fca-c409-95dd18aea106"
      },
      "outputs": [
        {
          "output_type": "execute_result",
          "data": {
            "text/plain": [
              "<graphviz.dot.Digraph at 0x7f3d60307e10>"
            ],
            "image/svg+xml": "<?xml version=\"1.0\" encoding=\"UTF-8\" standalone=\"no\"?>\n<!DOCTYPE svg PUBLIC \"-//W3C//DTD SVG 1.1//EN\"\n \"http://www.w3.org/Graphics/SVG/1.1/DTD/svg11.dtd\">\n<!-- Generated by graphviz version 2.40.1 (20161225.0304)\n -->\n<!-- Title: %3 Pages: 1 -->\n<svg width=\"394pt\" height=\"743pt\"\n viewBox=\"0.00 0.00 394.00 743.00\" xmlns=\"http://www.w3.org/2000/svg\" xmlns:xlink=\"http://www.w3.org/1999/xlink\">\n<g id=\"graph0\" class=\"graph\" transform=\"scale(1 1) rotate(0) translate(4 739)\">\n<title>%3</title>\n<polygon fill=\"#ffffff\" stroke=\"transparent\" points=\"-4,4 -4,-739 390,-739 390,4 -4,4\"/>\n<!-- 139901583380016 -->\n<g id=\"node1\" class=\"node\">\n<title>139901583380016</title>\n<polygon fill=\"#caff70\" stroke=\"#000000\" points=\"287.5,-31 233.5,-31 233.5,0 287.5,0 287.5,-31\"/>\n<text text-anchor=\"middle\" x=\"260.5\" y=\"-7\" font-family=\"monospace\" font-size=\"10.00\" fill=\"#000000\"> (784)</text>\n</g>\n<!-- 139901583523664 -->\n<g id=\"node2\" class=\"node\">\n<title>139901583523664</title>\n<polygon fill=\"#d3d3d3\" stroke=\"#000000\" points=\"317,-86 204,-86 204,-67 317,-67 317,-86\"/>\n<text text-anchor=\"middle\" x=\"260.5\" y=\"-74\" font-family=\"monospace\" font-size=\"10.00\" fill=\"#000000\">SigmoidBackward0</text>\n</g>\n<!-- 139901583523664&#45;&gt;139901583380016 -->\n<g id=\"edge19\" class=\"edge\">\n<title>139901583523664&#45;&gt;139901583380016</title>\n<path fill=\"none\" stroke=\"#000000\" d=\"M260.5,-66.9688C260.5,-60.1289 260.5,-50.5621 260.5,-41.5298\"/>\n<polygon fill=\"#000000\" stroke=\"#000000\" points=\"264.0001,-41.3678 260.5,-31.3678 257.0001,-41.3678 264.0001,-41.3678\"/>\n</g>\n<!-- 139901583521872 -->\n<g id=\"node3\" class=\"node\">\n<title>139901583521872</title>\n<polygon fill=\"#d3d3d3\" stroke=\"#000000\" points=\"305,-141 216,-141 216,-122 305,-122 305,-141\"/>\n<text text-anchor=\"middle\" x=\"260.5\" y=\"-129\" font-family=\"monospace\" font-size=\"10.00\" fill=\"#000000\">AddBackward0</text>\n</g>\n<!-- 139901583521872&#45;&gt;139901583523664 -->\n<g id=\"edge1\" class=\"edge\">\n<title>139901583521872&#45;&gt;139901583523664</title>\n<path fill=\"none\" stroke=\"#000000\" d=\"M260.5,-121.9197C260.5,-114.9083 260.5,-105.1442 260.5,-96.4652\"/>\n<polygon fill=\"#000000\" stroke=\"#000000\" points=\"264.0001,-96.3408 260.5,-86.3408 257.0001,-96.3409 264.0001,-96.3408\"/>\n</g>\n<!-- 139901583520464 -->\n<g id=\"node4\" class=\"node\">\n<title>139901583520464</title>\n<polygon fill=\"#d3d3d3\" stroke=\"#000000\" points=\"255,-196 142,-196 142,-177 255,-177 255,-196\"/>\n<text text-anchor=\"middle\" x=\"198.5\" y=\"-184\" font-family=\"monospace\" font-size=\"10.00\" fill=\"#000000\">SqueezeBackward3</text>\n</g>\n<!-- 139901583520464&#45;&gt;139901583521872 -->\n<g id=\"edge2\" class=\"edge\">\n<title>139901583520464&#45;&gt;139901583521872</title>\n<path fill=\"none\" stroke=\"#000000\" d=\"M209.2996,-176.9197C218.2572,-168.9735 231.2004,-157.4916 241.8318,-148.0605\"/>\n<polygon fill=\"#000000\" stroke=\"#000000\" points=\"244.2486,-150.5953 249.4067,-141.3408 239.6033,-145.3587 244.2486,-150.5953\"/>\n</g>\n<!-- 139901583523600 -->\n<g id=\"node5\" class=\"node\">\n<title>139901583523600</title>\n<polygon fill=\"#d3d3d3\" stroke=\"#000000\" points=\"240,-256.5 157,-256.5 157,-237.5 240,-237.5 240,-256.5\"/>\n<text text-anchor=\"middle\" x=\"198.5\" y=\"-244.5\" font-family=\"monospace\" font-size=\"10.00\" fill=\"#000000\">MmBackward0</text>\n</g>\n<!-- 139901583523600&#45;&gt;139901583520464 -->\n<g id=\"edge3\" class=\"edge\">\n<title>139901583523600&#45;&gt;139901583520464</title>\n<path fill=\"none\" stroke=\"#000000\" d=\"M198.5,-237.2796C198.5,-229.0376 198.5,-216.9457 198.5,-206.629\"/>\n<polygon fill=\"#000000\" stroke=\"#000000\" points=\"202.0001,-206.3972 198.5,-196.3972 195.0001,-206.3973 202.0001,-206.3972\"/>\n</g>\n<!-- 139901583523728 -->\n<g id=\"node6\" class=\"node\">\n<title>139901583523728</title>\n<polygon fill=\"#d3d3d3\" stroke=\"#000000\" points=\"202,-317 77,-317 77,-298 202,-298 202,-317\"/>\n<text text-anchor=\"middle\" x=\"139.5\" y=\"-305\" font-family=\"monospace\" font-size=\"10.00\" fill=\"#000000\">UnsqueezeBackward0</text>\n</g>\n<!-- 139901583523728&#45;&gt;139901583523600 -->\n<g id=\"edge4\" class=\"edge\">\n<title>139901583523728&#45;&gt;139901583523600</title>\n<path fill=\"none\" stroke=\"#000000\" d=\"M148.9794,-297.7796C157.7866,-288.7485 171.1016,-275.095 181.7074,-264.2195\"/>\n<polygon fill=\"#000000\" stroke=\"#000000\" points=\"184.3721,-266.5002 188.8481,-256.8972 179.3606,-261.6129 184.3721,-266.5002\"/>\n</g>\n<!-- 139901583522512 -->\n<g id=\"node7\" class=\"node\">\n<title>139901583522512</title>\n<polygon fill=\"#d3d3d3\" stroke=\"#000000\" points=\"181,-372 86,-372 86,-353 181,-353 181,-372\"/>\n<text text-anchor=\"middle\" x=\"133.5\" y=\"-360\" font-family=\"monospace\" font-size=\"10.00\" fill=\"#000000\">ReluBackward0</text>\n</g>\n<!-- 139901583522512&#45;&gt;139901583523728 -->\n<g id=\"edge5\" class=\"edge\">\n<title>139901583522512&#45;&gt;139901583523728</title>\n<path fill=\"none\" stroke=\"#000000\" d=\"M134.5451,-352.9197C135.31,-345.9083 136.3752,-336.1442 137.322,-327.4652\"/>\n<polygon fill=\"#000000\" stroke=\"#000000\" points=\"140.8213,-327.6614 138.4265,-317.3408 133.8625,-326.9023 140.8213,-327.6614\"/>\n</g>\n<!-- 139901583522192 -->\n<g id=\"node8\" class=\"node\">\n<title>139901583522192</title>\n<polygon fill=\"#d3d3d3\" stroke=\"#000000\" points=\"175,-432.5 86,-432.5 86,-413.5 175,-413.5 175,-432.5\"/>\n<text text-anchor=\"middle\" x=\"130.5\" y=\"-420.5\" font-family=\"monospace\" font-size=\"10.00\" fill=\"#000000\">AddBackward0</text>\n</g>\n<!-- 139901583522192&#45;&gt;139901583522512 -->\n<g id=\"edge6\" class=\"edge\">\n<title>139901583522192&#45;&gt;139901583522512</title>\n<path fill=\"none\" stroke=\"#000000\" d=\"M130.982,-413.2796C131.3907,-405.0376 131.9903,-392.9457 132.5019,-382.629\"/>\n<polygon fill=\"#000000\" stroke=\"#000000\" points=\"136.0096,-382.5583 133.0092,-372.3972 129.0182,-382.2116 136.0096,-382.5583\"/>\n</g>\n<!-- 139901583522704 -->\n<g id=\"node9\" class=\"node\">\n<title>139901583522704</title>\n<polygon fill=\"#d3d3d3\" stroke=\"#000000\" points=\"125,-493 12,-493 12,-474 125,-474 125,-493\"/>\n<text text-anchor=\"middle\" x=\"68.5\" y=\"-481\" font-family=\"monospace\" font-size=\"10.00\" fill=\"#000000\">SqueezeBackward3</text>\n</g>\n<!-- 139901583522704&#45;&gt;139901583522192 -->\n<g id=\"edge7\" class=\"edge\">\n<title>139901583522704&#45;&gt;139901583522192</title>\n<path fill=\"none\" stroke=\"#000000\" d=\"M78.4614,-473.7796C87.8063,-464.6608 101.9806,-450.8294 113.1774,-439.9035\"/>\n<polygon fill=\"#000000\" stroke=\"#000000\" points=\"115.6446,-442.3862 120.3574,-432.8972 110.7558,-437.3762 115.6446,-442.3862\"/>\n</g>\n<!-- 139901583523536 -->\n<g id=\"node10\" class=\"node\">\n<title>139901583523536</title>\n<polygon fill=\"#d3d3d3\" stroke=\"#000000\" points=\"110,-553.5 27,-553.5 27,-534.5 110,-534.5 110,-553.5\"/>\n<text text-anchor=\"middle\" x=\"68.5\" y=\"-541.5\" font-family=\"monospace\" font-size=\"10.00\" fill=\"#000000\">MmBackward0</text>\n</g>\n<!-- 139901583523536&#45;&gt;139901583522704 -->\n<g id=\"edge8\" class=\"edge\">\n<title>139901583523536&#45;&gt;139901583522704</title>\n<path fill=\"none\" stroke=\"#000000\" d=\"M68.5,-534.2796C68.5,-526.0376 68.5,-513.9457 68.5,-503.629\"/>\n<polygon fill=\"#000000\" stroke=\"#000000\" points=\"72.0001,-503.3972 68.5,-493.3972 65.0001,-503.3973 72.0001,-503.3972\"/>\n</g>\n<!-- 139901583521360 -->\n<g id=\"node11\" class=\"node\">\n<title>139901583521360</title>\n<polygon fill=\"#d3d3d3\" stroke=\"#000000\" points=\"107,-614 30,-614 30,-595 107,-595 107,-614\"/>\n<text text-anchor=\"middle\" x=\"68.5\" y=\"-602\" font-family=\"monospace\" font-size=\"10.00\" fill=\"#000000\">TBackward0</text>\n</g>\n<!-- 139901583521360&#45;&gt;139901583523536 -->\n<g id=\"edge9\" class=\"edge\">\n<title>139901583521360&#45;&gt;139901583523536</title>\n<path fill=\"none\" stroke=\"#000000\" d=\"M68.5,-594.7796C68.5,-586.5376 68.5,-574.4457 68.5,-564.129\"/>\n<polygon fill=\"#000000\" stroke=\"#000000\" points=\"72.0001,-563.8972 68.5,-553.8972 65.0001,-563.8973 72.0001,-563.8972\"/>\n</g>\n<!-- 139901583520784 -->\n<g id=\"node12\" class=\"node\">\n<title>139901583520784</title>\n<polygon fill=\"#d3d3d3\" stroke=\"#000000\" points=\"119,-669 18,-669 18,-650 119,-650 119,-669\"/>\n<text text-anchor=\"middle\" x=\"68.5\" y=\"-657\" font-family=\"monospace\" font-size=\"10.00\" fill=\"#000000\">AccumulateGrad</text>\n</g>\n<!-- 139901583520784&#45;&gt;139901583521360 -->\n<g id=\"edge10\" class=\"edge\">\n<title>139901583520784&#45;&gt;139901583521360</title>\n<path fill=\"none\" stroke=\"#000000\" d=\"M68.5,-649.9197C68.5,-642.9083 68.5,-633.1442 68.5,-624.4652\"/>\n<polygon fill=\"#000000\" stroke=\"#000000\" points=\"72.0001,-624.3408 68.5,-614.3408 65.0001,-624.3409 72.0001,-624.3408\"/>\n</g>\n<!-- 139901583885904 -->\n<g id=\"node13\" class=\"node\">\n<title>139901583885904</title>\n<polygon fill=\"#add8e6\" stroke=\"#000000\" points=\"137,-735 0,-735 0,-705 137,-705 137,-735\"/>\n<text text-anchor=\"middle\" x=\"68.5\" y=\"-723\" font-family=\"monospace\" font-size=\"10.00\" fill=\"#000000\">encoder_layer.weight</text>\n<text text-anchor=\"middle\" x=\"68.5\" y=\"-712\" font-family=\"monospace\" font-size=\"10.00\" fill=\"#000000\"> (128, 784)</text>\n</g>\n<!-- 139901583885904&#45;&gt;139901583520784 -->\n<g id=\"edge11\" class=\"edge\">\n<title>139901583885904&#45;&gt;139901583520784</title>\n<path fill=\"none\" stroke=\"#000000\" d=\"M68.5,-704.7333C68.5,-697.0322 68.5,-687.5977 68.5,-679.3414\"/>\n<polygon fill=\"#000000\" stroke=\"#000000\" points=\"72.0001,-679.0864 68.5,-669.0864 65.0001,-679.0864 72.0001,-679.0864\"/>\n</g>\n<!-- 139901583521104 -->\n<g id=\"node14\" class=\"node\">\n<title>139901583521104</title>\n<polygon fill=\"#d3d3d3\" stroke=\"#000000\" points=\"244,-493 143,-493 143,-474 244,-474 244,-493\"/>\n<text text-anchor=\"middle\" x=\"193.5\" y=\"-481\" font-family=\"monospace\" font-size=\"10.00\" fill=\"#000000\">AccumulateGrad</text>\n</g>\n<!-- 139901583521104&#45;&gt;139901583522192 -->\n<g id=\"edge12\" class=\"edge\">\n<title>139901583521104&#45;&gt;139901583522192</title>\n<path fill=\"none\" stroke=\"#000000\" d=\"M183.378,-473.7796C173.8823,-464.6608 159.4794,-450.8294 148.102,-439.9035\"/>\n<polygon fill=\"#000000\" stroke=\"#000000\" points=\"150.4433,-437.2993 140.8062,-432.8972 145.5947,-442.3482 150.4433,-437.2993\"/>\n</g>\n<!-- 139901583885616 -->\n<g id=\"node15\" class=\"node\">\n<title>139901583885616</title>\n<polygon fill=\"#add8e6\" stroke=\"#000000\" points=\"256,-559 131,-559 131,-529 256,-529 256,-559\"/>\n<text text-anchor=\"middle\" x=\"193.5\" y=\"-547\" font-family=\"monospace\" font-size=\"10.00\" fill=\"#000000\">encoder_layer.bias</text>\n<text text-anchor=\"middle\" x=\"193.5\" y=\"-536\" font-family=\"monospace\" font-size=\"10.00\" fill=\"#000000\"> (128)</text>\n</g>\n<!-- 139901583885616&#45;&gt;139901583521104 -->\n<g id=\"edge13\" class=\"edge\">\n<title>139901583885616&#45;&gt;139901583521104</title>\n<path fill=\"none\" stroke=\"#000000\" d=\"M193.5,-528.7333C193.5,-521.0322 193.5,-511.5977 193.5,-503.3414\"/>\n<polygon fill=\"#000000\" stroke=\"#000000\" points=\"197.0001,-503.0864 193.5,-493.0864 190.0001,-503.0864 197.0001,-503.0864\"/>\n</g>\n<!-- 139901583521296 -->\n<g id=\"node16\" class=\"node\">\n<title>139901583521296</title>\n<polygon fill=\"#d3d3d3\" stroke=\"#000000\" points=\"298,-317 221,-317 221,-298 298,-298 298,-317\"/>\n<text text-anchor=\"middle\" x=\"259.5\" y=\"-305\" font-family=\"monospace\" font-size=\"10.00\" fill=\"#000000\">TBackward0</text>\n</g>\n<!-- 139901583521296&#45;&gt;139901583523600 -->\n<g id=\"edge14\" class=\"edge\">\n<title>139901583521296&#45;&gt;139901583523600</title>\n<path fill=\"none\" stroke=\"#000000\" d=\"M249.6993,-297.7796C240.5935,-288.7485 226.8272,-275.095 215.8618,-264.2195\"/>\n<polygon fill=\"#000000\" stroke=\"#000000\" points=\"218.0438,-261.4541 208.479,-256.8972 213.1145,-266.4242 218.0438,-261.4541\"/>\n</g>\n<!-- 139901583521232 -->\n<g id=\"node17\" class=\"node\">\n<title>139901583521232</title>\n<polygon fill=\"#d3d3d3\" stroke=\"#000000\" points=\"311,-372 210,-372 210,-353 311,-353 311,-372\"/>\n<text text-anchor=\"middle\" x=\"260.5\" y=\"-360\" font-family=\"monospace\" font-size=\"10.00\" fill=\"#000000\">AccumulateGrad</text>\n</g>\n<!-- 139901583521232&#45;&gt;139901583521296 -->\n<g id=\"edge15\" class=\"edge\">\n<title>139901583521232&#45;&gt;139901583521296</title>\n<path fill=\"none\" stroke=\"#000000\" d=\"M260.3258,-352.9197C260.1983,-345.9083 260.0208,-336.1442 259.863,-327.4652\"/>\n<polygon fill=\"#000000\" stroke=\"#000000\" points=\"263.3602,-327.2755 259.6789,-317.3408 256.3614,-327.4028 263.3602,-327.2755\"/>\n</g>\n<!-- 139901583885808 -->\n<g id=\"node18\" class=\"node\">\n<title>139901583885808</title>\n<polygon fill=\"#add8e6\" stroke=\"#000000\" points=\"330,-438 193,-438 193,-408 330,-408 330,-438\"/>\n<text text-anchor=\"middle\" x=\"261.5\" y=\"-426\" font-family=\"monospace\" font-size=\"10.00\" fill=\"#000000\">decoder_layer.weight</text>\n<text text-anchor=\"middle\" x=\"261.5\" y=\"-415\" font-family=\"monospace\" font-size=\"10.00\" fill=\"#000000\"> (784, 128)</text>\n</g>\n<!-- 139901583885808&#45;&gt;139901583521232 -->\n<g id=\"edge16\" class=\"edge\">\n<title>139901583885808&#45;&gt;139901583521232</title>\n<path fill=\"none\" stroke=\"#000000\" d=\"M261.2477,-407.7333C261.1204,-400.0322 260.9644,-390.5977 260.828,-382.3414\"/>\n<polygon fill=\"#000000\" stroke=\"#000000\" points=\"264.3233,-382.0272 260.6585,-372.0864 257.3243,-382.1429 264.3233,-382.0272\"/>\n</g>\n<!-- 139901583521936 -->\n<g id=\"node19\" class=\"node\">\n<title>139901583521936</title>\n<polygon fill=\"#d3d3d3\" stroke=\"#000000\" points=\"374,-196 273,-196 273,-177 374,-177 374,-196\"/>\n<text text-anchor=\"middle\" x=\"323.5\" y=\"-184\" font-family=\"monospace\" font-size=\"10.00\" fill=\"#000000\">AccumulateGrad</text>\n</g>\n<!-- 139901583521936&#45;&gt;139901583521872 -->\n<g id=\"edge17\" class=\"edge\">\n<title>139901583521936&#45;&gt;139901583521872</title>\n<path fill=\"none\" stroke=\"#000000\" d=\"M312.5262,-176.9197C303.4242,-168.9735 290.2721,-157.4916 279.4693,-148.0605\"/>\n<polygon fill=\"#000000\" stroke=\"#000000\" points=\"281.6072,-145.2808 271.7722,-141.3408 277.0036,-150.5541 281.6072,-145.2808\"/>\n</g>\n<!-- 139901583886288 -->\n<g id=\"node20\" class=\"node\">\n<title>139901583886288</title>\n<polygon fill=\"#add8e6\" stroke=\"#000000\" points=\"386,-262 261,-262 261,-232 386,-232 386,-262\"/>\n<text text-anchor=\"middle\" x=\"323.5\" y=\"-250\" font-family=\"monospace\" font-size=\"10.00\" fill=\"#000000\">decoder_layer.bias</text>\n<text text-anchor=\"middle\" x=\"323.5\" y=\"-239\" font-family=\"monospace\" font-size=\"10.00\" fill=\"#000000\"> (784)</text>\n</g>\n<!-- 139901583886288&#45;&gt;139901583521936 -->\n<g id=\"edge18\" class=\"edge\">\n<title>139901583886288&#45;&gt;139901583521936</title>\n<path fill=\"none\" stroke=\"#000000\" d=\"M323.5,-231.7333C323.5,-224.0322 323.5,-214.5977 323.5,-206.3414\"/>\n<polygon fill=\"#000000\" stroke=\"#000000\" points=\"327.0001,-206.0864 323.5,-196.0864 320.0001,-206.0864 327.0001,-206.0864\"/>\n</g>\n</g>\n</svg>\n"
          },
          "metadata": {},
          "execution_count": 16
        }
      ],
      "source": [
        "make_dot(ae(X_train[0]), params=dict(ae.named_parameters()))"
      ]
    },
    {
      "cell_type": "markdown",
      "metadata": {
        "id": "hZPR5fEEwGLp"
      },
      "source": [
        "Training the Autoencoder for 20 epochs with batch size of 128 and a learnign rate of 0.001 (ADAM OPTIMIZER)"
      ]
    },
    {
      "cell_type": "code",
      "execution_count": 60,
      "metadata": {
        "colab": {
          "base_uri": "https://localhost:8080/"
        },
        "id": "spUr_PLXWpiy",
        "outputId": "c4210fe3-a86b-4664-8880-52b691b520e0"
      },
      "outputs": [
        {
          "output_type": "stream",
          "name": "stdout",
          "text": [
            "epoch : 1/20, train loss = 0.016673, test loss = 0.016434\n",
            "epoch : 2/20, train loss = 0.007920, test loss = 0.007812\n",
            "epoch : 3/20, train loss = 0.005454, test loss = 0.005431\n",
            "epoch : 4/20, train loss = 0.004378, test loss = 0.004391\n",
            "epoch : 5/20, train loss = 0.003815, test loss = 0.003846\n",
            "epoch : 6/20, train loss = 0.003376, test loss = 0.003426\n",
            "epoch : 7/20, train loss = 0.003122, test loss = 0.003185\n",
            "epoch : 8/20, train loss = 0.002861, test loss = 0.002944\n",
            "epoch : 9/20, train loss = 0.002745, test loss = 0.002836\n",
            "epoch : 10/20, train loss = 0.002608, test loss = 0.002707\n",
            "epoch : 11/20, train loss = 0.002488, test loss = 0.002591\n",
            "epoch : 12/20, train loss = 0.002435, test loss = 0.002548\n",
            "epoch : 13/20, train loss = 0.002397, test loss = 0.002507\n",
            "epoch : 14/20, train loss = 0.002357, test loss = 0.002469\n",
            "epoch : 15/20, train loss = 0.002289, test loss = 0.002406\n",
            "epoch : 16/20, train loss = 0.002235, test loss = 0.002356\n",
            "epoch : 17/20, train loss = 0.002212, test loss = 0.002336\n",
            "epoch : 18/20, train loss = 0.002218, test loss = 0.002346\n",
            "epoch : 19/20, train loss = 0.002174, test loss = 0.002300\n",
            "epoch : 20/20, train loss = 0.002160, test loss = 0.002292\n"
          ]
        }
      ],
      "source": [
        "history_ae = denoising_autoencoder_training(ae, X_train, epochs, 128, 1e-3, X_test=X_test)"
      ]
    },
    {
      "cell_type": "markdown",
      "metadata": {
        "id": "O4wGpOefwWGM"
      },
      "source": [
        "Plotting the traing and test error curve, we can see that the model fits well the training set as well as the test set"
      ]
    },
    {
      "cell_type": "code",
      "execution_count": null,
      "metadata": {
        "colab": {
          "base_uri": "https://localhost:8080/",
          "height": 265
        },
        "id": "x5-GBiRWailN",
        "outputId": "45a5b4d2-5cde-4b8a-9969-92c4bf026bbc"
      },
      "outputs": [
        {
          "output_type": "display_data",
          "data": {
            "text/plain": [
              "<Figure size 432x288 with 1 Axes>"
            ],
            "image/png": "[encoded data removed]"
          },
          "metadata": {
            "needs_background": "light"
          }
        }
      ],
      "source": [
        "plt.plot(np.arange(epochs)+1, history_ae[\"train_errors\"], label='train_errors')\n",
        "plt.plot(np.arange(epochs)+1, history_ae[\"test_errors\"], label=\"test_errors\")\n",
        "plt.legend()\n",
        "plt.show()"
      ]
    },
    {
      "cell_type": "code",
      "execution_count": null,
      "metadata": {
        "colab": {
          "base_uri": "https://localhost:8080/"
        },
        "id": "43Znl8ctqct9",
        "outputId": "a85a35e0-b7a9-4d2a-ceaa-bf1995062b03"
      },
      "outputs": [
        {
          "output_type": "stream",
          "name": "stdout",
          "text": [
            "Shallow Train MSE: 0.0020870626904070377\n",
            "Shallow Test MSE: 0.002215569606050849\n"
          ]
        }
      ],
      "source": [
        "print(f\"Shallow Train MSE: {evaluate_MSE(ae, X_train)}\")\n",
        "print(f\"Shallow Test MSE: {evaluate_MSE(ae, X_test)}\")"
      ]
    },
    {
      "cell_type": "markdown",
      "metadata": {
        "id": "c3KRSN2cYKEw"
      },
      "source": [
        "### Deep AutoEncoder"
      ]
    },
    {
      "cell_type": "code",
      "execution_count": null,
      "metadata": {
        "id": "6Ara5QDHYM9A"
      },
      "outputs": [],
      "source": [
        "class DAE(nn.Module):\n",
        "  \"\"\"\n",
        "    Deep Auto Encoder class.\n",
        "    It's implemented using the shallow autoencoder class, each layer is a shallow\n",
        "    autoencoder, them are putted into a list.\n",
        "\n",
        "    Args:\n",
        "        input_shape (int): the input dimension.\n",
        "        hidden_layers (list): the dimensions of the hidden layers (at least 2).\n",
        "  \"\"\"\n",
        "\n",
        "  def __init__(self, input_shape, hidden_layers=[128, 128]):\n",
        "    super().__init__()\n",
        "\n",
        "    if len(hidden_layers) < 2:\n",
        "      raise Exception(\"Deep Autoencoders have at least 2 hidden layers\")\n",
        "\n",
        "    self.autoencoders = [AE(input_shape, hidden_layers[0])]\n",
        "    \n",
        "    for dim_in, dim_out in zip(hidden_layers[:-2], hidden_layers[1:-1]):\n",
        "      self.autoencoders.append(AE(dim_in, dim_out, last=False))\n",
        "    self.autoencoders.append(AE(hidden_layers[-2], hidden_layers[-1], last=False))\n",
        "\n",
        "    self.autoencoders = nn.ModuleList(self.autoencoders)\n",
        "\n",
        "  def encode(self, X):\n",
        "    \"\"\"\n",
        "      Encode method of the autoencoder.\n",
        "\n",
        "      Args:\n",
        "          X (torch.nn.Tensor): input tensor to encode.\n",
        "      Returns:\n",
        "          torch.nn.Tensor: encoded tensor.\n",
        "    \"\"\"\n",
        "    \n",
        "    encoded = X\n",
        "    for autoencoder in self.autoencoders:\n",
        "      encoded = autoencoder.encode(encoded)\n",
        "    return encoded\n",
        "\n",
        "  def decode(self, X):\n",
        "    \"\"\"\n",
        "      Decode method of the autoencoder.\n",
        "\n",
        "      Args:\n",
        "          X (torch.nn.Tensor): input tensor to decode.\n",
        "      Returns:\n",
        "          torch.nn.Tensor: decoded tensor.\n",
        "    \"\"\"\n",
        "\n",
        "    decoded = X\n",
        "    for autoencoder in self.autoencoders[::-1]:\n",
        "      decoded = autoencoder.decode(decoded)\n",
        "    return decoded\n",
        "\n",
        "  def forward(self, X):\n",
        "    encoded = self.encode(X)\n",
        "    decoded = self.decode(encoded)\n",
        "    return decoded"
      ]
    },
    {
      "cell_type": "markdown",
      "metadata": {
        "id": "ox_1A2In9BPF"
      },
      "source": [
        "In the following cell there is the function that permit the pretraining of a deep denoise autoencoder, I train all Shallow Autoencoder in the Deep one, the i-autoencoder is trained on the noised latent representation of the (i-1)-autoencoder, the first latent representation is given by the first autoencoder's encoder part taking in input the clear dataset."
      ]
    },
    {
      "cell_type": "code",
      "execution_count": null,
      "metadata": {
        "id": "5gcmyehwh1Tn"
      },
      "outputs": [],
      "source": [
        "def denoising_autoencoder_pretraining(model, X_train, epochs, batch_size, learning_rate):\n",
        "  \"\"\"\n",
        "    Perform layer-wise pretraining of a deep denoising autoencoder.\n",
        "    Based on the denoising_autoencoder_training function to learn each layer.\n",
        "\n",
        "    Args:\n",
        "        model (torch.nn.Module): a deep autoencoder model.\n",
        "        X_train (torch.Tensor) Training dataset.\n",
        "        epochs (int): number of training epochs for each layer.\n",
        "        batch_size (int): number of elements in each mini-batch for each layer.\n",
        "        learning_rate (float): the learning rate parameter of the ADAM optimizer for each layer.\n",
        "  \"\"\"\n",
        "\n",
        "  for autoencoder in model.autoencoders:\n",
        "    denoising_autoencoder_training(autoencoder, X_train, epochs, batch_size, learning_rate)\n",
        "    \n",
        "    # create the latent space rapresentation of the shallow autoencoder's hidden layer just trained\n",
        "    with torch.no_grad():  \n",
        "      X_train = autoencoder.encode(X_train.to(device))\n",
        "      X_train = X_train.cpu() # move the dataset to the cpu"
      ]
    },
    {
      "cell_type": "code",
      "execution_count": 72,
      "metadata": {
        "id": "Dxbjiz8XykNK"
      },
      "outputs": [],
      "source": [
        "deep_autoencoders_layers = [512, 256, 128]"
      ]
    },
    {
      "cell_type": "markdown",
      "source": [
        "to train the deep autoencoders are needed more epochs"
      ],
      "metadata": {
        "id": "-iYpMilf36s6"
      }
    },
    {
      "cell_type": "code",
      "source": [
        "# define the number of epochs common to all deep autoencoder training executions\n",
        "epochs_deep = 40"
      ],
      "metadata": {
        "id": "Puo4_oy334gr"
      },
      "execution_count": 73,
      "outputs": []
    },
    {
      "cell_type": "markdown",
      "metadata": {
        "id": "PdS3GaFFCpq1"
      },
      "source": [
        "### Denoising AutoEncoder with only pretraining"
      ]
    },
    {
      "cell_type": "markdown",
      "metadata": {
        "id": "nIACpszuxqNa"
      },
      "source": [
        "Defining the Deep Autoencoder that will be learned only with the pretraining phase"
      ]
    },
    {
      "cell_type": "code",
      "execution_count": 74,
      "metadata": {
        "id": "HZs0Bi-yqJkQ"
      },
      "outputs": [],
      "source": [
        "dae1 = DAE(784, deep_autoencoders_layers)"
      ]
    },
    {
      "cell_type": "markdown",
      "metadata": {
        "id": "x9Zc0VRdiRKN"
      },
      "source": [
        "Showing the computational graph of the forward phase of a deep autoencoder\n"
      ]
    },
    {
      "cell_type": "code",
      "execution_count": 75,
      "metadata": {
        "colab": {
          "base_uri": "https://localhost:8080/",
          "height": 1000
        },
        "id": "0XPGaczfiNjw",
        "outputId": "cbb33728-099c-4103-de3d-e96add425d1e"
      },
      "outputs": [
        {
          "output_type": "execute_result",
          "data": {
            "text/plain": [
              "<graphviz.dot.Digraph at 0x7f3d460a0390>"
            ],
            "image/svg+xml": "<?xml version=\"1.0\" encoding=\"UTF-8\" standalone=\"no\"?>\n<!DOCTYPE svg PUBLIC \"-//W3C//DTD SVG 1.1//EN\"\n \"http://www.w3.org/Graphics/SVG/1.1/DTD/svg11.dtd\">\n<!-- Generated by graphviz version 2.40.1 (20161225.0304)\n -->\n<!-- Title: %3 Pages: 1 -->\n<svg width=\"876pt\" height=\"1285pt\"\n viewBox=\"0.00 0.00 875.74 1285.00\" xmlns=\"http://www.w3.org/2000/svg\" xmlns:xlink=\"http://www.w3.org/1999/xlink\">\n<g id=\"graph0\" class=\"graph\" transform=\"scale(.6655 .6655) rotate(0) translate(4 1927)\">\n<title>%3</title>\n<polygon fill=\"#ffffff\" stroke=\"transparent\" points=\"-4,4 -4,-1927 1312,-1927 1312,4 -4,4\"/>\n<!-- 139901145769840 -->\n<g id=\"node1\" class=\"node\">\n<title>139901145769840</title>\n<polygon fill=\"#caff70\" stroke=\"#000000\" points=\"1143.5,-31 1089.5,-31 1089.5,0 1143.5,0 1143.5,-31\"/>\n<text text-anchor=\"middle\" x=\"1116.5\" y=\"-7\" font-family=\"monospace\" font-size=\"10.00\" fill=\"#000000\"> (784)</text>\n</g>\n<!-- 139901144793872 -->\n<g id=\"node2\" class=\"node\">\n<title>139901144793872</title>\n<polygon fill=\"#d3d3d3\" stroke=\"#000000\" points=\"1173,-86 1060,-86 1060,-67 1173,-67 1173,-86\"/>\n<text text-anchor=\"middle\" x=\"1116.5\" y=\"-74\" font-family=\"monospace\" font-size=\"10.00\" fill=\"#000000\">SigmoidBackward0</text>\n</g>\n<!-- 139901144793872&#45;&gt;139901145769840 -->\n<g id=\"edge59\" class=\"edge\">\n<title>139901144793872&#45;&gt;139901145769840</title>\n<path fill=\"none\" stroke=\"#000000\" d=\"M1116.5,-66.9688C1116.5,-60.1289 1116.5,-50.5621 1116.5,-41.5298\"/>\n<polygon fill=\"#000000\" stroke=\"#000000\" points=\"1120.0001,-41.3678 1116.5,-31.3678 1113.0001,-41.3678 1120.0001,-41.3678\"/>\n</g>\n<!-- 139901144794064 -->\n<g id=\"node3\" class=\"node\">\n<title>139901144794064</title>\n<polygon fill=\"#d3d3d3\" stroke=\"#000000\" points=\"1161,-141 1072,-141 1072,-122 1161,-122 1161,-141\"/>\n<text text-anchor=\"middle\" x=\"1116.5\" y=\"-129\" font-family=\"monospace\" font-size=\"10.00\" fill=\"#000000\">AddBackward0</text>\n</g>\n<!-- 139901144794064&#45;&gt;139901144793872 -->\n<g id=\"edge1\" class=\"edge\">\n<title>139901144794064&#45;&gt;139901144793872</title>\n<path fill=\"none\" stroke=\"#000000\" d=\"M1116.5,-121.9197C1116.5,-114.9083 1116.5,-105.1442 1116.5,-96.4652\"/>\n<polygon fill=\"#000000\" stroke=\"#000000\" points=\"1120.0001,-96.3408 1116.5,-86.3408 1113.0001,-96.3409 1120.0001,-96.3408\"/>\n</g>\n<!-- 139901144796816 -->\n<g id=\"node4\" class=\"node\">\n<title>139901144796816</title>\n<polygon fill=\"#d3d3d3\" stroke=\"#000000\" points=\"1100,-196 987,-196 987,-177 1100,-177 1100,-196\"/>\n<text text-anchor=\"middle\" x=\"1043.5\" y=\"-184\" font-family=\"monospace\" font-size=\"10.00\" fill=\"#000000\">SqueezeBackward3</text>\n</g>\n<!-- 139901144796816&#45;&gt;139901144794064 -->\n<g id=\"edge2\" class=\"edge\">\n<title>139901144796816&#45;&gt;139901144794064</title>\n<path fill=\"none\" stroke=\"#000000\" d=\"M1056.2156,-176.9197C1066.9693,-168.8177 1082.6016,-157.0399 1095.2528,-147.5082\"/>\n<polygon fill=\"#000000\" stroke=\"#000000\" points=\"1097.5578,-150.1538 1103.4385,-141.3408 1093.3455,-144.563 1097.5578,-150.1538\"/>\n</g>\n<!-- 139901144793232 -->\n<g id=\"node5\" class=\"node\">\n<title>139901144793232</title>\n<polygon fill=\"#d3d3d3\" stroke=\"#000000\" points=\"1075,-256.5 992,-256.5 992,-237.5 1075,-237.5 1075,-256.5\"/>\n<text text-anchor=\"middle\" x=\"1033.5\" y=\"-244.5\" font-family=\"monospace\" font-size=\"10.00\" fill=\"#000000\">MmBackward0</text>\n</g>\n<!-- 139901144793232&#45;&gt;139901144796816 -->\n<g id=\"edge3\" class=\"edge\">\n<title>139901144793232&#45;&gt;139901144796816</title>\n<path fill=\"none\" stroke=\"#000000\" d=\"M1035.1067,-237.2796C1036.4835,-228.9499 1038.5102,-216.688 1040.2272,-206.3004\"/>\n<polygon fill=\"#000000\" stroke=\"#000000\" points=\"1043.6864,-206.8342 1041.8641,-196.3972 1036.7801,-205.6926 1043.6864,-206.8342\"/>\n</g>\n<!-- 139901144793296 -->\n<g id=\"node6\" class=\"node\">\n<title>139901144793296</title>\n<polygon fill=\"#d3d3d3\" stroke=\"#000000\" points=\"1037,-317 912,-317 912,-298 1037,-298 1037,-317\"/>\n<text text-anchor=\"middle\" x=\"974.5\" y=\"-305\" font-family=\"monospace\" font-size=\"10.00\" fill=\"#000000\">UnsqueezeBackward0</text>\n</g>\n<!-- 139901144793296&#45;&gt;139901144793232 -->\n<g id=\"edge4\" class=\"edge\">\n<title>139901144793296&#45;&gt;139901144793232</title>\n<path fill=\"none\" stroke=\"#000000\" d=\"M983.9794,-297.7796C992.7866,-288.7485 1006.1016,-275.095 1016.7074,-264.2195\"/>\n<polygon fill=\"#000000\" stroke=\"#000000\" points=\"1019.3721,-266.5002 1023.8481,-256.8972 1014.3606,-261.6129 1019.3721,-266.5002\"/>\n</g>\n<!-- 139901144794960 -->\n<g id=\"node7\" class=\"node\">\n<title>139901144794960</title>\n<polygon fill=\"#d3d3d3\" stroke=\"#000000\" points=\"994,-372 899,-372 899,-353 994,-353 994,-372\"/>\n<text text-anchor=\"middle\" x=\"946.5\" y=\"-360\" font-family=\"monospace\" font-size=\"10.00\" fill=\"#000000\">ReluBackward0</text>\n</g>\n<!-- 139901144794960&#45;&gt;139901144793296 -->\n<g id=\"edge5\" class=\"edge\">\n<title>139901144794960&#45;&gt;139901144793296</title>\n<path fill=\"none\" stroke=\"#000000\" d=\"M951.3772,-352.9197C955.1053,-345.5967 960.3621,-335.2709 964.9216,-326.3147\"/>\n<polygon fill=\"#000000\" stroke=\"#000000\" points=\"968.0723,-327.8404 969.4901,-317.3408 961.8342,-324.6646 968.0723,-327.8404\"/>\n</g>\n<!-- 139901144796048 -->\n<g id=\"node8\" class=\"node\">\n<title>139901144796048</title>\n<polygon fill=\"#d3d3d3\" stroke=\"#000000\" points=\"977,-432.5 888,-432.5 888,-413.5 977,-413.5 977,-432.5\"/>\n<text text-anchor=\"middle\" x=\"932.5\" y=\"-420.5\" font-family=\"monospace\" font-size=\"10.00\" fill=\"#000000\">AddBackward0</text>\n</g>\n<!-- 139901144796048&#45;&gt;139901144794960 -->\n<g id=\"edge6\" class=\"edge\">\n<title>139901144796048&#45;&gt;139901144794960</title>\n<path fill=\"none\" stroke=\"#000000\" d=\"M934.7493,-413.2796C936.6769,-404.9499 939.5143,-392.688 941.9181,-382.3004\"/>\n<polygon fill=\"#000000\" stroke=\"#000000\" points=\"945.3651,-382.9289 944.2097,-372.3972 938.5453,-381.3507 945.3651,-382.9289\"/>\n</g>\n<!-- 139901144797008 -->\n<g id=\"node9\" class=\"node\">\n<title>139901144797008</title>\n<polygon fill=\"#d3d3d3\" stroke=\"#000000\" points=\"927,-493 814,-493 814,-474 927,-474 927,-493\"/>\n<text text-anchor=\"middle\" x=\"870.5\" y=\"-481\" font-family=\"monospace\" font-size=\"10.00\" fill=\"#000000\">SqueezeBackward3</text>\n</g>\n<!-- 139901144797008&#45;&gt;139901144796048 -->\n<g id=\"edge7\" class=\"edge\">\n<title>139901144797008&#45;&gt;139901144796048</title>\n<path fill=\"none\" stroke=\"#000000\" d=\"M880.4614,-473.7796C889.8063,-464.6608 903.9806,-450.8294 915.1774,-439.9035\"/>\n<polygon fill=\"#000000\" stroke=\"#000000\" points=\"917.6446,-442.3862 922.3574,-432.8972 912.7558,-437.3762 917.6446,-442.3862\"/>\n</g>\n<!-- 139901144794768 -->\n<g id=\"node10\" class=\"node\">\n<title>139901144794768</title>\n<polygon fill=\"#d3d3d3\" stroke=\"#000000\" points=\"891,-553.5 808,-553.5 808,-534.5 891,-534.5 891,-553.5\"/>\n<text text-anchor=\"middle\" x=\"849.5\" y=\"-541.5\" font-family=\"monospace\" font-size=\"10.00\" fill=\"#000000\">MmBackward0</text>\n</g>\n<!-- 139901144794768&#45;&gt;139901144797008 -->\n<g id=\"edge8\" class=\"edge\">\n<title>139901144794768&#45;&gt;139901144797008</title>\n<path fill=\"none\" stroke=\"#000000\" d=\"M852.874,-534.2796C855.7957,-525.8623 860.1113,-513.4295 863.7408,-502.973\"/>\n<polygon fill=\"#000000\" stroke=\"#000000\" points=\"867.0919,-503.992 867.0646,-493.3972 860.4789,-501.6966 867.0919,-503.992\"/>\n</g>\n<!-- 139901144794192 -->\n<g id=\"node11\" class=\"node\">\n<title>139901144794192</title>\n<polygon fill=\"#d3d3d3\" stroke=\"#000000\" points=\"853,-614 728,-614 728,-595 853,-595 853,-614\"/>\n<text text-anchor=\"middle\" x=\"790.5\" y=\"-602\" font-family=\"monospace\" font-size=\"10.00\" fill=\"#000000\">UnsqueezeBackward0</text>\n</g>\n<!-- 139901144794192&#45;&gt;139901144794768 -->\n<g id=\"edge9\" class=\"edge\">\n<title>139901144794192&#45;&gt;139901144794768</title>\n<path fill=\"none\" stroke=\"#000000\" d=\"M799.9794,-594.7796C808.7866,-585.7485 822.1016,-572.095 832.7074,-561.2195\"/>\n<polygon fill=\"#000000\" stroke=\"#000000\" points=\"835.3721,-563.5002 839.8481,-553.8972 830.3606,-558.6129 835.3721,-563.5002\"/>\n</g>\n<!-- 139901144795600 -->\n<g id=\"node12\" class=\"node\">\n<title>139901144795600</title>\n<polygon fill=\"#d3d3d3\" stroke=\"#000000\" points=\"810,-669 715,-669 715,-650 810,-650 810,-669\"/>\n<text text-anchor=\"middle\" x=\"762.5\" y=\"-657\" font-family=\"monospace\" font-size=\"10.00\" fill=\"#000000\">ReluBackward0</text>\n</g>\n<!-- 139901144795600&#45;&gt;139901144794192 -->\n<g id=\"edge10\" class=\"edge\">\n<title>139901144795600&#45;&gt;139901144794192</title>\n<path fill=\"none\" stroke=\"#000000\" d=\"M767.3772,-649.9197C771.1053,-642.5967 776.3621,-632.2709 780.9216,-623.3147\"/>\n<polygon fill=\"#000000\" stroke=\"#000000\" points=\"784.0723,-624.8404 785.4901,-614.3408 777.8342,-621.6646 784.0723,-624.8404\"/>\n</g>\n<!-- 139901144796752 -->\n<g id=\"node13\" class=\"node\">\n<title>139901144796752</title>\n<polygon fill=\"#d3d3d3\" stroke=\"#000000\" points=\"793,-729.5 704,-729.5 704,-710.5 793,-710.5 793,-729.5\"/>\n<text text-anchor=\"middle\" x=\"748.5\" y=\"-717.5\" font-family=\"monospace\" font-size=\"10.00\" fill=\"#000000\">AddBackward0</text>\n</g>\n<!-- 139901144796752&#45;&gt;139901144795600 -->\n<g id=\"edge11\" class=\"edge\">\n<title>139901144796752&#45;&gt;139901144795600</title>\n<path fill=\"none\" stroke=\"#000000\" d=\"M750.7493,-710.2796C752.6769,-701.9499 755.5143,-689.688 757.9181,-679.3004\"/>\n<polygon fill=\"#000000\" stroke=\"#000000\" points=\"761.3651,-679.9289 760.2097,-669.3972 754.5453,-678.3507 761.3651,-679.9289\"/>\n</g>\n<!-- 139901144795088 -->\n<g id=\"node14\" class=\"node\">\n<title>139901144795088</title>\n<polygon fill=\"#d3d3d3\" stroke=\"#000000\" points=\"743,-790 630,-790 630,-771 743,-771 743,-790\"/>\n<text text-anchor=\"middle\" x=\"686.5\" y=\"-778\" font-family=\"monospace\" font-size=\"10.00\" fill=\"#000000\">SqueezeBackward3</text>\n</g>\n<!-- 139901144795088&#45;&gt;139901144796752 -->\n<g id=\"edge12\" class=\"edge\">\n<title>139901144795088&#45;&gt;139901144796752</title>\n<path fill=\"none\" stroke=\"#000000\" d=\"M696.4614,-770.7796C705.8063,-761.6608 719.9806,-747.8294 731.1774,-736.9035\"/>\n<polygon fill=\"#000000\" stroke=\"#000000\" points=\"733.6446,-739.3862 738.3574,-729.8972 728.7558,-734.3762 733.6446,-739.3862\"/>\n</g>\n<!-- 139901144794512 -->\n<g id=\"node15\" class=\"node\">\n<title>139901144794512</title>\n<polygon fill=\"#d3d3d3\" stroke=\"#000000\" points=\"707,-850.5 624,-850.5 624,-831.5 707,-831.5 707,-850.5\"/>\n<text text-anchor=\"middle\" x=\"665.5\" y=\"-838.5\" font-family=\"monospace\" font-size=\"10.00\" fill=\"#000000\">MmBackward0</text>\n</g>\n<!-- 139901144794512&#45;&gt;139901144795088 -->\n<g id=\"edge13\" class=\"edge\">\n<title>139901144794512&#45;&gt;139901144795088</title>\n<path fill=\"none\" stroke=\"#000000\" d=\"M668.874,-831.2796C671.7957,-822.8623 676.1113,-810.4295 679.7408,-799.973\"/>\n<polygon fill=\"#000000\" stroke=\"#000000\" points=\"683.0919,-800.992 683.0646,-790.3972 676.4789,-798.6966 683.0919,-800.992\"/>\n</g>\n<!-- 139901144796368 -->\n<g id=\"node16\" class=\"node\">\n<title>139901144796368</title>\n<polygon fill=\"#d3d3d3\" stroke=\"#000000\" points=\"669,-911 544,-911 544,-892 669,-892 669,-911\"/>\n<text text-anchor=\"middle\" x=\"606.5\" y=\"-899\" font-family=\"monospace\" font-size=\"10.00\" fill=\"#000000\">UnsqueezeBackward0</text>\n</g>\n<!-- 139901144796368&#45;&gt;139901144794512 -->\n<g id=\"edge14\" class=\"edge\">\n<title>139901144796368&#45;&gt;139901144794512</title>\n<path fill=\"none\" stroke=\"#000000\" d=\"M615.9794,-891.7796C624.7866,-882.7485 638.1016,-869.095 648.7074,-858.2195\"/>\n<polygon fill=\"#000000\" stroke=\"#000000\" points=\"651.3721,-860.5002 655.8481,-850.8972 646.3606,-855.6129 651.3721,-860.5002\"/>\n</g>\n<!-- 139901144795472 -->\n<g id=\"node17\" class=\"node\">\n<title>139901144795472</title>\n<polygon fill=\"#d3d3d3\" stroke=\"#000000\" points=\"626,-966 531,-966 531,-947 626,-947 626,-966\"/>\n<text text-anchor=\"middle\" x=\"578.5\" y=\"-954\" font-family=\"monospace\" font-size=\"10.00\" fill=\"#000000\">ReluBackward0</text>\n</g>\n<!-- 139901144795472&#45;&gt;139901144796368 -->\n<g id=\"edge15\" class=\"edge\">\n<title>139901144795472&#45;&gt;139901144796368</title>\n<path fill=\"none\" stroke=\"#000000\" d=\"M583.3772,-946.9197C587.1053,-939.5967 592.3621,-929.2709 596.9216,-920.3147\"/>\n<polygon fill=\"#000000\" stroke=\"#000000\" points=\"600.0723,-921.8404 601.4901,-911.3408 593.8342,-918.6646 600.0723,-921.8404\"/>\n</g>\n<!-- 139901144794128 -->\n<g id=\"node18\" class=\"node\">\n<title>139901144794128</title>\n<polygon fill=\"#d3d3d3\" stroke=\"#000000\" points=\"609,-1026.5 520,-1026.5 520,-1007.5 609,-1007.5 609,-1026.5\"/>\n<text text-anchor=\"middle\" x=\"564.5\" y=\"-1014.5\" font-family=\"monospace\" font-size=\"10.00\" fill=\"#000000\">AddBackward0</text>\n</g>\n<!-- 139901144794128&#45;&gt;139901144795472 -->\n<g id=\"edge16\" class=\"edge\">\n<title>139901144794128&#45;&gt;139901144795472</title>\n<path fill=\"none\" stroke=\"#000000\" d=\"M566.7493,-1007.2796C568.6769,-998.9499 571.5143,-986.688 573.9181,-976.3004\"/>\n<polygon fill=\"#000000\" stroke=\"#000000\" points=\"577.3651,-976.9289 576.2097,-966.3972 570.5453,-975.3507 577.3651,-976.9289\"/>\n</g>\n<!-- 139901144796880 -->\n<g id=\"node19\" class=\"node\">\n<title>139901144796880</title>\n<polygon fill=\"#d3d3d3\" stroke=\"#000000\" points=\"559,-1087 446,-1087 446,-1068 559,-1068 559,-1087\"/>\n<text text-anchor=\"middle\" x=\"502.5\" y=\"-1075\" font-family=\"monospace\" font-size=\"10.00\" fill=\"#000000\">SqueezeBackward3</text>\n</g>\n<!-- 139901144796880&#45;&gt;139901144794128 -->\n<g id=\"edge17\" class=\"edge\">\n<title>139901144796880&#45;&gt;139901144794128</title>\n<path fill=\"none\" stroke=\"#000000\" d=\"M512.4614,-1067.7796C521.8063,-1058.6608 535.9806,-1044.8294 547.1774,-1033.9035\"/>\n<polygon fill=\"#000000\" stroke=\"#000000\" points=\"549.6446,-1036.3862 554.3574,-1026.8972 544.7558,-1031.3762 549.6446,-1036.3862\"/>\n</g>\n<!-- 139901145142608 -->\n<g id=\"node20\" class=\"node\">\n<title>139901145142608</title>\n<polygon fill=\"#d3d3d3\" stroke=\"#000000\" points=\"523,-1147.5 440,-1147.5 440,-1128.5 523,-1128.5 523,-1147.5\"/>\n<text text-anchor=\"middle\" x=\"481.5\" y=\"-1135.5\" font-family=\"monospace\" font-size=\"10.00\" fill=\"#000000\">MmBackward0</text>\n</g>\n<!-- 139901145142608&#45;&gt;139901144796880 -->\n<g id=\"edge18\" class=\"edge\">\n<title>139901145142608&#45;&gt;139901144796880</title>\n<path fill=\"none\" stroke=\"#000000\" d=\"M484.874,-1128.2796C487.7957,-1119.8623 492.1113,-1107.4295 495.7408,-1096.973\"/>\n<polygon fill=\"#000000\" stroke=\"#000000\" points=\"499.0919,-1097.992 499.0646,-1087.3972 492.4789,-1095.6966 499.0919,-1097.992\"/>\n</g>\n<!-- 139901145144144 -->\n<g id=\"node21\" class=\"node\">\n<title>139901145144144</title>\n<polygon fill=\"#d3d3d3\" stroke=\"#000000\" points=\"485,-1208 360,-1208 360,-1189 485,-1189 485,-1208\"/>\n<text text-anchor=\"middle\" x=\"422.5\" y=\"-1196\" font-family=\"monospace\" font-size=\"10.00\" fill=\"#000000\">UnsqueezeBackward0</text>\n</g>\n<!-- 139901145144144&#45;&gt;139901145142608 -->\n<g id=\"edge19\" class=\"edge\">\n<title>139901145144144&#45;&gt;139901145142608</title>\n<path fill=\"none\" stroke=\"#000000\" d=\"M431.9794,-1188.7796C440.7866,-1179.7485 454.1016,-1166.095 464.7074,-1155.2195\"/>\n<polygon fill=\"#000000\" stroke=\"#000000\" points=\"467.3721,-1157.5002 471.8481,-1147.8972 462.3606,-1152.6129 467.3721,-1157.5002\"/>\n</g>\n<!-- 139901145308304 -->\n<g id=\"node22\" class=\"node\">\n<title>139901145308304</title>\n<polygon fill=\"#d3d3d3\" stroke=\"#000000\" points=\"442,-1263 347,-1263 347,-1244 442,-1244 442,-1263\"/>\n<text text-anchor=\"middle\" x=\"394.5\" y=\"-1251\" font-family=\"monospace\" font-size=\"10.00\" fill=\"#000000\">ReluBackward0</text>\n</g>\n<!-- 139901145308304&#45;&gt;139901145144144 -->\n<g id=\"edge20\" class=\"edge\">\n<title>139901145308304&#45;&gt;139901145144144</title>\n<path fill=\"none\" stroke=\"#000000\" d=\"M399.3772,-1243.9197C403.1053,-1236.5967 408.3621,-1226.2709 412.9216,-1217.3147\"/>\n<polygon fill=\"#000000\" stroke=\"#000000\" points=\"416.0723,-1218.8404 417.4901,-1208.3408 409.8342,-1215.6646 416.0723,-1218.8404\"/>\n</g>\n<!-- 139901145308560 -->\n<g id=\"node23\" class=\"node\">\n<title>139901145308560</title>\n<polygon fill=\"#d3d3d3\" stroke=\"#000000\" points=\"425,-1323.5 336,-1323.5 336,-1304.5 425,-1304.5 425,-1323.5\"/>\n<text text-anchor=\"middle\" x=\"380.5\" y=\"-1311.5\" font-family=\"monospace\" font-size=\"10.00\" fill=\"#000000\">AddBackward0</text>\n</g>\n<!-- 139901145308560&#45;&gt;139901145308304 -->\n<g id=\"edge21\" class=\"edge\">\n<title>139901145308560&#45;&gt;139901145308304</title>\n<path fill=\"none\" stroke=\"#000000\" d=\"M382.7493,-1304.2796C384.6769,-1295.9499 387.5143,-1283.688 389.9181,-1273.3004\"/>\n<polygon fill=\"#000000\" stroke=\"#000000\" points=\"393.3651,-1273.9289 392.2097,-1263.3972 386.5453,-1272.3507 393.3651,-1273.9289\"/>\n</g>\n<!-- 139901145305616 -->\n<g id=\"node24\" class=\"node\">\n<title>139901145305616</title>\n<polygon fill=\"#d3d3d3\" stroke=\"#000000\" points=\"375,-1384 262,-1384 262,-1365 375,-1365 375,-1384\"/>\n<text text-anchor=\"middle\" x=\"318.5\" y=\"-1372\" font-family=\"monospace\" font-size=\"10.00\" fill=\"#000000\">SqueezeBackward3</text>\n</g>\n<!-- 139901145305616&#45;&gt;139901145308560 -->\n<g id=\"edge22\" class=\"edge\">\n<title>139901145305616&#45;&gt;139901145308560</title>\n<path fill=\"none\" stroke=\"#000000\" d=\"M328.4614,-1364.7796C337.8063,-1355.6608 351.9806,-1341.8294 363.1774,-1330.9035\"/>\n<polygon fill=\"#000000\" stroke=\"#000000\" points=\"365.6446,-1333.3862 370.3574,-1323.8972 360.7558,-1328.3762 365.6446,-1333.3862\"/>\n</g>\n<!-- 139901145307344 -->\n<g id=\"node25\" class=\"node\">\n<title>139901145307344</title>\n<polygon fill=\"#d3d3d3\" stroke=\"#000000\" points=\"339,-1444.5 256,-1444.5 256,-1425.5 339,-1425.5 339,-1444.5\"/>\n<text text-anchor=\"middle\" x=\"297.5\" y=\"-1432.5\" font-family=\"monospace\" font-size=\"10.00\" fill=\"#000000\">MmBackward0</text>\n</g>\n<!-- 139901145307344&#45;&gt;139901145305616 -->\n<g id=\"edge23\" class=\"edge\">\n<title>139901145307344&#45;&gt;139901145305616</title>\n<path fill=\"none\" stroke=\"#000000\" d=\"M300.874,-1425.2796C303.7957,-1416.8623 308.1113,-1404.4295 311.7408,-1393.973\"/>\n<polygon fill=\"#000000\" stroke=\"#000000\" points=\"315.0919,-1394.992 315.0646,-1384.3972 308.4789,-1392.6966 315.0919,-1394.992\"/>\n</g>\n<!-- 139901145308624 -->\n<g id=\"node26\" class=\"node\">\n<title>139901145308624</title>\n<polygon fill=\"#d3d3d3\" stroke=\"#000000\" points=\"301,-1505 176,-1505 176,-1486 301,-1486 301,-1505\"/>\n<text text-anchor=\"middle\" x=\"238.5\" y=\"-1493\" font-family=\"monospace\" font-size=\"10.00\" fill=\"#000000\">UnsqueezeBackward0</text>\n</g>\n<!-- 139901145308624&#45;&gt;139901145307344 -->\n<g id=\"edge24\" class=\"edge\">\n<title>139901145308624&#45;&gt;139901145307344</title>\n<path fill=\"none\" stroke=\"#000000\" d=\"M247.9794,-1485.7796C256.7866,-1476.7485 270.1016,-1463.095 280.7074,-1452.2195\"/>\n<polygon fill=\"#000000\" stroke=\"#000000\" points=\"283.3721,-1454.5002 287.8481,-1444.8972 278.3606,-1449.6129 283.3721,-1454.5002\"/>\n</g>\n<!-- 139901145308368 -->\n<g id=\"node27\" class=\"node\">\n<title>139901145308368</title>\n<polygon fill=\"#d3d3d3\" stroke=\"#000000\" points=\"258,-1560 163,-1560 163,-1541 258,-1541 258,-1560\"/>\n<text text-anchor=\"middle\" x=\"210.5\" y=\"-1548\" font-family=\"monospace\" font-size=\"10.00\" fill=\"#000000\">ReluBackward0</text>\n</g>\n<!-- 139901145308368&#45;&gt;139901145308624 -->\n<g id=\"edge25\" class=\"edge\">\n<title>139901145308368&#45;&gt;139901145308624</title>\n<path fill=\"none\" stroke=\"#000000\" d=\"M215.3772,-1540.9197C219.1053,-1533.5967 224.3621,-1523.2709 228.9216,-1514.3147\"/>\n<polygon fill=\"#000000\" stroke=\"#000000\" points=\"232.0723,-1515.8404 233.4901,-1505.3408 225.8342,-1512.6646 232.0723,-1515.8404\"/>\n</g>\n<!-- 139901145307920 -->\n<g id=\"node28\" class=\"node\">\n<title>139901145307920</title>\n<polygon fill=\"#d3d3d3\" stroke=\"#000000\" points=\"241,-1620.5 152,-1620.5 152,-1601.5 241,-1601.5 241,-1620.5\"/>\n<text text-anchor=\"middle\" x=\"196.5\" y=\"-1608.5\" font-family=\"monospace\" font-size=\"10.00\" fill=\"#000000\">AddBackward0</text>\n</g>\n<!-- 139901145307920&#45;&gt;139901145308368 -->\n<g id=\"edge26\" class=\"edge\">\n<title>139901145307920&#45;&gt;139901145308368</title>\n<path fill=\"none\" stroke=\"#000000\" d=\"M198.7493,-1601.2796C200.6769,-1592.9499 203.5143,-1580.688 205.9181,-1570.3004\"/>\n<polygon fill=\"#000000\" stroke=\"#000000\" points=\"209.3651,-1570.9289 208.2097,-1560.3972 202.5453,-1569.3507 209.3651,-1570.9289\"/>\n</g>\n<!-- 139901145307408 -->\n<g id=\"node29\" class=\"node\">\n<title>139901145307408</title>\n<polygon fill=\"#d3d3d3\" stroke=\"#000000\" points=\"191,-1681 78,-1681 78,-1662 191,-1662 191,-1681\"/>\n<text text-anchor=\"middle\" x=\"134.5\" y=\"-1669\" font-family=\"monospace\" font-size=\"10.00\" fill=\"#000000\">SqueezeBackward3</text>\n</g>\n<!-- 139901145307408&#45;&gt;139901145307920 -->\n<g id=\"edge27\" class=\"edge\">\n<title>139901145307408&#45;&gt;139901145307920</title>\n<path fill=\"none\" stroke=\"#000000\" d=\"M144.4614,-1661.7796C153.8063,-1652.6608 167.9806,-1638.8294 179.1774,-1627.9035\"/>\n<polygon fill=\"#000000\" stroke=\"#000000\" points=\"181.6446,-1630.3862 186.3574,-1620.8972 176.7558,-1625.3762 181.6446,-1630.3862\"/>\n</g>\n<!-- 139901145306320 -->\n<g id=\"node30\" class=\"node\">\n<title>139901145306320</title>\n<polygon fill=\"#d3d3d3\" stroke=\"#000000\" points=\"155,-1741.5 72,-1741.5 72,-1722.5 155,-1722.5 155,-1741.5\"/>\n<text text-anchor=\"middle\" x=\"113.5\" y=\"-1729.5\" font-family=\"monospace\" font-size=\"10.00\" fill=\"#000000\">MmBackward0</text>\n</g>\n<!-- 139901145306320&#45;&gt;139901145307408 -->\n<g id=\"edge28\" class=\"edge\">\n<title>139901145306320&#45;&gt;139901145307408</title>\n<path fill=\"none\" stroke=\"#000000\" d=\"M116.874,-1722.2796C119.7957,-1713.8623 124.1113,-1701.4295 127.7408,-1690.973\"/>\n<polygon fill=\"#000000\" stroke=\"#000000\" points=\"131.0919,-1691.992 131.0646,-1681.3972 124.4789,-1689.6966 131.0919,-1691.992\"/>\n</g>\n<!-- 139901145307792 -->\n<g id=\"node31\" class=\"node\">\n<title>139901145307792</title>\n<polygon fill=\"#d3d3d3\" stroke=\"#000000\" points=\"152,-1802 75,-1802 75,-1783 152,-1783 152,-1802\"/>\n<text text-anchor=\"middle\" x=\"113.5\" y=\"-1790\" font-family=\"monospace\" font-size=\"10.00\" fill=\"#000000\">TBackward0</text>\n</g>\n<!-- 139901145307792&#45;&gt;139901145306320 -->\n<g id=\"edge29\" class=\"edge\">\n<title>139901145307792&#45;&gt;139901145306320</title>\n<path fill=\"none\" stroke=\"#000000\" d=\"M113.5,-1782.7796C113.5,-1774.5376 113.5,-1762.4457 113.5,-1752.129\"/>\n<polygon fill=\"#000000\" stroke=\"#000000\" points=\"117.0001,-1751.8972 113.5,-1741.8972 110.0001,-1751.8973 117.0001,-1751.8972\"/>\n</g>\n<!-- 139901144957456 -->\n<g id=\"node32\" class=\"node\">\n<title>139901144957456</title>\n<polygon fill=\"#d3d3d3\" stroke=\"#000000\" points=\"164,-1857 63,-1857 63,-1838 164,-1838 164,-1857\"/>\n<text text-anchor=\"middle\" x=\"113.5\" y=\"-1845\" font-family=\"monospace\" font-size=\"10.00\" fill=\"#000000\">AccumulateGrad</text>\n</g>\n<!-- 139901144957456&#45;&gt;139901145307792 -->\n<g id=\"edge30\" class=\"edge\">\n<title>139901144957456&#45;&gt;139901145307792</title>\n<path fill=\"none\" stroke=\"#000000\" d=\"M113.5,-1837.9197C113.5,-1830.9083 113.5,-1821.1442 113.5,-1812.4652\"/>\n<polygon fill=\"#000000\" stroke=\"#000000\" points=\"117.0001,-1812.3408 113.5,-1802.3408 110.0001,-1812.3409 117.0001,-1812.3408\"/>\n</g>\n<!-- 139901146463312 -->\n<g id=\"node33\" class=\"node\">\n<title>139901146463312</title>\n<polygon fill=\"#add8e6\" stroke=\"#000000\" points=\"227,-1923 0,-1923 0,-1893 227,-1893 227,-1923\"/>\n<text text-anchor=\"middle\" x=\"113.5\" y=\"-1911\" font-family=\"monospace\" font-size=\"10.00\" fill=\"#000000\">autoencoders.0.encoder_layer.weight</text>\n<text text-anchor=\"middle\" x=\"113.5\" y=\"-1900\" font-family=\"monospace\" font-size=\"10.00\" fill=\"#000000\"> (512, 784)</text>\n</g>\n<!-- 139901146463312&#45;&gt;139901144957456 -->\n<g id=\"edge31\" class=\"edge\">\n<title>139901146463312&#45;&gt;139901144957456</title>\n<path fill=\"none\" stroke=\"#000000\" d=\"M113.5,-1892.7333C113.5,-1885.0322 113.5,-1875.5977 113.5,-1867.3414\"/>\n<polygon fill=\"#000000\" stroke=\"#000000\" points=\"117.0001,-1867.0864 113.5,-1857.0864 110.0001,-1867.0864 117.0001,-1867.0864\"/>\n</g>\n<!-- 139901145305296 -->\n<g id=\"node34\" class=\"node\">\n<title>139901145305296</title>\n<polygon fill=\"#d3d3d3\" stroke=\"#000000\" points=\"320,-1681 219,-1681 219,-1662 320,-1662 320,-1681\"/>\n<text text-anchor=\"middle\" x=\"269.5\" y=\"-1669\" font-family=\"monospace\" font-size=\"10.00\" fill=\"#000000\">AccumulateGrad</text>\n</g>\n<!-- 139901145305296&#45;&gt;139901145307920 -->\n<g id=\"edge32\" class=\"edge\">\n<title>139901145305296&#45;&gt;139901145307920</title>\n<path fill=\"none\" stroke=\"#000000\" d=\"M257.7713,-1661.7796C246.6626,-1652.5731 229.7578,-1638.563 216.5167,-1627.5892\"/>\n<polygon fill=\"#000000\" stroke=\"#000000\" points=\"218.375,-1624.5835 208.4421,-1620.8972 213.9082,-1629.9732 218.375,-1624.5835\"/>\n</g>\n<!-- 139901146463408 -->\n<g id=\"node35\" class=\"node\">\n<title>139901146463408</title>\n<polygon fill=\"#add8e6\" stroke=\"#000000\" points=\"388,-1747 173,-1747 173,-1717 388,-1717 388,-1747\"/>\n<text text-anchor=\"middle\" x=\"280.5\" y=\"-1735\" font-family=\"monospace\" font-size=\"10.00\" fill=\"#000000\">autoencoders.0.encoder_layer.bias</text>\n<text text-anchor=\"middle\" x=\"280.5\" y=\"-1724\" font-family=\"monospace\" font-size=\"10.00\" fill=\"#000000\"> (512)</text>\n</g>\n<!-- 139901146463408&#45;&gt;139901145305296 -->\n<g id=\"edge33\" class=\"edge\">\n<title>139901146463408&#45;&gt;139901145305296</title>\n<path fill=\"none\" stroke=\"#000000\" d=\"M277.7242,-1716.7333C276.3081,-1708.9447 274.5696,-1699.3831 273.0564,-1691.0604\"/>\n<polygon fill=\"#000000\" stroke=\"#000000\" points=\"276.4755,-1690.299 271.243,-1681.0864 269.5884,-1691.5512 276.4755,-1690.299\"/>\n</g>\n<!-- 139901145308432 -->\n<g id=\"node36\" class=\"node\">\n<title>139901145308432</title>\n<polygon fill=\"#d3d3d3\" stroke=\"#000000\" points=\"400,-1505 323,-1505 323,-1486 400,-1486 400,-1505\"/>\n<text text-anchor=\"middle\" x=\"361.5\" y=\"-1493\" font-family=\"monospace\" font-size=\"10.00\" fill=\"#000000\">TBackward0</text>\n</g>\n<!-- 139901145308432&#45;&gt;139901145307344 -->\n<g id=\"edge34\" class=\"edge\">\n<title>139901145308432&#45;&gt;139901145307344</title>\n<path fill=\"none\" stroke=\"#000000\" d=\"M351.2173,-1485.7796C341.5709,-1476.6608 326.9394,-1462.8294 315.3814,-1451.9035\"/>\n<polygon fill=\"#000000\" stroke=\"#000000\" points=\"317.6412,-1449.2234 307.9698,-1444.8972 312.8325,-1454.3103 317.6412,-1449.2234\"/>\n</g>\n<!-- 139901145307600 -->\n<g id=\"node37\" class=\"node\">\n<title>139901145307600</title>\n<polygon fill=\"#d3d3d3\" stroke=\"#000000\" points=\"419,-1560 318,-1560 318,-1541 419,-1541 419,-1560\"/>\n<text text-anchor=\"middle\" x=\"368.5\" y=\"-1548\" font-family=\"monospace\" font-size=\"10.00\" fill=\"#000000\">AccumulateGrad</text>\n</g>\n<!-- 139901145307600&#45;&gt;139901145308432 -->\n<g id=\"edge35\" class=\"edge\">\n<title>139901145307600&#45;&gt;139901145308432</title>\n<path fill=\"none\" stroke=\"#000000\" d=\"M367.2807,-1540.9197C366.3883,-1533.9083 365.1456,-1524.1442 364.041,-1515.4652\"/>\n<polygon fill=\"#000000\" stroke=\"#000000\" points=\"367.4871,-1514.8189 362.7525,-1505.3408 360.5431,-1515.7027 367.4871,-1514.8189\"/>\n</g>\n<!-- 139901146463600 -->\n<g id=\"node38\" class=\"node\">\n<title>139901146463600</title>\n<polygon fill=\"#add8e6\" stroke=\"#000000\" points=\"486,-1626 259,-1626 259,-1596 486,-1596 486,-1626\"/>\n<text text-anchor=\"middle\" x=\"372.5\" y=\"-1614\" font-family=\"monospace\" font-size=\"10.00\" fill=\"#000000\">autoencoders.1.encoder_layer.weight</text>\n<text text-anchor=\"middle\" x=\"372.5\" y=\"-1603\" font-family=\"monospace\" font-size=\"10.00\" fill=\"#000000\"> (256, 512)</text>\n</g>\n<!-- 139901146463600&#45;&gt;139901145307600 -->\n<g id=\"edge36\" class=\"edge\">\n<title>139901146463600&#45;&gt;139901145307600</title>\n<path fill=\"none\" stroke=\"#000000\" d=\"M371.4906,-1595.7333C370.9815,-1588.0322 370.3577,-1578.5977 369.8118,-1570.3414\"/>\n<polygon fill=\"#000000\" stroke=\"#000000\" points=\"373.286,-1569.8337 369.1338,-1560.0864 366.3012,-1570.2956 373.286,-1569.8337\"/>\n</g>\n<!-- 139901145307472 -->\n<g id=\"node39\" class=\"node\">\n<title>139901145307472</title>\n<polygon fill=\"#d3d3d3\" stroke=\"#000000\" points=\"504,-1384 403,-1384 403,-1365 504,-1365 504,-1384\"/>\n<text text-anchor=\"middle\" x=\"453.5\" y=\"-1372\" font-family=\"monospace\" font-size=\"10.00\" fill=\"#000000\">AccumulateGrad</text>\n</g>\n<!-- 139901145307472&#45;&gt;139901145308560 -->\n<g id=\"edge37\" class=\"edge\">\n<title>139901145307472&#45;&gt;139901145308560</title>\n<path fill=\"none\" stroke=\"#000000\" d=\"M441.7713,-1364.7796C430.6626,-1355.5731 413.7578,-1341.563 400.5167,-1330.5892\"/>\n<polygon fill=\"#000000\" stroke=\"#000000\" points=\"402.375,-1327.5835 392.4421,-1323.8972 397.9082,-1332.9732 402.375,-1327.5835\"/>\n</g>\n<!-- 139901146463504 -->\n<g id=\"node40\" class=\"node\">\n<title>139901146463504</title>\n<polygon fill=\"#add8e6\" stroke=\"#000000\" points=\"572,-1450 357,-1450 357,-1420 572,-1420 572,-1450\"/>\n<text text-anchor=\"middle\" x=\"464.5\" y=\"-1438\" font-family=\"monospace\" font-size=\"10.00\" fill=\"#000000\">autoencoders.1.encoder_layer.bias</text>\n<text text-anchor=\"middle\" x=\"464.5\" y=\"-1427\" font-family=\"monospace\" font-size=\"10.00\" fill=\"#000000\"> (256)</text>\n</g>\n<!-- 139901146463504&#45;&gt;139901145307472 -->\n<g id=\"edge38\" class=\"edge\">\n<title>139901146463504&#45;&gt;139901145307472</title>\n<path fill=\"none\" stroke=\"#000000\" d=\"M461.7242,-1419.7333C460.3081,-1411.9447 458.5696,-1402.3831 457.0564,-1394.0604\"/>\n<polygon fill=\"#000000\" stroke=\"#000000\" points=\"460.4755,-1393.299 455.243,-1384.0864 453.5884,-1394.5512 460.4755,-1393.299\"/>\n</g>\n<!-- 139901145144528 -->\n<g id=\"node41\" class=\"node\">\n<title>139901145144528</title>\n<polygon fill=\"#d3d3d3\" stroke=\"#000000\" points=\"584,-1208 507,-1208 507,-1189 584,-1189 584,-1208\"/>\n<text text-anchor=\"middle\" x=\"545.5\" y=\"-1196\" font-family=\"monospace\" font-size=\"10.00\" fill=\"#000000\">TBackward0</text>\n</g>\n<!-- 139901145144528&#45;&gt;139901145142608 -->\n<g id=\"edge39\" class=\"edge\">\n<title>139901145144528&#45;&gt;139901145142608</title>\n<path fill=\"none\" stroke=\"#000000\" d=\"M535.2173,-1188.7796C525.5709,-1179.6608 510.9394,-1165.8294 499.3814,-1154.9035\"/>\n<polygon fill=\"#000000\" stroke=\"#000000\" points=\"501.6412,-1152.2234 491.9698,-1147.8972 496.8325,-1157.3103 501.6412,-1152.2234\"/>\n</g>\n<!-- 139901145306128 -->\n<g id=\"node42\" class=\"node\">\n<title>139901145306128</title>\n<polygon fill=\"#d3d3d3\" stroke=\"#000000\" points=\"603,-1263 502,-1263 502,-1244 603,-1244 603,-1263\"/>\n<text text-anchor=\"middle\" x=\"552.5\" y=\"-1251\" font-family=\"monospace\" font-size=\"10.00\" fill=\"#000000\">AccumulateGrad</text>\n</g>\n<!-- 139901145306128&#45;&gt;139901145144528 -->\n<g id=\"edge40\" class=\"edge\">\n<title>139901145306128&#45;&gt;139901145144528</title>\n<path fill=\"none\" stroke=\"#000000\" d=\"M551.2807,-1243.9197C550.3883,-1236.9083 549.1456,-1227.1442 548.041,-1218.4652\"/>\n<polygon fill=\"#000000\" stroke=\"#000000\" points=\"551.4871,-1217.8189 546.7525,-1208.3408 544.5431,-1218.7027 551.4871,-1217.8189\"/>\n</g>\n<!-- 139901146463888 -->\n<g id=\"node43\" class=\"node\">\n<title>139901146463888</title>\n<polygon fill=\"#add8e6\" stroke=\"#000000\" points=\"670,-1329 443,-1329 443,-1299 670,-1299 670,-1329\"/>\n<text text-anchor=\"middle\" x=\"556.5\" y=\"-1317\" font-family=\"monospace\" font-size=\"10.00\" fill=\"#000000\">autoencoders.2.encoder_layer.weight</text>\n<text text-anchor=\"middle\" x=\"556.5\" y=\"-1306\" font-family=\"monospace\" font-size=\"10.00\" fill=\"#000000\"> (128, 256)</text>\n</g>\n<!-- 139901146463888&#45;&gt;139901145306128 -->\n<g id=\"edge41\" class=\"edge\">\n<title>139901146463888&#45;&gt;139901145306128</title>\n<path fill=\"none\" stroke=\"#000000\" d=\"M555.4906,-1298.7333C554.9815,-1291.0322 554.3577,-1281.5977 553.8118,-1273.3414\"/>\n<polygon fill=\"#000000\" stroke=\"#000000\" points=\"557.286,-1272.8337 553.1338,-1263.0864 550.3012,-1273.2956 557.286,-1272.8337\"/>\n</g>\n<!-- 139901144795152 -->\n<g id=\"node44\" class=\"node\">\n<title>139901144795152</title>\n<polygon fill=\"#d3d3d3\" stroke=\"#000000\" points=\"688,-1087 587,-1087 587,-1068 688,-1068 688,-1087\"/>\n<text text-anchor=\"middle\" x=\"637.5\" y=\"-1075\" font-family=\"monospace\" font-size=\"10.00\" fill=\"#000000\">AccumulateGrad</text>\n</g>\n<!-- 139901144795152&#45;&gt;139901144794128 -->\n<g id=\"edge42\" class=\"edge\">\n<title>139901144795152&#45;&gt;139901144794128</title>\n<path fill=\"none\" stroke=\"#000000\" d=\"M625.7713,-1067.7796C614.6626,-1058.5731 597.7578,-1044.563 584.5167,-1033.5892\"/>\n<polygon fill=\"#000000\" stroke=\"#000000\" points=\"586.375,-1030.5835 576.4421,-1026.8972 581.9082,-1035.9732 586.375,-1030.5835\"/>\n</g>\n<!-- 139901146463984 -->\n<g id=\"node45\" class=\"node\">\n<title>139901146463984</title>\n<polygon fill=\"#add8e6\" stroke=\"#000000\" points=\"756,-1153 541,-1153 541,-1123 756,-1123 756,-1153\"/>\n<text text-anchor=\"middle\" x=\"648.5\" y=\"-1141\" font-family=\"monospace\" font-size=\"10.00\" fill=\"#000000\">autoencoders.2.encoder_layer.bias</text>\n<text text-anchor=\"middle\" x=\"648.5\" y=\"-1130\" font-family=\"monospace\" font-size=\"10.00\" fill=\"#000000\"> (128)</text>\n</g>\n<!-- 139901146463984&#45;&gt;139901144795152 -->\n<g id=\"edge43\" class=\"edge\">\n<title>139901146463984&#45;&gt;139901144795152</title>\n<path fill=\"none\" stroke=\"#000000\" d=\"M645.7242,-1122.7333C644.3081,-1114.9447 642.5696,-1105.3831 641.0564,-1097.0604\"/>\n<polygon fill=\"#000000\" stroke=\"#000000\" points=\"644.4755,-1096.299 639.243,-1087.0864 637.5884,-1097.5512 644.4755,-1096.299\"/>\n</g>\n<!-- 139901144795728 -->\n<g id=\"node46\" class=\"node\">\n<title>139901144795728</title>\n<polygon fill=\"#d3d3d3\" stroke=\"#000000\" points=\"768,-911 691,-911 691,-892 768,-892 768,-911\"/>\n<text text-anchor=\"middle\" x=\"729.5\" y=\"-899\" font-family=\"monospace\" font-size=\"10.00\" fill=\"#000000\">TBackward0</text>\n</g>\n<!-- 139901144795728&#45;&gt;139901144794512 -->\n<g id=\"edge44\" class=\"edge\">\n<title>139901144795728&#45;&gt;139901144794512</title>\n<path fill=\"none\" stroke=\"#000000\" d=\"M719.2173,-891.7796C709.5709,-882.6608 694.9394,-868.8294 683.3814,-857.9035\"/>\n<polygon fill=\"#000000\" stroke=\"#000000\" points=\"685.6412,-855.2234 675.9698,-850.8972 680.8325,-860.3103 685.6412,-855.2234\"/>\n</g>\n<!-- 139901145143952 -->\n<g id=\"node47\" class=\"node\">\n<title>139901145143952</title>\n<polygon fill=\"#d3d3d3\" stroke=\"#000000\" points=\"787,-966 686,-966 686,-947 787,-947 787,-966\"/>\n<text text-anchor=\"middle\" x=\"736.5\" y=\"-954\" font-family=\"monospace\" font-size=\"10.00\" fill=\"#000000\">AccumulateGrad</text>\n</g>\n<!-- 139901145143952&#45;&gt;139901144795728 -->\n<g id=\"edge45\" class=\"edge\">\n<title>139901145143952&#45;&gt;139901144795728</title>\n<path fill=\"none\" stroke=\"#000000\" d=\"M735.2807,-946.9197C734.3883,-939.9083 733.1456,-930.1442 732.041,-921.4652\"/>\n<polygon fill=\"#000000\" stroke=\"#000000\" points=\"735.4871,-920.8189 730.7525,-911.3408 728.5431,-921.7027 735.4871,-920.8189\"/>\n</g>\n<!-- 139901146464080 -->\n<g id=\"node48\" class=\"node\">\n<title>139901146464080</title>\n<polygon fill=\"#add8e6\" stroke=\"#000000\" points=\"854,-1032 627,-1032 627,-1002 854,-1002 854,-1032\"/>\n<text text-anchor=\"middle\" x=\"740.5\" y=\"-1020\" font-family=\"monospace\" font-size=\"10.00\" fill=\"#000000\">autoencoders.2.decoder_layer.weight</text>\n<text text-anchor=\"middle\" x=\"740.5\" y=\"-1009\" font-family=\"monospace\" font-size=\"10.00\" fill=\"#000000\"> (256, 128)</text>\n</g>\n<!-- 139901146464080&#45;&gt;139901145143952 -->\n<g id=\"edge46\" class=\"edge\">\n<title>139901146464080&#45;&gt;139901145143952</title>\n<path fill=\"none\" stroke=\"#000000\" d=\"M739.4906,-1001.7333C738.9815,-994.0322 738.3577,-984.5977 737.8118,-976.3414\"/>\n<polygon fill=\"#000000\" stroke=\"#000000\" points=\"741.286,-975.8337 737.1338,-966.0864 734.3012,-976.2956 741.286,-975.8337\"/>\n</g>\n<!-- 139901144796496 -->\n<g id=\"node49\" class=\"node\">\n<title>139901144796496</title>\n<polygon fill=\"#d3d3d3\" stroke=\"#000000\" points=\"872,-790 771,-790 771,-771 872,-771 872,-790\"/>\n<text text-anchor=\"middle\" x=\"821.5\" y=\"-778\" font-family=\"monospace\" font-size=\"10.00\" fill=\"#000000\">AccumulateGrad</text>\n</g>\n<!-- 139901144796496&#45;&gt;139901144796752 -->\n<g id=\"edge47\" class=\"edge\">\n<title>139901144796496&#45;&gt;139901144796752</title>\n<path fill=\"none\" stroke=\"#000000\" d=\"M809.7713,-770.7796C798.6626,-761.5731 781.7578,-747.563 768.5167,-736.5892\"/>\n<polygon fill=\"#000000\" stroke=\"#000000\" points=\"770.375,-733.5835 760.4421,-729.8972 765.9082,-738.9732 770.375,-733.5835\"/>\n</g>\n<!-- 139901146357840 -->\n<g id=\"node50\" class=\"node\">\n<title>139901146357840</title>\n<polygon fill=\"#add8e6\" stroke=\"#000000\" points=\"940,-856 725,-856 725,-826 940,-826 940,-856\"/>\n<text text-anchor=\"middle\" x=\"832.5\" y=\"-844\" font-family=\"monospace\" font-size=\"10.00\" fill=\"#000000\">autoencoders.2.decoder_layer.bias</text>\n<text text-anchor=\"middle\" x=\"832.5\" y=\"-833\" font-family=\"monospace\" font-size=\"10.00\" fill=\"#000000\"> (256)</text>\n</g>\n<!-- 139901146357840&#45;&gt;139901144796496 -->\n<g id=\"edge48\" class=\"edge\">\n<title>139901146357840&#45;&gt;139901144796496</title>\n<path fill=\"none\" stroke=\"#000000\" d=\"M829.7242,-825.7333C828.3081,-817.9447 826.5696,-808.3831 825.0564,-800.0604\"/>\n<polygon fill=\"#000000\" stroke=\"#000000\" points=\"828.4755,-799.299 823.243,-790.0864 821.5884,-800.5512 828.4755,-799.299\"/>\n</g>\n<!-- 139901144795408 -->\n<g id=\"node51\" class=\"node\">\n<title>139901144795408</title>\n<polygon fill=\"#d3d3d3\" stroke=\"#000000\" points=\"952,-614 875,-614 875,-595 952,-595 952,-614\"/>\n<text text-anchor=\"middle\" x=\"913.5\" y=\"-602\" font-family=\"monospace\" font-size=\"10.00\" fill=\"#000000\">TBackward0</text>\n</g>\n<!-- 139901144795408&#45;&gt;139901144794768 -->\n<g id=\"edge49\" class=\"edge\">\n<title>139901144795408&#45;&gt;139901144794768</title>\n<path fill=\"none\" stroke=\"#000000\" d=\"M903.2173,-594.7796C893.5709,-585.6608 878.9394,-571.8294 867.3814,-560.9035\"/>\n<polygon fill=\"#000000\" stroke=\"#000000\" points=\"869.6412,-558.2234 859.9698,-553.8972 864.8325,-563.3103 869.6412,-558.2234\"/>\n</g>\n<!-- 139901144794448 -->\n<g id=\"node52\" class=\"node\">\n<title>139901144794448</title>\n<polygon fill=\"#d3d3d3\" stroke=\"#000000\" points=\"971,-669 870,-669 870,-650 971,-650 971,-669\"/>\n<text text-anchor=\"middle\" x=\"920.5\" y=\"-657\" font-family=\"monospace\" font-size=\"10.00\" fill=\"#000000\">AccumulateGrad</text>\n</g>\n<!-- 139901144794448&#45;&gt;139901144795408 -->\n<g id=\"edge50\" class=\"edge\">\n<title>139901144794448&#45;&gt;139901144795408</title>\n<path fill=\"none\" stroke=\"#000000\" d=\"M919.2807,-649.9197C918.3883,-642.9083 917.1456,-633.1442 916.041,-624.4652\"/>\n<polygon fill=\"#000000\" stroke=\"#000000\" points=\"919.4871,-623.8189 914.7525,-614.3408 912.5431,-624.7027 919.4871,-623.8189\"/>\n</g>\n<!-- 139901146463696 -->\n<g id=\"node53\" class=\"node\">\n<title>139901146463696</title>\n<polygon fill=\"#add8e6\" stroke=\"#000000\" points=\"1038,-735 811,-735 811,-705 1038,-705 1038,-735\"/>\n<text text-anchor=\"middle\" x=\"924.5\" y=\"-723\" font-family=\"monospace\" font-size=\"10.00\" fill=\"#000000\">autoencoders.1.decoder_layer.weight</text>\n<text text-anchor=\"middle\" x=\"924.5\" y=\"-712\" font-family=\"monospace\" font-size=\"10.00\" fill=\"#000000\"> (512, 256)</text>\n</g>\n<!-- 139901146463696&#45;&gt;139901144794448 -->\n<g id=\"edge51\" class=\"edge\">\n<title>139901146463696&#45;&gt;139901144794448</title>\n<path fill=\"none\" stroke=\"#000000\" d=\"M923.4906,-704.7333C922.9815,-697.0322 922.3577,-687.5977 921.8118,-679.3414\"/>\n<polygon fill=\"#000000\" stroke=\"#000000\" points=\"925.286,-678.8337 921.1338,-669.0864 918.3012,-679.2956 925.286,-678.8337\"/>\n</g>\n<!-- 139901144797072 -->\n<g id=\"node54\" class=\"node\">\n<title>139901144797072</title>\n<polygon fill=\"#d3d3d3\" stroke=\"#000000\" points=\"1056,-493 955,-493 955,-474 1056,-474 1056,-493\"/>\n<text text-anchor=\"middle\" x=\"1005.5\" y=\"-481\" font-family=\"monospace\" font-size=\"10.00\" fill=\"#000000\">AccumulateGrad</text>\n</g>\n<!-- 139901144797072&#45;&gt;139901144796048 -->\n<g id=\"edge52\" class=\"edge\">\n<title>139901144797072&#45;&gt;139901144796048</title>\n<path fill=\"none\" stroke=\"#000000\" d=\"M993.7713,-473.7796C982.6626,-464.5731 965.7578,-450.563 952.5167,-439.5892\"/>\n<polygon fill=\"#000000\" stroke=\"#000000\" points=\"954.375,-436.5835 944.4421,-432.8972 949.9082,-441.9732 954.375,-436.5835\"/>\n</g>\n<!-- 139901146463792 -->\n<g id=\"node55\" class=\"node\">\n<title>139901146463792</title>\n<polygon fill=\"#add8e6\" stroke=\"#000000\" points=\"1124,-559 909,-559 909,-529 1124,-529 1124,-559\"/>\n<text text-anchor=\"middle\" x=\"1016.5\" y=\"-547\" font-family=\"monospace\" font-size=\"10.00\" fill=\"#000000\">autoencoders.1.decoder_layer.bias</text>\n<text text-anchor=\"middle\" x=\"1016.5\" y=\"-536\" font-family=\"monospace\" font-size=\"10.00\" fill=\"#000000\"> (512)</text>\n</g>\n<!-- 139901146463792&#45;&gt;139901144797072 -->\n<g id=\"edge53\" class=\"edge\">\n<title>139901146463792&#45;&gt;139901144797072</title>\n<path fill=\"none\" stroke=\"#000000\" d=\"M1013.7242,-528.7333C1012.3081,-520.9447 1010.5696,-511.3831 1009.0564,-503.0604\"/>\n<polygon fill=\"#000000\" stroke=\"#000000\" points=\"1012.4755,-502.299 1007.243,-493.0864 1005.5884,-503.5512 1012.4755,-502.299\"/>\n</g>\n<!-- 139901144795536 -->\n<g id=\"node56\" class=\"node\">\n<title>139901144795536</title>\n<polygon fill=\"#d3d3d3\" stroke=\"#000000\" points=\"1136,-317 1059,-317 1059,-298 1136,-298 1136,-317\"/>\n<text text-anchor=\"middle\" x=\"1097.5\" y=\"-305\" font-family=\"monospace\" font-size=\"10.00\" fill=\"#000000\">TBackward0</text>\n</g>\n<!-- 139901144795536&#45;&gt;139901144793232 -->\n<g id=\"edge54\" class=\"edge\">\n<title>139901144795536&#45;&gt;139901144793232</title>\n<path fill=\"none\" stroke=\"#000000\" d=\"M1087.2173,-297.7796C1077.5709,-288.6608 1062.9394,-274.8294 1051.3814,-263.9035\"/>\n<polygon fill=\"#000000\" stroke=\"#000000\" points=\"1053.6412,-261.2234 1043.9698,-256.8972 1048.8325,-266.3103 1053.6412,-261.2234\"/>\n</g>\n<!-- 139901144793488 -->\n<g id=\"node57\" class=\"node\">\n<title>139901144793488</title>\n<polygon fill=\"#d3d3d3\" stroke=\"#000000\" points=\"1155,-372 1054,-372 1054,-353 1155,-353 1155,-372\"/>\n<text text-anchor=\"middle\" x=\"1104.5\" y=\"-360\" font-family=\"monospace\" font-size=\"10.00\" fill=\"#000000\">AccumulateGrad</text>\n</g>\n<!-- 139901144793488&#45;&gt;139901144795536 -->\n<g id=\"edge55\" class=\"edge\">\n<title>139901144793488&#45;&gt;139901144795536</title>\n<path fill=\"none\" stroke=\"#000000\" d=\"M1103.2807,-352.9197C1102.3883,-345.9083 1101.1456,-336.1442 1100.041,-327.4652\"/>\n<polygon fill=\"#000000\" stroke=\"#000000\" points=\"1103.4871,-326.8189 1098.7525,-317.3408 1096.5431,-327.7027 1103.4871,-326.8189\"/>\n</g>\n<!-- 139901146462640 -->\n<g id=\"node58\" class=\"node\">\n<title>139901146462640</title>\n<polygon fill=\"#add8e6\" stroke=\"#000000\" points=\"1222,-438 995,-438 995,-408 1222,-408 1222,-438\"/>\n<text text-anchor=\"middle\" x=\"1108.5\" y=\"-426\" font-family=\"monospace\" font-size=\"10.00\" fill=\"#000000\">autoencoders.0.decoder_layer.weight</text>\n<text text-anchor=\"middle\" x=\"1108.5\" y=\"-415\" font-family=\"monospace\" font-size=\"10.00\" fill=\"#000000\"> (784, 512)</text>\n</g>\n<!-- 139901146462640&#45;&gt;139901144793488 -->\n<g id=\"edge56\" class=\"edge\">\n<title>139901146462640&#45;&gt;139901144793488</title>\n<path fill=\"none\" stroke=\"#000000\" d=\"M1107.4906,-407.7333C1106.9815,-400.0322 1106.3577,-390.5977 1105.8118,-382.3414\"/>\n<polygon fill=\"#000000\" stroke=\"#000000\" points=\"1109.286,-381.8337 1105.1338,-372.0864 1102.3012,-382.2956 1109.286,-381.8337\"/>\n</g>\n<!-- 139901144795344 -->\n<g id=\"node59\" class=\"node\">\n<title>139901144795344</title>\n<polygon fill=\"#d3d3d3\" stroke=\"#000000\" points=\"1240,-196 1139,-196 1139,-177 1240,-177 1240,-196\"/>\n<text text-anchor=\"middle\" x=\"1189.5\" y=\"-184\" font-family=\"monospace\" font-size=\"10.00\" fill=\"#000000\">AccumulateGrad</text>\n</g>\n<!-- 139901144795344&#45;&gt;139901144794064 -->\n<g id=\"edge57\" class=\"edge\">\n<title>139901144795344&#45;&gt;139901144794064</title>\n<path fill=\"none\" stroke=\"#000000\" d=\"M1176.7844,-176.9197C1166.0307,-168.8177 1150.3984,-157.0399 1137.7472,-147.5082\"/>\n<polygon fill=\"#000000\" stroke=\"#000000\" points=\"1139.6545,-144.563 1129.5615,-141.3408 1135.4422,-150.1538 1139.6545,-144.563\"/>\n</g>\n<!-- 139901146462736 -->\n<g id=\"node60\" class=\"node\">\n<title>139901146462736</title>\n<polygon fill=\"#add8e6\" stroke=\"#000000\" points=\"1308,-262 1093,-262 1093,-232 1308,-232 1308,-262\"/>\n<text text-anchor=\"middle\" x=\"1200.5\" y=\"-250\" font-family=\"monospace\" font-size=\"10.00\" fill=\"#000000\">autoencoders.0.decoder_layer.bias</text>\n<text text-anchor=\"middle\" x=\"1200.5\" y=\"-239\" font-family=\"monospace\" font-size=\"10.00\" fill=\"#000000\"> (784)</text>\n</g>\n<!-- 139901146462736&#45;&gt;139901144795344 -->\n<g id=\"edge58\" class=\"edge\">\n<title>139901146462736&#45;&gt;139901144795344</title>\n<path fill=\"none\" stroke=\"#000000\" d=\"M1197.7242,-231.7333C1196.3081,-223.9447 1194.5696,-214.3831 1193.0564,-206.0604\"/>\n<polygon fill=\"#000000\" stroke=\"#000000\" points=\"1196.4755,-205.299 1191.243,-196.0864 1189.5884,-206.5512 1196.4755,-205.299\"/>\n</g>\n</g>\n</svg>\n"
          },
          "metadata": {},
          "execution_count": 75
        }
      ],
      "source": [
        "make_dot(dae1(X_train[0]), params=dict(dae1.named_parameters()))"
      ]
    },
    {
      "cell_type": "markdown",
      "metadata": {
        "id": "U7f-xkDsx0wx"
      },
      "source": [
        "Doing pretraining for 20 epochs at each layer with a batch size of 128 and a learning rate of 0.001 (ADAM OPTIMIZER)"
      ]
    },
    {
      "cell_type": "code",
      "execution_count": 76,
      "metadata": {
        "colab": {
          "base_uri": "https://localhost:8080/"
        },
        "id": "r4VN3opUqIbS",
        "outputId": "5593c633-fb97-49c5-e78f-429ba3e2a593"
      },
      "outputs": [
        {
          "output_type": "stream",
          "name": "stdout",
          "text": [
            "epoch : 1/20, train loss = 0.009000\n",
            "epoch : 2/20, train loss = 0.004605\n",
            "epoch : 3/20, train loss = 0.003320\n",
            "epoch : 4/20, train loss = 0.002610\n",
            "epoch : 5/20, train loss = 0.002288\n",
            "epoch : 6/20, train loss = 0.002077\n",
            "epoch : 7/20, train loss = 0.001929\n",
            "epoch : 8/20, train loss = 0.001850\n",
            "epoch : 9/20, train loss = 0.001681\n",
            "epoch : 10/20, train loss = 0.001614\n",
            "epoch : 11/20, train loss = 0.001588\n",
            "epoch : 12/20, train loss = 0.001505\n",
            "epoch : 13/20, train loss = 0.001487\n",
            "epoch : 14/20, train loss = 0.001501\n",
            "epoch : 15/20, train loss = 0.001473\n",
            "epoch : 16/20, train loss = 0.001458\n",
            "epoch : 17/20, train loss = 0.001401\n",
            "epoch : 18/20, train loss = 0.001396\n",
            "epoch : 19/20, train loss = 0.001418\n",
            "epoch : 20/20, train loss = 0.001363\n",
            "epoch : 1/20, train loss = 0.106017\n",
            "epoch : 2/20, train loss = 0.073289\n",
            "epoch : 3/20, train loss = 0.063541\n",
            "epoch : 4/20, train loss = 0.058598\n",
            "epoch : 5/20, train loss = 0.055830\n",
            "epoch : 6/20, train loss = 0.054096\n",
            "epoch : 7/20, train loss = 0.050471\n",
            "epoch : 8/20, train loss = 0.050228\n",
            "epoch : 9/20, train loss = 0.049556\n",
            "epoch : 10/20, train loss = 0.048645\n",
            "epoch : 11/20, train loss = 0.048645\n",
            "epoch : 12/20, train loss = 0.049006\n",
            "epoch : 13/20, train loss = 0.049086\n",
            "epoch : 14/20, train loss = 0.048659\n",
            "epoch : 15/20, train loss = 0.043899\n",
            "epoch : 16/20, train loss = 0.043809\n",
            "epoch : 17/20, train loss = 0.043741\n",
            "epoch : 18/20, train loss = 0.043329\n",
            "epoch : 19/20, train loss = 0.043729\n",
            "epoch : 20/20, train loss = 0.043636\n",
            "epoch : 1/20, train loss = 0.549314\n",
            "epoch : 2/20, train loss = 0.322641\n",
            "epoch : 3/20, train loss = 0.249591\n",
            "epoch : 4/20, train loss = 0.234604\n",
            "epoch : 5/20, train loss = 0.229745\n",
            "epoch : 6/20, train loss = 0.225793\n",
            "epoch : 7/20, train loss = 0.225039\n",
            "epoch : 8/20, train loss = 0.224413\n",
            "epoch : 9/20, train loss = 0.199756\n",
            "epoch : 10/20, train loss = 0.178147\n",
            "epoch : 11/20, train loss = 0.175290\n",
            "epoch : 12/20, train loss = 0.174698\n",
            "epoch : 13/20, train loss = 0.174492\n",
            "epoch : 14/20, train loss = 0.175061\n",
            "epoch : 15/20, train loss = 0.174402\n",
            "epoch : 16/20, train loss = 0.174598\n",
            "epoch : 17/20, train loss = 0.174353\n",
            "epoch : 18/20, train loss = 0.174581\n",
            "epoch : 19/20, train loss = 0.174416\n",
            "epoch : 20/20, train loss = 0.174812\n"
          ]
        }
      ],
      "source": [
        "denoising_autoencoder_pretraining(dae1, X_train, epochs, 128, 1e-3)"
      ]
    },
    {
      "cell_type": "markdown",
      "metadata": {
        "id": "WE086ZRtyV3P"
      },
      "source": [
        "Showing the overall performances of the model over the train and test datasets"
      ]
    },
    {
      "cell_type": "code",
      "execution_count": 77,
      "metadata": {
        "colab": {
          "base_uri": "https://localhost:8080/"
        },
        "id": "VQFlvB4oADSa",
        "outputId": "abec5151-73c2-4519-bd1f-0fba31f2a178"
      },
      "outputs": [
        {
          "output_type": "stream",
          "name": "stdout",
          "text": [
            "Only pretraining Train MSE: 0.008415098302066326\n",
            "Only pretraining Test MSE: 0.008461355231702328\n"
          ]
        }
      ],
      "source": [
        "print(f\"Only pretraining Train MSE: {evaluate_MSE(dae1, X_train)}\")\n",
        "print(f\"Only pretraining Test MSE: {evaluate_MSE(dae1, X_test)}\")"
      ]
    },
    {
      "cell_type": "markdown",
      "metadata": {
        "id": "bubX0bG6ihI9"
      },
      "source": [
        "### Denoising AutoEncoder with only fine tuning"
      ]
    },
    {
      "cell_type": "markdown",
      "metadata": {
        "id": "whEwzY7iySaW"
      },
      "source": [
        "Defining the Deep Autoencoder that will be learned only with fine tuning"
      ]
    },
    {
      "cell_type": "code",
      "execution_count": 78,
      "metadata": {
        "id": "Jyxzi_zxiy63"
      },
      "outputs": [],
      "source": [
        "dae2 = DAE(784, deep_autoencoders_layers)"
      ]
    },
    {
      "cell_type": "markdown",
      "metadata": {
        "id": "B42ZzQZny-l3"
      },
      "source": [
        "Doing fine tuning for 40 epochs with batch size of 128 and learning rate of 0.001 (ADAM OPTIMIZER)\n",
        "\n"
      ]
    },
    {
      "cell_type": "code",
      "execution_count": 79,
      "metadata": {
        "colab": {
          "base_uri": "https://localhost:8080/"
        },
        "id": "cOdntFPhi1VP",
        "outputId": "b9fcbd30-9b97-4bf6-a3a2-31a5a20480e1"
      },
      "outputs": [
        {
          "output_type": "stream",
          "name": "stdout",
          "text": [
            "epoch : 1/40, train loss = 0.026253, test loss = 0.026075\n",
            "epoch : 2/40, train loss = 0.018530, test loss = 0.018398\n",
            "epoch : 3/40, train loss = 0.014303, test loss = 0.014224\n",
            "epoch : 4/40, train loss = 0.012362, test loss = 0.012342\n",
            "epoch : 5/40, train loss = 0.010798, test loss = 0.010851\n",
            "epoch : 6/40, train loss = 0.009703, test loss = 0.009849\n",
            "epoch : 7/40, train loss = 0.008737, test loss = 0.008910\n",
            "epoch : 8/40, train loss = 0.008345, test loss = 0.008542\n",
            "epoch : 9/40, train loss = 0.007768, test loss = 0.008019\n",
            "epoch : 10/40, train loss = 0.007550, test loss = 0.007823\n",
            "epoch : 11/40, train loss = 0.006975, test loss = 0.007272\n",
            "epoch : 12/40, train loss = 0.006720, test loss = 0.007027\n",
            "epoch : 13/40, train loss = 0.006619, test loss = 0.006928\n",
            "epoch : 14/40, train loss = 0.006238, test loss = 0.006584\n",
            "epoch : 15/40, train loss = 0.006172, test loss = 0.006517\n",
            "epoch : 16/40, train loss = 0.006023, test loss = 0.006376\n",
            "epoch : 17/40, train loss = 0.005835, test loss = 0.006206\n",
            "epoch : 18/40, train loss = 0.005623, test loss = 0.006005\n",
            "epoch : 19/40, train loss = 0.005433, test loss = 0.005819\n",
            "epoch : 20/40, train loss = 0.005417, test loss = 0.005812\n",
            "epoch : 21/40, train loss = 0.005285, test loss = 0.005676\n",
            "epoch : 22/40, train loss = 0.005241, test loss = 0.005635\n",
            "epoch : 23/40, train loss = 0.005041, test loss = 0.005437\n",
            "epoch : 24/40, train loss = 0.004941, test loss = 0.005333\n",
            "epoch : 25/40, train loss = 0.004898, test loss = 0.005323\n",
            "epoch : 26/40, train loss = 0.004909, test loss = 0.005336\n",
            "epoch : 27/40, train loss = 0.004865, test loss = 0.005280\n",
            "epoch : 28/40, train loss = 0.004709, test loss = 0.005124\n",
            "epoch : 29/40, train loss = 0.004699, test loss = 0.005127\n",
            "epoch : 30/40, train loss = 0.004580, test loss = 0.005015\n",
            "epoch : 31/40, train loss = 0.004414, test loss = 0.004851\n",
            "epoch : 32/40, train loss = 0.004456, test loss = 0.004893\n",
            "epoch : 33/40, train loss = 0.004468, test loss = 0.004917\n",
            "epoch : 34/40, train loss = 0.004350, test loss = 0.004802\n",
            "epoch : 35/40, train loss = 0.004445, test loss = 0.004907\n",
            "epoch : 36/40, train loss = 0.004280, test loss = 0.004718\n",
            "epoch : 37/40, train loss = 0.004205, test loss = 0.004648\n",
            "epoch : 38/40, train loss = 0.004206, test loss = 0.004659\n",
            "epoch : 39/40, train loss = 0.004082, test loss = 0.004534\n",
            "epoch : 40/40, train loss = 0.004078, test loss = 0.004527\n"
          ]
        }
      ],
      "source": [
        "history_dae2 = denoising_autoencoder_training(dae2, X_train, epochs_deep, 128, 1e-3, X_test=X_test)"
      ]
    },
    {
      "cell_type": "markdown",
      "metadata": {
        "id": "FkPzJoPbzjY7"
      },
      "source": [
        "Showing the error curve over the train and test dataset, we can see that the error go down well for train dataset as well as test dataset."
      ]
    },
    {
      "cell_type": "code",
      "execution_count": 80,
      "metadata": {
        "colab": {
          "base_uri": "https://localhost:8080/",
          "height": 265
        },
        "id": "lMawKIVgjBXV",
        "outputId": "4bd238c6-b82b-4a4d-c873-003fd38b1256"
      },
      "outputs": [
        {
          "output_type": "display_data",
          "data": {
            "text/plain": [
              "<Figure size 432x288 with 1 Axes>"
            ],
            "image/png": "[encoded data removed]"
          },
          "metadata": {
            "needs_background": "light"
          }
        }
      ],
      "source": [
        "plt.plot(np.arange(epochs_deep)+1, history_dae2[\"train_errors\"], label='train_errors')\n",
        "plt.plot(np.arange(epochs_deep)+1, history_dae2[\"test_errors\"], label=\"test_errors\")\n",
        "plt.show()"
      ]
    },
    {
      "cell_type": "code",
      "execution_count": 81,
      "metadata": {
        "colab": {
          "base_uri": "https://localhost:8080/"
        },
        "id": "NPC3XnbEi_P-",
        "outputId": "aaa6272c-f491-496c-a8a5-fdbf1c34b550"
      },
      "outputs": [
        {
          "output_type": "stream",
          "name": "stdout",
          "text": [
            "Pretraining and fine tuning Train MSE: 0.004077807068824768\n",
            "Pretraining and fine tuning Test MSE: 0.004526559263467789\n"
          ]
        }
      ],
      "source": [
        "print(f\"Pretraining and fine tuning Train MSE: {evaluate_MSE(dae2, X_train)}\")\n",
        "print(f\"Pretraining and fine tuning Test MSE: {evaluate_MSE(dae2, X_test)}\")"
      ]
    },
    {
      "cell_type": "markdown",
      "metadata": {
        "id": "SMs4JbxaC4wC"
      },
      "source": [
        "### Denoising AutoEncoder with pretraining and fine tuining"
      ]
    },
    {
      "cell_type": "markdown",
      "metadata": {
        "id": "svYm3BQ_z_4A"
      },
      "source": [
        "Defining the Deep Autoencoder that will be learned with pretraining phase and with additional fine tuning phase"
      ]
    },
    {
      "cell_type": "code",
      "execution_count": 82,
      "metadata": {
        "id": "0MzQI4FWC4Us"
      },
      "outputs": [],
      "source": [
        "dae3 = DAE(784, deep_autoencoders_layers)"
      ]
    },
    {
      "cell_type": "markdown",
      "metadata": {
        "id": "U_VeWn1J1QEt"
      },
      "source": [
        "Doing pretraining with 20 epochs for each layer, batch size of 128 and learning rate of 0.001 (ADAM OPTIMIZER)"
      ]
    },
    {
      "cell_type": "code",
      "execution_count": 83,
      "metadata": {
        "colab": {
          "base_uri": "https://localhost:8080/"
        },
        "id": "SHWSM2O7C3a6",
        "outputId": "939ee19a-c74a-41af-a717-1f500a4fabf7"
      },
      "outputs": [
        {
          "output_type": "stream",
          "name": "stdout",
          "text": [
            "epoch : 1/20, train loss = 0.008789\n",
            "epoch : 2/20, train loss = 0.004476\n",
            "epoch : 3/20, train loss = 0.003226\n",
            "epoch : 4/20, train loss = 0.002652\n",
            "epoch : 5/20, train loss = 0.002456\n",
            "epoch : 6/20, train loss = 0.002080\n",
            "epoch : 7/20, train loss = 0.001920\n",
            "epoch : 8/20, train loss = 0.001843\n",
            "epoch : 9/20, train loss = 0.001741\n",
            "epoch : 10/20, train loss = 0.001703\n",
            "epoch : 11/20, train loss = 0.001634\n",
            "epoch : 12/20, train loss = 0.001555\n",
            "epoch : 13/20, train loss = 0.001555\n",
            "epoch : 14/20, train loss = 0.001501\n",
            "epoch : 15/20, train loss = 0.001498\n",
            "epoch : 16/20, train loss = 0.001453\n",
            "epoch : 17/20, train loss = 0.001442\n",
            "epoch : 18/20, train loss = 0.001494\n",
            "epoch : 19/20, train loss = 0.001412\n",
            "epoch : 20/20, train loss = 0.001385\n",
            "epoch : 1/20, train loss = 0.107280\n",
            "epoch : 2/20, train loss = 0.073495\n",
            "epoch : 3/20, train loss = 0.063233\n",
            "epoch : 4/20, train loss = 0.058321\n",
            "epoch : 5/20, train loss = 0.055817\n",
            "epoch : 6/20, train loss = 0.054473\n",
            "epoch : 7/20, train loss = 0.053595\n",
            "epoch : 8/20, train loss = 0.052922\n",
            "epoch : 9/20, train loss = 0.052418\n",
            "epoch : 10/20, train loss = 0.051911\n",
            "epoch : 11/20, train loss = 0.051948\n",
            "epoch : 12/20, train loss = 0.052060\n",
            "epoch : 13/20, train loss = 0.051545\n",
            "epoch : 14/20, train loss = 0.051497\n",
            "epoch : 15/20, train loss = 0.051710\n",
            "epoch : 16/20, train loss = 0.051850\n",
            "epoch : 17/20, train loss = 0.051339\n",
            "epoch : 18/20, train loss = 0.052375\n",
            "epoch : 19/20, train loss = 0.051743\n",
            "epoch : 20/20, train loss = 0.051493\n",
            "epoch : 1/20, train loss = 0.385072\n",
            "epoch : 2/20, train loss = 0.251833\n",
            "epoch : 3/20, train loss = 0.193155\n",
            "epoch : 4/20, train loss = 0.179191\n",
            "epoch : 5/20, train loss = 0.174989\n",
            "epoch : 6/20, train loss = 0.174080\n",
            "epoch : 7/20, train loss = 0.172162\n",
            "epoch : 8/20, train loss = 0.171731\n",
            "epoch : 9/20, train loss = 0.170631\n",
            "epoch : 10/20, train loss = 0.170629\n",
            "epoch : 11/20, train loss = 0.170315\n",
            "epoch : 12/20, train loss = 0.170205\n",
            "epoch : 13/20, train loss = 0.170350\n",
            "epoch : 14/20, train loss = 0.169820\n",
            "epoch : 15/20, train loss = 0.170349\n",
            "epoch : 16/20, train loss = 0.170019\n",
            "epoch : 17/20, train loss = 0.169513\n",
            "epoch : 18/20, train loss = 0.169978\n",
            "epoch : 19/20, train loss = 0.169733\n",
            "epoch : 20/20, train loss = 0.170458\n"
          ]
        }
      ],
      "source": [
        "denoising_autoencoder_pretraining(dae3, X_train, epochs, 128, 1e-3)"
      ]
    },
    {
      "cell_type": "markdown",
      "metadata": {
        "id": "UF_-T78x1ZkC"
      },
      "source": [
        "Doing fine tuning with 40 epochs, batch size of 128 and learning rate of 0.001 (ADAM OPTIMIZER)"
      ]
    },
    {
      "cell_type": "code",
      "execution_count": 84,
      "metadata": {
        "colab": {
          "base_uri": "https://localhost:8080/"
        },
        "id": "LQRm1IjgC0jY",
        "outputId": "a50d127a-e372-420c-c010-4a27746df6ab"
      },
      "outputs": [
        {
          "output_type": "stream",
          "name": "stdout",
          "text": [
            "epoch : 1/40, train loss = 0.004656, test loss = 0.004751\n",
            "epoch : 2/40, train loss = 0.004487, test loss = 0.004597\n",
            "epoch : 3/40, train loss = 0.004561, test loss = 0.004690\n",
            "epoch : 4/40, train loss = 0.004394, test loss = 0.004528\n",
            "epoch : 5/40, train loss = 0.004289, test loss = 0.004440\n",
            "epoch : 6/40, train loss = 0.004133, test loss = 0.004310\n",
            "epoch : 7/40, train loss = 0.004000, test loss = 0.004165\n",
            "epoch : 8/40, train loss = 0.004088, test loss = 0.004294\n",
            "epoch : 9/40, train loss = 0.003862, test loss = 0.004067\n",
            "epoch : 10/40, train loss = 0.004109, test loss = 0.004317\n",
            "epoch : 11/40, train loss = 0.003735, test loss = 0.003970\n",
            "epoch : 12/40, train loss = 0.003689, test loss = 0.003926\n",
            "epoch : 13/40, train loss = 0.003933, test loss = 0.004197\n",
            "epoch : 14/40, train loss = 0.003630, test loss = 0.003872\n",
            "epoch : 15/40, train loss = 0.003658, test loss = 0.003921\n",
            "epoch : 16/40, train loss = 0.003723, test loss = 0.003986\n",
            "epoch : 17/40, train loss = 0.003540, test loss = 0.003818\n",
            "epoch : 18/40, train loss = 0.003550, test loss = 0.003829\n",
            "epoch : 19/40, train loss = 0.003528, test loss = 0.003828\n",
            "epoch : 20/40, train loss = 0.003531, test loss = 0.003817\n",
            "epoch : 21/40, train loss = 0.003451, test loss = 0.003747\n",
            "epoch : 22/40, train loss = 0.003414, test loss = 0.003715\n",
            "epoch : 23/40, train loss = 0.003397, test loss = 0.003719\n",
            "epoch : 24/40, train loss = 0.003372, test loss = 0.003676\n",
            "epoch : 25/40, train loss = 0.003227, test loss = 0.003542\n",
            "epoch : 26/40, train loss = 0.003217, test loss = 0.003534\n",
            "epoch : 27/40, train loss = 0.003400, test loss = 0.003714\n",
            "epoch : 28/40, train loss = 0.003339, test loss = 0.003650\n",
            "epoch : 29/40, train loss = 0.003403, test loss = 0.003727\n",
            "epoch : 30/40, train loss = 0.003409, test loss = 0.003742\n",
            "epoch : 31/40, train loss = 0.003164, test loss = 0.003494\n",
            "epoch : 32/40, train loss = 0.003152, test loss = 0.003489\n",
            "epoch : 33/40, train loss = 0.003138, test loss = 0.003472\n",
            "epoch : 34/40, train loss = 0.003230, test loss = 0.003569\n",
            "epoch : 35/40, train loss = 0.003268, test loss = 0.003605\n",
            "epoch : 36/40, train loss = 0.003154, test loss = 0.003499\n",
            "epoch : 37/40, train loss = 0.003131, test loss = 0.003472\n",
            "epoch : 38/40, train loss = 0.003121, test loss = 0.003459\n",
            "epoch : 39/40, train loss = 0.003249, test loss = 0.003596\n",
            "epoch : 40/40, train loss = 0.003092, test loss = 0.003435\n"
          ]
        }
      ],
      "source": [
        "history_dae3 = denoising_autoencoder_training(dae3, X_train, epochs_deep, 128, 1e-3, X_test=X_test)"
      ]
    },
    {
      "cell_type": "markdown",
      "metadata": {
        "id": "P8dkg2lI1mW9"
      },
      "source": [
        "Showing the perfomance plotting the learning curve over train and test datasets, we can see that the network learn well and the error goes down in both curves (train and test)."
      ]
    },
    {
      "cell_type": "code",
      "execution_count": 85,
      "metadata": {
        "colab": {
          "base_uri": "https://localhost:8080/",
          "height": 265
        },
        "id": "VayT30c-byTN",
        "outputId": "3d3e0594-c627-450a-f50a-48dac765b094"
      },
      "outputs": [
        {
          "output_type": "display_data",
          "data": {
            "text/plain": [
              "<Figure size 432x288 with 1 Axes>"
            ],
            "image/png": "[encoded data removed]"
          },
          "metadata": {
            "needs_background": "light"
          }
        }
      ],
      "source": [
        "plt.plot(np.arange(epochs_deep)+1, history_dae3[\"train_errors\"], label='train_errors')\n",
        "plt.plot(np.arange(epochs_deep)+1, history_dae3[\"test_errors\"], label=\"test_errors\")\n",
        "plt.show()"
      ]
    },
    {
      "cell_type": "code",
      "execution_count": 86,
      "metadata": {
        "colab": {
          "base_uri": "https://localhost:8080/"
        },
        "id": "0LH0vz5bDJwS",
        "outputId": "338172ba-f626-4f68-b953-e05d74f97785"
      },
      "outputs": [
        {
          "output_type": "stream",
          "name": "stdout",
          "text": [
            "Pretraining and fine tuning Train MSE: 0.0030915860552340746\n",
            "Pretraining and fine tuning Test MSE: 0.0034350911155343056\n"
          ]
        }
      ],
      "source": [
        "print(f\"Pretraining and fine tuning Train MSE: {evaluate_MSE(dae3, X_train)}\")\n",
        "print(f\"Pretraining and fine tuning Test MSE: {evaluate_MSE(dae3, X_test)}\")"
      ]
    },
    {
      "cell_type": "markdown",
      "metadata": {
        "id": "ETC8QJSk13Ni"
      },
      "source": [
        "### Considerations\n",
        "\n",
        "The metric used in the experiments is the MSE error of the models w.r.t. the reconstruction of the clear input. In the experiments done until now we can see several things, the shallow auto encoder can reach very good performance in 20 epochs.\n",
        "From the several Deep Autoencoders we can see that we have a worsts result, maybe due to the higher non linearity in the hidden neurons. The dae1 (only pretraining) can't reach the same performances of the dae2 (only fine tuning) and even more does worst w.r.t the shallow one. In addition we can notice, seeing the curves of dae2 and dae3, that the pretraining can lead to faster training phase, but at the end dae2 and dae3 reach comparable performances (dae3 is slightly better). \n",
        "\n",
        "Even the worsts results, for the last section I will use the dae3 model."
      ]
    },
    {
      "cell_type": "code",
      "execution_count": 87,
      "metadata": {
        "id": "CaujNwlXCCa9"
      },
      "outputs": [],
      "source": [
        "model = dae3.cpu()"
      ]
    },
    {
      "cell_type": "markdown",
      "metadata": {
        "id": "ZJTLCb1P2atd"
      },
      "source": [
        "## Latent space interpolation\n",
        "\n",
        "In this section I will take three images from the test dataset, two represent the digit 0 and one represents digit 1.\n",
        "On each digit I apply the encoder part of the choosen model, retrieiving the latent space representations, with thoose representations I will show how the model decode various convex combinations of two of them, the two digit 0 and the digit 1 with a digit 0 latent space representations"
      ]
    },
    {
      "cell_type": "code",
      "execution_count": 88,
      "metadata": {
        "id": "Z0BHkwBE2Z01"
      },
      "outputs": [],
      "source": [
        "# get three images, two from the same class and the third of another class\n",
        "\n",
        "zero_class = y_test == 0\n",
        "one_class = y_test == 1\n",
        "\n",
        "z1 = X_test[zero_class][0]\n",
        "z2 = X_test[zero_class][1]\n",
        "z3 = X_test[one_class][0]"
      ]
    },
    {
      "cell_type": "markdown",
      "metadata": {
        "id": "ADQZ6egR7gHG"
      },
      "source": [
        "show the original imamges"
      ]
    },
    {
      "cell_type": "code",
      "execution_count": 89,
      "metadata": {
        "colab": {
          "base_uri": "https://localhost:8080/",
          "height": 265
        },
        "id": "0jonDCTA5YWv",
        "outputId": "1590f207-2ced-479e-c5d6-28343f34f44e"
      },
      "outputs": [
        {
          "output_type": "display_data",
          "data": {
            "text/plain": [
              "<Figure size 432x288 with 1 Axes>"
            ],
            "image/png": "[encoded data removed]"
          },
          "metadata": {
            "needs_background": "light"
          }
        }
      ],
      "source": [
        "plt.imshow(z1.view((28,28)))\n",
        "plt.show()"
      ]
    },
    {
      "cell_type": "code",
      "execution_count": 90,
      "metadata": {
        "colab": {
          "base_uri": "https://localhost:8080/",
          "height": 265
        },
        "id": "38wkqi1U6jQJ",
        "outputId": "0ac3e6f2-1f0b-49ca-c867-2d8a58f8d277"
      },
      "outputs": [
        {
          "output_type": "display_data",
          "data": {
            "text/plain": [
              "<Figure size 432x288 with 1 Axes>"
            ],
            "image/png": "[encoded data removed]"
          },
          "metadata": {
            "needs_background": "light"
          }
        }
      ],
      "source": [
        "plt.imshow(z2.view((28,28)))\n",
        "plt.show()"
      ]
    },
    {
      "cell_type": "code",
      "execution_count": 91,
      "metadata": {
        "colab": {
          "base_uri": "https://localhost:8080/",
          "height": 265
        },
        "id": "R-31yqqm3RhY",
        "outputId": "227e236d-1a9a-47ae-ce5a-e4c6d8880cff"
      },
      "outputs": [
        {
          "output_type": "display_data",
          "data": {
            "text/plain": [
              "<Figure size 432x288 with 1 Axes>"
            ],
            "image/png": "[encoded data removed]"
          },
          "metadata": {
            "needs_background": "light"
          }
        }
      ],
      "source": [
        "plt.imshow(z3.view((28,28)))\n",
        "plt.show()"
      ]
    },
    {
      "cell_type": "markdown",
      "metadata": {
        "id": "oduLje5J7i3j"
      },
      "source": [
        "show the reconstructions"
      ]
    },
    {
      "cell_type": "code",
      "execution_count": 92,
      "metadata": {
        "colab": {
          "base_uri": "https://localhost:8080/",
          "height": 265
        },
        "id": "hFrDQOSZ6FnP",
        "outputId": "55c7b7e2-c58e-4a38-a729-4746d572d9e7"
      },
      "outputs": [
        {
          "output_type": "display_data",
          "data": {
            "text/plain": [
              "<Figure size 432x288 with 1 Axes>"
            ],
            "image/png": "[encoded data removed]"
          },
          "metadata": {
            "needs_background": "light"
          }
        }
      ],
      "source": [
        "plt.imshow(model(z1).detach().view(28,28))\n",
        "plt.show()"
      ]
    },
    {
      "cell_type": "code",
      "execution_count": 93,
      "metadata": {
        "colab": {
          "base_uri": "https://localhost:8080/",
          "height": 265
        },
        "id": "nLt2YziY6l89",
        "outputId": "1a26e9c0-8df6-49bb-c177-1773a1b586c5"
      },
      "outputs": [
        {
          "output_type": "display_data",
          "data": {
            "text/plain": [
              "<Figure size 432x288 with 1 Axes>"
            ],
            "image/png": "[encoded data removed]"
          },
          "metadata": {
            "needs_background": "light"
          }
        }
      ],
      "source": [
        "plt.imshow(model(z2).detach().view(28,28))\n",
        "plt.show()"
      ]
    },
    {
      "cell_type": "code",
      "execution_count": 94,
      "metadata": {
        "colab": {
          "base_uri": "https://localhost:8080/",
          "height": 265
        },
        "id": "8I3RfaUQ3YdH",
        "outputId": "3e303a47-61a1-4fec-e8a3-03a5194e6ff7"
      },
      "outputs": [
        {
          "output_type": "display_data",
          "data": {
            "text/plain": [
              "<Figure size 432x288 with 1 Axes>"
            ],
            "image/png": "[encoded data removed]"
          },
          "metadata": {
            "needs_background": "light"
          }
        }
      ],
      "source": [
        "plt.imshow(model(z3).detach().view(28,28))\n",
        "plt.show()"
      ]
    },
    {
      "cell_type": "markdown",
      "metadata": {
        "id": "sJC934-aYixj"
      },
      "source": [
        "We can see that the model can reconstruct well the images graphically, this is expected because the MSE error is quite low in the training and test datasets."
      ]
    },
    {
      "cell_type": "code",
      "execution_count": 95,
      "metadata": {
        "id": "pxYx2UUE6Oif"
      },
      "outputs": [],
      "source": [
        "def latent_space_interpolation(model, image1, image2):\n",
        "  \"\"\"\n",
        "    Performance the latent space interpolation.\n",
        "    Taking the two latent representations generated by the autoencoder model from the image1 and image2,\n",
        "    get the decoding of some convex combination of the latent representations,\n",
        "    and plot them.\n",
        "\n",
        "    Args:\n",
        "        model (torch.nn.Module): An autoencoder model.\n",
        "        image1 (torch.Torch): first image.\n",
        "        image2 (torch.Torch): second image.\n",
        "  \"\"\"\n",
        "\n",
        "  with torch.no_grad():\n",
        "    enc1 = model.encode(image1)\n",
        "    enc2 = model.encode(image2)\n",
        "\n",
        "    progression_imgaes = [model.decode(enc2)]\n",
        "\n",
        "    for i in range(1,10):\n",
        "\n",
        "      alpha = i/10\n",
        "\n",
        "      enc = alpha*enc1 + (1-alpha)*enc2\n",
        "\n",
        "      dec = model.decode(enc)\n",
        "\n",
        "      progression_imgaes.append(dec)\n",
        "\n",
        "    progression_imgaes.append(model.decode(enc1))\n",
        "\n",
        "\n",
        "  plt.figure(figsize=(11*2, 11*2))\n",
        "  for i, comp in enumerate(progression_imgaes):\n",
        "      plt.subplot(11, 11, (i + 1))\n",
        "      plt.imshow(comp.reshape((28, 28)), cmap=plt.cm.gray_r, interpolation=\"nearest\", )\n",
        "      plt.title(f\"alpha = {i/10}\")\n",
        "      plt.xticks(())\n",
        "      plt.yticks(())\n",
        "  plt.suptitle(\"Progression of the decoder fitted with convex comb. of two encoded images\", fontsize=16)\n",
        "  plt.subplots_adjust(0.08, 0.02, 0.92, 0.85, 0.08, 0.23)\n",
        "\n",
        "  plt.show()"
      ]
    },
    {
      "cell_type": "markdown",
      "metadata": {
        "id": "tRWByFVB7lDQ"
      },
      "source": [
        "Show reconstruction of the convex combination of the two digit 0 latent space representations for $\\alpha \\in (0, 0.1, 0.2, 0.3, 0.4, 0.5, 0.6, 0.7, 0.8, 0.9, 1)$"
      ]
    },
    {
      "cell_type": "code",
      "execution_count": 96,
      "metadata": {
        "colab": {
          "base_uri": "https://localhost:8080/",
          "height": 335
        },
        "id": "RYxqfXoY3udh",
        "outputId": "c374cd4d-c3ad-43ad-f677-392b364b6e8c"
      },
      "outputs": [
        {
          "output_type": "display_data",
          "data": {
            "text/plain": [
              "<Figure size 1584x1584 with 11 Axes>"
            ],
            "image/png": "[encoded data removed]"
          },
          "metadata": {}
        }
      ],
      "source": [
        "latent_space_interpolation(model, z1, z2)"
      ]
    },
    {
      "cell_type": "markdown",
      "metadata": {
        "id": "GlsbI5qK7vAH"
      },
      "source": [
        "Show reconstruction of the convex combination of the digit 1 and a digit 0 latent space representations for $\\alpha \\in (0, 0.1, 0.2, 0.3, 0.4, 0.5, 0.6, 0.7, 0.8, 0.9, 1)$"
      ]
    },
    {
      "cell_type": "code",
      "execution_count": 97,
      "metadata": {
        "colab": {
          "base_uri": "https://localhost:8080/",
          "height": 335
        },
        "id": "LBB4Bnh13wFk",
        "outputId": "31adaf92-12ad-41bf-a760-d45b0efb9607"
      },
      "outputs": [
        {
          "output_type": "display_data",
          "data": {
            "text/plain": [
              "<Figure size 1584x1584 with 11 Axes>"
            ],
            "image/png": "[encoded data removed]"
          },
          "metadata": {}
        }
      ],
      "source": [
        "latent_space_interpolation(model, z1, z3)"
      ]
    },
    {
      "cell_type": "markdown",
      "metadata": {
        "id": "wa9pTvoJM0Lx"
      },
      "source": [
        "We can see how the latent space convex interpolations produce images that are smoothly between the two start images, we can see how the network retrieve outputs that seemsly are in the data manifold without destroy completly the data structure."
      ]
    },
    {
      "cell_type": "markdown",
      "metadata": {
        "id": "W6yw2u2v3z3c"
      },
      "source": [
        "## Iterative Gradient Ascent\n",
        "\n",
        "In this section I will exploit the property of the denoiser autoencoders:\n",
        "\n",
        "$g(f(x)) - x \\propto \\frac{\\partial log(P(x))}{\\partial x}$\n",
        "\n",
        "So, given a radom input $x$ I can maximize the probability $P$ of the input belong to the dataset distribution applying the iterative gradient ascent, taking the random input and passing iterativelly through the autoencoder."
      ]
    },
    {
      "cell_type": "code",
      "execution_count": 98,
      "metadata": {
        "id": "sXi-6PO97DjD"
      },
      "outputs": [],
      "source": [
        "def iterative_gradient_ascent(model):\n",
        "  \"\"\"\n",
        "    Given an autoencoder perform the iterative gradient ascent of the \n",
        "    probability of an input image to be in the training data's manifold,\n",
        "    starting with a random sampled image.\n",
        "    Plot 16 time step of the gradient ascent.\n",
        "\n",
        "    Args:\n",
        "        model (torch.nn.Module): An autoencoder model.\n",
        "        latent1 (torch.Torch): first latent representation.\n",
        "        latent2 (torch.Torch): second latent representation.\n",
        "  \"\"\"\n",
        "\n",
        "  with torch.no_grad():\n",
        "    rand_img = torch.rand(784)\n",
        "\n",
        "    gradient_ascent_images = [rand_img.clone()]\n",
        "\n",
        "    for i in range(15):\n",
        "      recon = model(rand_img)\n",
        "      delta_p = recon - rand_img\n",
        "      rand_img += 0.3*delta_p\n",
        "      gradient_ascent_images.append(rand_img.clone())\n",
        "\n",
        "    show_table_images(gradient_ascent_images, \"First 25 iterations of gradient ascent\", 4)"
      ]
    },
    {
      "cell_type": "code",
      "execution_count": 99,
      "metadata": {
        "colab": {
          "base_uri": "https://localhost:8080/",
          "height": 587
        },
        "id": "tiawCMc1qO_d",
        "outputId": "b58a6145-dc66-44d7-992b-4cd8c298f1e1"
      },
      "outputs": [
        {
          "output_type": "display_data",
          "data": {
            "text/plain": [
              "<Figure size 576x576 with 16 Axes>"
            ],
            "image/png": "[encoded data removed]"
          },
          "metadata": {}
        }
      ],
      "source": [
        "iterative_gradient_ascent(model)"
      ]
    },
    {
      "cell_type": "markdown",
      "metadata": {
        "id": "S4SfNgu3Zq6j"
      },
      "source": [
        "We can see how iterativelly the input converge to an image that more or less has a some kind of structure like in the mnist images.\n",
        "\n"
      ]
    },
    {
      "cell_type": "markdown",
      "metadata": {
        "id": "FR9vtGOLoqa5"
      },
      "source": [
        "## Iterative Gradient Ascent for a single class learned autoencoder\n",
        "\n",
        "To see better the convergence of the random input to the data manifold we can do the same iterative gradient ascent but on a model trained over a single digit (in this case 4), having more recognizable structure."
      ]
    },
    {
      "cell_type": "code",
      "execution_count": 106,
      "metadata": {
        "id": "NFUuZHjFon_F"
      },
      "outputs": [],
      "source": [
        "model_single = AE(input_shape=784, hidden_dimension=128)"
      ]
    },
    {
      "cell_type": "code",
      "execution_count": 107,
      "metadata": {
        "colab": {
          "base_uri": "https://localhost:8080/"
        },
        "id": "pTdtwSsEo8wL",
        "outputId": "12356109-1dea-4083-9146-0bf43ce5bb8e"
      },
      "outputs": [
        {
          "output_type": "stream",
          "name": "stdout",
          "text": [
            "epoch : 1/20, train loss = 0.039049, test loss = 0.038486\n",
            "epoch : 2/20, train loss = 0.026296, test loss = 0.025651\n",
            "epoch : 3/20, train loss = 0.020685, test loss = 0.020136\n",
            "epoch : 4/20, train loss = 0.017413, test loss = 0.017021\n",
            "epoch : 5/20, train loss = 0.014806, test loss = 0.014432\n",
            "epoch : 6/20, train loss = 0.012658, test loss = 0.012391\n",
            "epoch : 7/20, train loss = 0.011127, test loss = 0.010897\n",
            "epoch : 8/20, train loss = 0.009878, test loss = 0.009763\n",
            "epoch : 9/20, train loss = 0.008878, test loss = 0.008809\n",
            "epoch : 10/20, train loss = 0.008040, test loss = 0.008017\n",
            "epoch : 11/20, train loss = 0.007355, test loss = 0.007333\n",
            "epoch : 12/20, train loss = 0.006862, test loss = 0.006913\n",
            "epoch : 13/20, train loss = 0.006347, test loss = 0.006380\n",
            "epoch : 14/20, train loss = 0.005913, test loss = 0.006022\n",
            "epoch : 15/20, train loss = 0.005545, test loss = 0.005652\n",
            "epoch : 16/20, train loss = 0.005247, test loss = 0.005394\n",
            "epoch : 17/20, train loss = 0.004941, test loss = 0.005081\n",
            "epoch : 18/20, train loss = 0.004723, test loss = 0.004859\n",
            "epoch : 19/20, train loss = 0.004467, test loss = 0.004594\n",
            "epoch : 20/20, train loss = 0.004262, test loss = 0.004412\n"
          ]
        }
      ],
      "source": [
        "_ = denoising_autoencoder_training(model_single, X_train[y_train==4], 20, 64, 1e-3, X_test = X_test[y_test==4])"
      ]
    },
    {
      "cell_type": "code",
      "execution_count": 108,
      "metadata": {
        "colab": {
          "base_uri": "https://localhost:8080/"
        },
        "id": "d76faHpiat6-",
        "outputId": "0db5f1b8-39da-4c4a-acad-8fe31f1b8a3d"
      },
      "outputs": [
        {
          "output_type": "stream",
          "name": "stdout",
          "text": [
            "Single digit fine tuning Train MSE: 0.0042620315216481686\n",
            "Single digit fine tuning Test MSE: 0.004411567002534866\n"
          ]
        }
      ],
      "source": [
        "print(f\"Single digit fine tuning Train MSE: {evaluate_MSE(model_single, X_train[y_train==4])}\")\n",
        "print(f\"Single digit fine tuning Test MSE: {evaluate_MSE(model_single, X_test[y_test==4])}\")"
      ]
    },
    {
      "cell_type": "code",
      "execution_count": 109,
      "metadata": {
        "id": "Y4hno_TjK0QI"
      },
      "outputs": [],
      "source": [
        "model_single = model_single.cpu()"
      ]
    },
    {
      "cell_type": "code",
      "execution_count": 110,
      "metadata": {
        "colab": {
          "base_uri": "https://localhost:8080/",
          "height": 587
        },
        "id": "UKDrtX3hpNMs",
        "outputId": "82b36035-a287-430c-ab40-ea04454dfad6"
      },
      "outputs": [
        {
          "output_type": "display_data",
          "data": {
            "text/plain": [
              "<Figure size 576x576 with 16 Axes>"
            ],
            "image/png": "[encoded data removed]"
          },
          "metadata": {}
        }
      ],
      "source": [
        "iterative_gradient_ascent(model_single)"
      ]
    },
    {
      "cell_type": "markdown",
      "metadata": {
        "id": "jOIv5xMgaUaf"
      },
      "source": [
        "In this case we can see the convergence to an image that represent the structure of a digit 4."
      ]
    },
    {
      "cell_type": "markdown",
      "metadata": {
        "id": "0m6HzA9rMOj7"
      },
      "source": [
        "## Conclusions\n",
        "\n",
        "As already sayd the parameters of the networks in the experiments are choosen out of a very rough screening phase, more effort w.r.t hyper-parameters selection and network structure could be done, even for the choice of the noise's variance, but I think that the results are already satisfactory to see practically theoretical results seen in class."
      ]
    }
  ],
  "metadata": {
    "accelerator": "GPU",
    "colab": {
      "collapsed_sections": [],
      "name": "ISPR_HW3.ipynb",
      "provenance": []
    },
    "kernelspec": {
      "display_name": "Python 3",
      "name": "python3"
    },
    "language_info": {
      "name": "python"
    },
    "widgets": {
      "application/vnd.jupyter.widget-state+json": {
        "2badc63faeaf43a689bb8095f499104c": {
          "model_module": "@jupyter-widgets/controls",
          "model_name": "HBoxModel",
          "model_module_version": "1.5.0",
          "state": {
            "_dom_classes": [],
            "_model_module": "@jupyter-widgets/controls",
            "_model_module_version": "1.5.0",
            "_model_name": "HBoxModel",
            "_view_count": null,
            "_view_module": "@jupyter-widgets/controls",
            "_view_module_version": "1.5.0",
            "_view_name": "HBoxView",
            "box_style": "",
            "children": [
              "IPY_MODEL_759e4e2bd10d4b6ab7a1630036516f18",
              "IPY_MODEL_c36acc8706d74349882858c1a3bc4861",
              "IPY_MODEL_e922c5b44b224648acf9e56ad762313b"
            ],
            "layout": "IPY_MODEL_10bb0c1ca85148b48248249b5579449c"
          }
        },
        "759e4e2bd10d4b6ab7a1630036516f18": {
          "model_module": "@jupyter-widgets/controls",
          "model_name": "HTMLModel",
          "model_module_version": "1.5.0",
          "state": {
            "_dom_classes": [],
            "_model_module": "@jupyter-widgets/controls",
            "_model_module_version": "1.5.0",
            "_model_name": "HTMLModel",
            "_view_count": null,
            "_view_module": "@jupyter-widgets/controls",
            "_view_module_version": "1.5.0",
            "_view_name": "HTMLView",
            "description": "",
            "description_tooltip": null,
            "layout": "IPY_MODEL_b417aede888640b7a46360f07ee1e7fe",
            "placeholder": "​",
            "style": "IPY_MODEL_11d47549e06c414f8f635b894111aac3",
            "value": ""
          }
        },
        "c36acc8706d74349882858c1a3bc4861": {
          "model_module": "@jupyter-widgets/controls",
          "model_name": "FloatProgressModel",
          "model_module_version": "1.5.0",
          "state": {
            "_dom_classes": [],
            "_model_module": "@jupyter-widgets/controls",
            "_model_module_version": "1.5.0",
            "_model_name": "FloatProgressModel",
            "_view_count": null,
            "_view_module": "@jupyter-widgets/controls",
            "_view_module_version": "1.5.0",
            "_view_name": "ProgressView",
            "bar_style": "success",
            "description": "",
            "description_tooltip": null,
            "layout": "IPY_MODEL_d7e1f5f315b94cbd85ba583460be9fae",
            "max": 9912422,
            "min": 0,
            "orientation": "horizontal",
            "style": "IPY_MODEL_5180f64464664cadaf3d4941aa686bf5",
            "value": 9912422
          }
        },
        "e922c5b44b224648acf9e56ad762313b": {
          "model_module": "@jupyter-widgets/controls",
          "model_name": "HTMLModel",
          "model_module_version": "1.5.0",
          "state": {
            "_dom_classes": [],
            "_model_module": "@jupyter-widgets/controls",
            "_model_module_version": "1.5.0",
            "_model_name": "HTMLModel",
            "_view_count": null,
            "_view_module": "@jupyter-widgets/controls",
            "_view_module_version": "1.5.0",
            "_view_name": "HTMLView",
            "description": "",
            "description_tooltip": null,
            "layout": "IPY_MODEL_d6c67e6d3ff94a1f8541f0a5964a5673",
            "placeholder": "​",
            "style": "IPY_MODEL_e1a83f48e69d483c8cba6b906ce50497",
            "value": " 9913344/? [00:00&lt;00:00, 10832638.98it/s]"
          }
        },
        "10bb0c1ca85148b48248249b5579449c": {
          "model_module": "@jupyter-widgets/base",
          "model_name": "LayoutModel",
          "model_module_version": "1.2.0",
          "state": {
            "_model_module": "@jupyter-widgets/base",
            "_model_module_version": "1.2.0",
            "_model_name": "LayoutModel",
            "_view_count": null,
            "_view_module": "@jupyter-widgets/base",
            "_view_module_version": "1.2.0",
            "_view_name": "LayoutView",
            "align_content": null,
            "align_items": null,
            "align_self": null,
            "border": null,
            "bottom": null,
            "display": null,
            "flex": null,
            "flex_flow": null,
            "grid_area": null,
            "grid_auto_columns": null,
            "grid_auto_flow": null,
            "grid_auto_rows": null,
            "grid_column": null,
            "grid_gap": null,
            "grid_row": null,
            "grid_template_areas": null,
            "grid_template_columns": null,
            "grid_template_rows": null,
            "height": null,
            "justify_content": null,
            "justify_items": null,
            "left": null,
            "margin": null,
            "max_height": null,
            "max_width": null,
            "min_height": null,
            "min_width": null,
            "object_fit": null,
            "object_position": null,
            "order": null,
            "overflow": null,
            "overflow_x": null,
            "overflow_y": null,
            "padding": null,
            "right": null,
            "top": null,
            "visibility": null,
            "width": null
          }
        },
        "b417aede888640b7a46360f07ee1e7fe": {
          "model_module": "@jupyter-widgets/base",
          "model_name": "LayoutModel",
          "model_module_version": "1.2.0",
          "state": {
            "_model_module": "@jupyter-widgets/base",
            "_model_module_version": "1.2.0",
            "_model_name": "LayoutModel",
            "_view_count": null,
            "_view_module": "@jupyter-widgets/base",
            "_view_module_version": "1.2.0",
            "_view_name": "LayoutView",
            "align_content": null,
            "align_items": null,
            "align_self": null,
            "border": null,
            "bottom": null,
            "display": null,
            "flex": null,
            "flex_flow": null,
            "grid_area": null,
            "grid_auto_columns": null,
            "grid_auto_flow": null,
            "grid_auto_rows": null,
            "grid_column": null,
            "grid_gap": null,
            "grid_row": null,
            "grid_template_areas": null,
            "grid_template_columns": null,
            "grid_template_rows": null,
            "height": null,
            "justify_content": null,
            "justify_items": null,
            "left": null,
            "margin": null,
            "max_height": null,
            "max_width": null,
            "min_height": null,
            "min_width": null,
            "object_fit": null,
            "object_position": null,
            "order": null,
            "overflow": null,
            "overflow_x": null,
            "overflow_y": null,
            "padding": null,
            "right": null,
            "top": null,
            "visibility": null,
            "width": null
          }
        },
        "11d47549e06c414f8f635b894111aac3": {
          "model_module": "@jupyter-widgets/controls",
          "model_name": "DescriptionStyleModel",
          "model_module_version": "1.5.0",
          "state": {
            "_model_module": "@jupyter-widgets/controls",
            "_model_module_version": "1.5.0",
            "_model_name": "DescriptionStyleModel",
            "_view_count": null,
            "_view_module": "@jupyter-widgets/base",
            "_view_module_version": "1.2.0",
            "_view_name": "StyleView",
            "description_width": ""
          }
        },
        "d7e1f5f315b94cbd85ba583460be9fae": {
          "model_module": "@jupyter-widgets/base",
          "model_name": "LayoutModel",
          "model_module_version": "1.2.0",
          "state": {
            "_model_module": "@jupyter-widgets/base",
            "_model_module_version": "1.2.0",
            "_model_name": "LayoutModel",
            "_view_count": null,
            "_view_module": "@jupyter-widgets/base",
            "_view_module_version": "1.2.0",
            "_view_name": "LayoutView",
            "align_content": null,
            "align_items": null,
            "align_self": null,
            "border": null,
            "bottom": null,
            "display": null,
            "flex": null,
            "flex_flow": null,
            "grid_area": null,
            "grid_auto_columns": null,
            "grid_auto_flow": null,
            "grid_auto_rows": null,
            "grid_column": null,
            "grid_gap": null,
            "grid_row": null,
            "grid_template_areas": null,
            "grid_template_columns": null,
            "grid_template_rows": null,
            "height": null,
            "justify_content": null,
            "justify_items": null,
            "left": null,
            "margin": null,
            "max_height": null,
            "max_width": null,
            "min_height": null,
            "min_width": null,
            "object_fit": null,
            "object_position": null,
            "order": null,
            "overflow": null,
            "overflow_x": null,
            "overflow_y": null,
            "padding": null,
            "right": null,
            "top": null,
            "visibility": null,
            "width": null
          }
        },
        "5180f64464664cadaf3d4941aa686bf5": {
          "model_module": "@jupyter-widgets/controls",
          "model_name": "ProgressStyleModel",
          "model_module_version": "1.5.0",
          "state": {
            "_model_module": "@jupyter-widgets/controls",
            "_model_module_version": "1.5.0",
            "_model_name": "ProgressStyleModel",
            "_view_count": null,
            "_view_module": "@jupyter-widgets/base",
            "_view_module_version": "1.2.0",
            "_view_name": "StyleView",
            "bar_color": null,
            "description_width": ""
          }
        },
        "d6c67e6d3ff94a1f8541f0a5964a5673": {
          "model_module": "@jupyter-widgets/base",
          "model_name": "LayoutModel",
          "model_module_version": "1.2.0",
          "state": {
            "_model_module": "@jupyter-widgets/base",
            "_model_module_version": "1.2.0",
            "_model_name": "LayoutModel",
            "_view_count": null,
            "_view_module": "@jupyter-widgets/base",
            "_view_module_version": "1.2.0",
            "_view_name": "LayoutView",
            "align_content": null,
            "align_items": null,
            "align_self": null,
            "border": null,
            "bottom": null,
            "display": null,
            "flex": null,
            "flex_flow": null,
            "grid_area": null,
            "grid_auto_columns": null,
            "grid_auto_flow": null,
            "grid_auto_rows": null,
            "grid_column": null,
            "grid_gap": null,
            "grid_row": null,
            "grid_template_areas": null,
            "grid_template_columns": null,
            "grid_template_rows": null,
            "height": null,
            "justify_content": null,
            "justify_items": null,
            "left": null,
            "margin": null,
            "max_height": null,
            "max_width": null,
            "min_height": null,
            "min_width": null,
            "object_fit": null,
            "object_position": null,
            "order": null,
            "overflow": null,
            "overflow_x": null,
            "overflow_y": null,
            "padding": null,
            "right": null,
            "top": null,
            "visibility": null,
            "width": null
          }
        },
        "e1a83f48e69d483c8cba6b906ce50497": {
          "model_module": "@jupyter-widgets/controls",
          "model_name": "DescriptionStyleModel",
          "model_module_version": "1.5.0",
          "state": {
            "_model_module": "@jupyter-widgets/controls",
            "_model_module_version": "1.5.0",
            "_model_name": "DescriptionStyleModel",
            "_view_count": null,
            "_view_module": "@jupyter-widgets/base",
            "_view_module_version": "1.2.0",
            "_view_name": "StyleView",
            "description_width": ""
          }
        },
        "3028518347cd497186545cc037c7f3b8": {
          "model_module": "@jupyter-widgets/controls",
          "model_name": "HBoxModel",
          "model_module_version": "1.5.0",
          "state": {
            "_dom_classes": [],
            "_model_module": "@jupyter-widgets/controls",
            "_model_module_version": "1.5.0",
            "_model_name": "HBoxModel",
            "_view_count": null,
            "_view_module": "@jupyter-widgets/controls",
            "_view_module_version": "1.5.0",
            "_view_name": "HBoxView",
            "box_style": "",
            "children": [
              "IPY_MODEL_72b4bcee767646b09d0a5fbbd1797b1c",
              "IPY_MODEL_7ee44bc1c16c4528a811b8781a02f86e",
              "IPY_MODEL_f569c3525d9e4c3b97cc44f4d0b37a1b"
            ],
            "layout": "IPY_MODEL_5d975897e0a7490da7e55a9b7adc39cc"
          }
        },
        "72b4bcee767646b09d0a5fbbd1797b1c": {
          "model_module": "@jupyter-widgets/controls",
          "model_name": "HTMLModel",
          "model_module_version": "1.5.0",
          "state": {
            "_dom_classes": [],
            "_model_module": "@jupyter-widgets/controls",
            "_model_module_version": "1.5.0",
            "_model_name": "HTMLModel",
            "_view_count": null,
            "_view_module": "@jupyter-widgets/controls",
            "_view_module_version": "1.5.0",
            "_view_name": "HTMLView",
            "description": "",
            "description_tooltip": null,
            "layout": "IPY_MODEL_7a183b26a791437ca0e08ac2249f2b3f",
            "placeholder": "​",
            "style": "IPY_MODEL_47e0684fee4e452b962654ac3ed6e484",
            "value": ""
          }
        },
        "7ee44bc1c16c4528a811b8781a02f86e": {
          "model_module": "@jupyter-widgets/controls",
          "model_name": "FloatProgressModel",
          "model_module_version": "1.5.0",
          "state": {
            "_dom_classes": [],
            "_model_module": "@jupyter-widgets/controls",
            "_model_module_version": "1.5.0",
            "_model_name": "FloatProgressModel",
            "_view_count": null,
            "_view_module": "@jupyter-widgets/controls",
            "_view_module_version": "1.5.0",
            "_view_name": "ProgressView",
            "bar_style": "success",
            "description": "",
            "description_tooltip": null,
            "layout": "IPY_MODEL_8b8806c2dbfa4793a86b5e6185d00ae8",
            "max": 28881,
            "min": 0,
            "orientation": "horizontal",
            "style": "IPY_MODEL_2d16ceb4ebd64260ae63c224aa746173",
            "value": 28881
          }
        },
        "f569c3525d9e4c3b97cc44f4d0b37a1b": {
          "model_module": "@jupyter-widgets/controls",
          "model_name": "HTMLModel",
          "model_module_version": "1.5.0",
          "state": {
            "_dom_classes": [],
            "_model_module": "@jupyter-widgets/controls",
            "_model_module_version": "1.5.0",
            "_model_name": "HTMLModel",
            "_view_count": null,
            "_view_module": "@jupyter-widgets/controls",
            "_view_module_version": "1.5.0",
            "_view_name": "HTMLView",
            "description": "",
            "description_tooltip": null,
            "layout": "IPY_MODEL_50d6558c0e7e4cbfab5d2abf2282f888",
            "placeholder": "​",
            "style": "IPY_MODEL_71f1bec354c3453b8e69888181bf60ce",
            "value": " 29696/? [00:00&lt;00:00, 570880.11it/s]"
          }
        },
        "5d975897e0a7490da7e55a9b7adc39cc": {
          "model_module": "@jupyter-widgets/base",
          "model_name": "LayoutModel",
          "model_module_version": "1.2.0",
          "state": {
            "_model_module": "@jupyter-widgets/base",
            "_model_module_version": "1.2.0",
            "_model_name": "LayoutModel",
            "_view_count": null,
            "_view_module": "@jupyter-widgets/base",
            "_view_module_version": "1.2.0",
            "_view_name": "LayoutView",
            "align_content": null,
            "align_items": null,
            "align_self": null,
            "border": null,
            "bottom": null,
            "display": null,
            "flex": null,
            "flex_flow": null,
            "grid_area": null,
            "grid_auto_columns": null,
            "grid_auto_flow": null,
            "grid_auto_rows": null,
            "grid_column": null,
            "grid_gap": null,
            "grid_row": null,
            "grid_template_areas": null,
            "grid_template_columns": null,
            "grid_template_rows": null,
            "height": null,
            "justify_content": null,
            "justify_items": null,
            "left": null,
            "margin": null,
            "max_height": null,
            "max_width": null,
            "min_height": null,
            "min_width": null,
            "object_fit": null,
            "object_position": null,
            "order": null,
            "overflow": null,
            "overflow_x": null,
            "overflow_y": null,
            "padding": null,
            "right": null,
            "top": null,
            "visibility": null,
            "width": null
          }
        },
        "7a183b26a791437ca0e08ac2249f2b3f": {
          "model_module": "@jupyter-widgets/base",
          "model_name": "LayoutModel",
          "model_module_version": "1.2.0",
          "state": {
            "_model_module": "@jupyter-widgets/base",
            "_model_module_version": "1.2.0",
            "_model_name": "LayoutModel",
            "_view_count": null,
            "_view_module": "@jupyter-widgets/base",
            "_view_module_version": "1.2.0",
            "_view_name": "LayoutView",
            "align_content": null,
            "align_items": null,
            "align_self": null,
            "border": null,
            "bottom": null,
            "display": null,
            "flex": null,
            "flex_flow": null,
            "grid_area": null,
            "grid_auto_columns": null,
            "grid_auto_flow": null,
            "grid_auto_rows": null,
            "grid_column": null,
            "grid_gap": null,
            "grid_row": null,
            "grid_template_areas": null,
            "grid_template_columns": null,
            "grid_template_rows": null,
            "height": null,
            "justify_content": null,
            "justify_items": null,
            "left": null,
            "margin": null,
            "max_height": null,
            "max_width": null,
            "min_height": null,
            "min_width": null,
            "object_fit": null,
            "object_position": null,
            "order": null,
            "overflow": null,
            "overflow_x": null,
            "overflow_y": null,
            "padding": null,
            "right": null,
            "top": null,
            "visibility": null,
            "width": null
          }
        },
        "47e0684fee4e452b962654ac3ed6e484": {
          "model_module": "@jupyter-widgets/controls",
          "model_name": "DescriptionStyleModel",
          "model_module_version": "1.5.0",
          "state": {
            "_model_module": "@jupyter-widgets/controls",
            "_model_module_version": "1.5.0",
            "_model_name": "DescriptionStyleModel",
            "_view_count": null,
            "_view_module": "@jupyter-widgets/base",
            "_view_module_version": "1.2.0",
            "_view_name": "StyleView",
            "description_width": ""
          }
        },
        "8b8806c2dbfa4793a86b5e6185d00ae8": {
          "model_module": "@jupyter-widgets/base",
          "model_name": "LayoutModel",
          "model_module_version": "1.2.0",
          "state": {
            "_model_module": "@jupyter-widgets/base",
            "_model_module_version": "1.2.0",
            "_model_name": "LayoutModel",
            "_view_count": null,
            "_view_module": "@jupyter-widgets/base",
            "_view_module_version": "1.2.0",
            "_view_name": "LayoutView",
            "align_content": null,
            "align_items": null,
            "align_self": null,
            "border": null,
            "bottom": null,
            "display": null,
            "flex": null,
            "flex_flow": null,
            "grid_area": null,
            "grid_auto_columns": null,
            "grid_auto_flow": null,
            "grid_auto_rows": null,
            "grid_column": null,
            "grid_gap": null,
            "grid_row": null,
            "grid_template_areas": null,
            "grid_template_columns": null,
            "grid_template_rows": null,
            "height": null,
            "justify_content": null,
            "justify_items": null,
            "left": null,
            "margin": null,
            "max_height": null,
            "max_width": null,
            "min_height": null,
            "min_width": null,
            "object_fit": null,
            "object_position": null,
            "order": null,
            "overflow": null,
            "overflow_x": null,
            "overflow_y": null,
            "padding": null,
            "right": null,
            "top": null,
            "visibility": null,
            "width": null
          }
        },
        "2d16ceb4ebd64260ae63c224aa746173": {
          "model_module": "@jupyter-widgets/controls",
          "model_name": "ProgressStyleModel",
          "model_module_version": "1.5.0",
          "state": {
            "_model_module": "@jupyter-widgets/controls",
            "_model_module_version": "1.5.0",
            "_model_name": "ProgressStyleModel",
            "_view_count": null,
            "_view_module": "@jupyter-widgets/base",
            "_view_module_version": "1.2.0",
            "_view_name": "StyleView",
            "bar_color": null,
            "description_width": ""
          }
        },
        "50d6558c0e7e4cbfab5d2abf2282f888": {
          "model_module": "@jupyter-widgets/base",
          "model_name": "LayoutModel",
          "model_module_version": "1.2.0",
          "state": {
            "_model_module": "@jupyter-widgets/base",
            "_model_module_version": "1.2.0",
            "_model_name": "LayoutModel",
            "_view_count": null,
            "_view_module": "@jupyter-widgets/base",
            "_view_module_version": "1.2.0",
            "_view_name": "LayoutView",
            "align_content": null,
            "align_items": null,
            "align_self": null,
            "border": null,
            "bottom": null,
            "display": null,
            "flex": null,
            "flex_flow": null,
            "grid_area": null,
            "grid_auto_columns": null,
            "grid_auto_flow": null,
            "grid_auto_rows": null,
            "grid_column": null,
            "grid_gap": null,
            "grid_row": null,
            "grid_template_areas": null,
            "grid_template_columns": null,
            "grid_template_rows": null,
            "height": null,
            "justify_content": null,
            "justify_items": null,
            "left": null,
            "margin": null,
            "max_height": null,
            "max_width": null,
            "min_height": null,
            "min_width": null,
            "object_fit": null,
            "object_position": null,
            "order": null,
            "overflow": null,
            "overflow_x": null,
            "overflow_y": null,
            "padding": null,
            "right": null,
            "top": null,
            "visibility": null,
            "width": null
          }
        },
        "71f1bec354c3453b8e69888181bf60ce": {
          "model_module": "@jupyter-widgets/controls",
          "model_name": "DescriptionStyleModel",
          "model_module_version": "1.5.0",
          "state": {
            "_model_module": "@jupyter-widgets/controls",
            "_model_module_version": "1.5.0",
            "_model_name": "DescriptionStyleModel",
            "_view_count": null,
            "_view_module": "@jupyter-widgets/base",
            "_view_module_version": "1.2.0",
            "_view_name": "StyleView",
            "description_width": ""
          }
        },
        "eced4876a0254f9dbb4a9a6ccc430a2d": {
          "model_module": "@jupyter-widgets/controls",
          "model_name": "HBoxModel",
          "model_module_version": "1.5.0",
          "state": {
            "_dom_classes": [],
            "_model_module": "@jupyter-widgets/controls",
            "_model_module_version": "1.5.0",
            "_model_name": "HBoxModel",
            "_view_count": null,
            "_view_module": "@jupyter-widgets/controls",
            "_view_module_version": "1.5.0",
            "_view_name": "HBoxView",
            "box_style": "",
            "children": [
              "IPY_MODEL_7c4fc9781dd342f0a7c32102b5c04a8f",
              "IPY_MODEL_8501ee0beee045d09464ea39a582a97b",
              "IPY_MODEL_257286bc730a4186b0827dc5d22cd245"
            ],
            "layout": "IPY_MODEL_f99f81747e494b6f998ac53c0ec021bb"
          }
        },
        "7c4fc9781dd342f0a7c32102b5c04a8f": {
          "model_module": "@jupyter-widgets/controls",
          "model_name": "HTMLModel",
          "model_module_version": "1.5.0",
          "state": {
            "_dom_classes": [],
            "_model_module": "@jupyter-widgets/controls",
            "_model_module_version": "1.5.0",
            "_model_name": "HTMLModel",
            "_view_count": null,
            "_view_module": "@jupyter-widgets/controls",
            "_view_module_version": "1.5.0",
            "_view_name": "HTMLView",
            "description": "",
            "description_tooltip": null,
            "layout": "IPY_MODEL_865a817ba47c4baeb61743d44f4cc72f",
            "placeholder": "​",
            "style": "IPY_MODEL_16432444b3e64d4c9ff8c1ba6a76f6a4",
            "value": ""
          }
        },
        "8501ee0beee045d09464ea39a582a97b": {
          "model_module": "@jupyter-widgets/controls",
          "model_name": "FloatProgressModel",
          "model_module_version": "1.5.0",
          "state": {
            "_dom_classes": [],
            "_model_module": "@jupyter-widgets/controls",
            "_model_module_version": "1.5.0",
            "_model_name": "FloatProgressModel",
            "_view_count": null,
            "_view_module": "@jupyter-widgets/controls",
            "_view_module_version": "1.5.0",
            "_view_name": "ProgressView",
            "bar_style": "success",
            "description": "",
            "description_tooltip": null,
            "layout": "IPY_MODEL_336438fd5ff24687998ca736492b5ba4",
            "max": 1648877,
            "min": 0,
            "orientation": "horizontal",
            "style": "IPY_MODEL_a2ecde539ed24acba0ca90ce4f4b7a52",
            "value": 1648877
          }
        },
        "257286bc730a4186b0827dc5d22cd245": {
          "model_module": "@jupyter-widgets/controls",
          "model_name": "HTMLModel",
          "model_module_version": "1.5.0",
          "state": {
            "_dom_classes": [],
            "_model_module": "@jupyter-widgets/controls",
            "_model_module_version": "1.5.0",
            "_model_name": "HTMLModel",
            "_view_count": null,
            "_view_module": "@jupyter-widgets/controls",
            "_view_module_version": "1.5.0",
            "_view_name": "HTMLView",
            "description": "",
            "description_tooltip": null,
            "layout": "IPY_MODEL_c722f18709854a2fb08f7c8e03147003",
            "placeholder": "​",
            "style": "IPY_MODEL_0e91bcdf517b4e88bcd01d30f3bba05d",
            "value": " 1649664/? [00:00&lt;00:00, 14048556.52it/s]"
          }
        },
        "f99f81747e494b6f998ac53c0ec021bb": {
          "model_module": "@jupyter-widgets/base",
          "model_name": "LayoutModel",
          "model_module_version": "1.2.0",
          "state": {
            "_model_module": "@jupyter-widgets/base",
            "_model_module_version": "1.2.0",
            "_model_name": "LayoutModel",
            "_view_count": null,
            "_view_module": "@jupyter-widgets/base",
            "_view_module_version": "1.2.0",
            "_view_name": "LayoutView",
            "align_content": null,
            "align_items": null,
            "align_self": null,
            "border": null,
            "bottom": null,
            "display": null,
            "flex": null,
            "flex_flow": null,
            "grid_area": null,
            "grid_auto_columns": null,
            "grid_auto_flow": null,
            "grid_auto_rows": null,
            "grid_column": null,
            "grid_gap": null,
            "grid_row": null,
            "grid_template_areas": null,
            "grid_template_columns": null,
            "grid_template_rows": null,
            "height": null,
            "justify_content": null,
            "justify_items": null,
            "left": null,
            "margin": null,
            "max_height": null,
            "max_width": null,
            "min_height": null,
            "min_width": null,
            "object_fit": null,
            "object_position": null,
            "order": null,
            "overflow": null,
            "overflow_x": null,
            "overflow_y": null,
            "padding": null,
            "right": null,
            "top": null,
            "visibility": null,
            "width": null
          }
        },
        "865a817ba47c4baeb61743d44f4cc72f": {
          "model_module": "@jupyter-widgets/base",
          "model_name": "LayoutModel",
          "model_module_version": "1.2.0",
          "state": {
            "_model_module": "@jupyter-widgets/base",
            "_model_module_version": "1.2.0",
            "_model_name": "LayoutModel",
            "_view_count": null,
            "_view_module": "@jupyter-widgets/base",
            "_view_module_version": "1.2.0",
            "_view_name": "LayoutView",
            "align_content": null,
            "align_items": null,
            "align_self": null,
            "border": null,
            "bottom": null,
            "display": null,
            "flex": null,
            "flex_flow": null,
            "grid_area": null,
            "grid_auto_columns": null,
            "grid_auto_flow": null,
            "grid_auto_rows": null,
            "grid_column": null,
            "grid_gap": null,
            "grid_row": null,
            "grid_template_areas": null,
            "grid_template_columns": null,
            "grid_template_rows": null,
            "height": null,
            "justify_content": null,
            "justify_items": null,
            "left": null,
            "margin": null,
            "max_height": null,
            "max_width": null,
            "min_height": null,
            "min_width": null,
            "object_fit": null,
            "object_position": null,
            "order": null,
            "overflow": null,
            "overflow_x": null,
            "overflow_y": null,
            "padding": null,
            "right": null,
            "top": null,
            "visibility": null,
            "width": null
          }
        },
        "16432444b3e64d4c9ff8c1ba6a76f6a4": {
          "model_module": "@jupyter-widgets/controls",
          "model_name": "DescriptionStyleModel",
          "model_module_version": "1.5.0",
          "state": {
            "_model_module": "@jupyter-widgets/controls",
            "_model_module_version": "1.5.0",
            "_model_name": "DescriptionStyleModel",
            "_view_count": null,
            "_view_module": "@jupyter-widgets/base",
            "_view_module_version": "1.2.0",
            "_view_name": "StyleView",
            "description_width": ""
          }
        },
        "336438fd5ff24687998ca736492b5ba4": {
          "model_module": "@jupyter-widgets/base",
          "model_name": "LayoutModel",
          "model_module_version": "1.2.0",
          "state": {
            "_model_module": "@jupyter-widgets/base",
            "_model_module_version": "1.2.0",
            "_model_name": "LayoutModel",
            "_view_count": null,
            "_view_module": "@jupyter-widgets/base",
            "_view_module_version": "1.2.0",
            "_view_name": "LayoutView",
            "align_content": null,
            "align_items": null,
            "align_self": null,
            "border": null,
            "bottom": null,
            "display": null,
            "flex": null,
            "flex_flow": null,
            "grid_area": null,
            "grid_auto_columns": null,
            "grid_auto_flow": null,
            "grid_auto_rows": null,
            "grid_column": null,
            "grid_gap": null,
            "grid_row": null,
            "grid_template_areas": null,
            "grid_template_columns": null,
            "grid_template_rows": null,
            "height": null,
            "justify_content": null,
            "justify_items": null,
            "left": null,
            "margin": null,
            "max_height": null,
            "max_width": null,
            "min_height": null,
            "min_width": null,
            "object_fit": null,
            "object_position": null,
            "order": null,
            "overflow": null,
            "overflow_x": null,
            "overflow_y": null,
            "padding": null,
            "right": null,
            "top": null,
            "visibility": null,
            "width": null
          }
        },
        "a2ecde539ed24acba0ca90ce4f4b7a52": {
          "model_module": "@jupyter-widgets/controls",
          "model_name": "ProgressStyleModel",
          "model_module_version": "1.5.0",
          "state": {
            "_model_module": "@jupyter-widgets/controls",
            "_model_module_version": "1.5.0",
            "_model_name": "ProgressStyleModel",
            "_view_count": null,
            "_view_module": "@jupyter-widgets/base",
            "_view_module_version": "1.2.0",
            "_view_name": "StyleView",
            "bar_color": null,
            "description_width": ""
          }
        },
        "c722f18709854a2fb08f7c8e03147003": {
          "model_module": "@jupyter-widgets/base",
          "model_name": "LayoutModel",
          "model_module_version": "1.2.0",
          "state": {
            "_model_module": "@jupyter-widgets/base",
            "_model_module_version": "1.2.0",
            "_model_name": "LayoutModel",
            "_view_count": null,
            "_view_module": "@jupyter-widgets/base",
            "_view_module_version": "1.2.0",
            "_view_name": "LayoutView",
            "align_content": null,
            "align_items": null,
            "align_self": null,
            "border": null,
            "bottom": null,
            "display": null,
            "flex": null,
            "flex_flow": null,
            "grid_area": null,
            "grid_auto_columns": null,
            "grid_auto_flow": null,
            "grid_auto_rows": null,
            "grid_column": null,
            "grid_gap": null,
            "grid_row": null,
            "grid_template_areas": null,
            "grid_template_columns": null,
            "grid_template_rows": null,
            "height": null,
            "justify_content": null,
            "justify_items": null,
            "left": null,
            "margin": null,
            "max_height": null,
            "max_width": null,
            "min_height": null,
            "min_width": null,
            "object_fit": null,
            "object_position": null,
            "order": null,
            "overflow": null,
            "overflow_x": null,
            "overflow_y": null,
            "padding": null,
            "right": null,
            "top": null,
            "visibility": null,
            "width": null
          }
        },
        "0e91bcdf517b4e88bcd01d30f3bba05d": {
          "model_module": "@jupyter-widgets/controls",
          "model_name": "DescriptionStyleModel",
          "model_module_version": "1.5.0",
          "state": {
            "_model_module": "@jupyter-widgets/controls",
            "_model_module_version": "1.5.0",
            "_model_name": "DescriptionStyleModel",
            "_view_count": null,
            "_view_module": "@jupyter-widgets/base",
            "_view_module_version": "1.2.0",
            "_view_name": "StyleView",
            "description_width": ""
          }
        },
        "1fd3a61b0a9c486a8742b8534a193635": {
          "model_module": "@jupyter-widgets/controls",
          "model_name": "HBoxModel",
          "model_module_version": "1.5.0",
          "state": {
            "_dom_classes": [],
            "_model_module": "@jupyter-widgets/controls",
            "_model_module_version": "1.5.0",
            "_model_name": "HBoxModel",
            "_view_count": null,
            "_view_module": "@jupyter-widgets/controls",
            "_view_module_version": "1.5.0",
            "_view_name": "HBoxView",
            "box_style": "",
            "children": [
              "IPY_MODEL_dde0b637376a4c3aba7f2927ab0a704e",
              "IPY_MODEL_49d10a556f4740c2967fcacbe25a1688",
              "IPY_MODEL_dd4757f962c7466cb90b4d90b0f60172"
            ],
            "layout": "IPY_MODEL_1e349cf3be2546a49b165eb8eab4670a"
          }
        },
        "dde0b637376a4c3aba7f2927ab0a704e": {
          "model_module": "@jupyter-widgets/controls",
          "model_name": "HTMLModel",
          "model_module_version": "1.5.0",
          "state": {
            "_dom_classes": [],
            "_model_module": "@jupyter-widgets/controls",
            "_model_module_version": "1.5.0",
            "_model_name": "HTMLModel",
            "_view_count": null,
            "_view_module": "@jupyter-widgets/controls",
            "_view_module_version": "1.5.0",
            "_view_name": "HTMLView",
            "description": "",
            "description_tooltip": null,
            "layout": "IPY_MODEL_e4c31927190d4f2e9d6865193135e639",
            "placeholder": "​",
            "style": "IPY_MODEL_37592a71126445739887b31e9b437adb",
            "value": ""
          }
        },
        "49d10a556f4740c2967fcacbe25a1688": {
          "model_module": "@jupyter-widgets/controls",
          "model_name": "FloatProgressModel",
          "model_module_version": "1.5.0",
          "state": {
            "_dom_classes": [],
            "_model_module": "@jupyter-widgets/controls",
            "_model_module_version": "1.5.0",
            "_model_name": "FloatProgressModel",
            "_view_count": null,
            "_view_module": "@jupyter-widgets/controls",
            "_view_module_version": "1.5.0",
            "_view_name": "ProgressView",
            "bar_style": "success",
            "description": "",
            "description_tooltip": null,
            "layout": "IPY_MODEL_581f8a58197f41ff912f1c2b883f03c3",
            "max": 4542,
            "min": 0,
            "orientation": "horizontal",
            "style": "IPY_MODEL_192502a29d404378913e01ad9507c0c9",
            "value": 4542
          }
        },
        "dd4757f962c7466cb90b4d90b0f60172": {
          "model_module": "@jupyter-widgets/controls",
          "model_name": "HTMLModel",
          "model_module_version": "1.5.0",
          "state": {
            "_dom_classes": [],
            "_model_module": "@jupyter-widgets/controls",
            "_model_module_version": "1.5.0",
            "_model_name": "HTMLModel",
            "_view_count": null,
            "_view_module": "@jupyter-widgets/controls",
            "_view_module_version": "1.5.0",
            "_view_name": "HTMLView",
            "description": "",
            "description_tooltip": null,
            "layout": "IPY_MODEL_f08ff298538a480482a968160772a3a6",
            "placeholder": "​",
            "style": "IPY_MODEL_e41c41a637db4d9d82a6ca903458bbd8",
            "value": " 5120/? [00:00&lt;00:00, 136327.39it/s]"
          }
        },
        "1e349cf3be2546a49b165eb8eab4670a": {
          "model_module": "@jupyter-widgets/base",
          "model_name": "LayoutModel",
          "model_module_version": "1.2.0",
          "state": {
            "_model_module": "@jupyter-widgets/base",
            "_model_module_version": "1.2.0",
            "_model_name": "LayoutModel",
            "_view_count": null,
            "_view_module": "@jupyter-widgets/base",
            "_view_module_version": "1.2.0",
            "_view_name": "LayoutView",
            "align_content": null,
            "align_items": null,
            "align_self": null,
            "border": null,
            "bottom": null,
            "display": null,
            "flex": null,
            "flex_flow": null,
            "grid_area": null,
            "grid_auto_columns": null,
            "grid_auto_flow": null,
            "grid_auto_rows": null,
            "grid_column": null,
            "grid_gap": null,
            "grid_row": null,
            "grid_template_areas": null,
            "grid_template_columns": null,
            "grid_template_rows": null,
            "height": null,
            "justify_content": null,
            "justify_items": null,
            "left": null,
            "margin": null,
            "max_height": null,
            "max_width": null,
            "min_height": null,
            "min_width": null,
            "object_fit": null,
            "object_position": null,
            "order": null,
            "overflow": null,
            "overflow_x": null,
            "overflow_y": null,
            "padding": null,
            "right": null,
            "top": null,
            "visibility": null,
            "width": null
          }
        },
        "e4c31927190d4f2e9d6865193135e639": {
          "model_module": "@jupyter-widgets/base",
          "model_name": "LayoutModel",
          "model_module_version": "1.2.0",
          "state": {
            "_model_module": "@jupyter-widgets/base",
            "_model_module_version": "1.2.0",
            "_model_name": "LayoutModel",
            "_view_count": null,
            "_view_module": "@jupyter-widgets/base",
            "_view_module_version": "1.2.0",
            "_view_name": "LayoutView",
            "align_content": null,
            "align_items": null,
            "align_self": null,
            "border": null,
            "bottom": null,
            "display": null,
            "flex": null,
            "flex_flow": null,
            "grid_area": null,
            "grid_auto_columns": null,
            "grid_auto_flow": null,
            "grid_auto_rows": null,
            "grid_column": null,
            "grid_gap": null,
            "grid_row": null,
            "grid_template_areas": null,
            "grid_template_columns": null,
            "grid_template_rows": null,
            "height": null,
            "justify_content": null,
            "justify_items": null,
            "left": null,
            "margin": null,
            "max_height": null,
            "max_width": null,
            "min_height": null,
            "min_width": null,
            "object_fit": null,
            "object_position": null,
            "order": null,
            "overflow": null,
            "overflow_x": null,
            "overflow_y": null,
            "padding": null,
            "right": null,
            "top": null,
            "visibility": null,
            "width": null
          }
        },
        "37592a71126445739887b31e9b437adb": {
          "model_module": "@jupyter-widgets/controls",
          "model_name": "DescriptionStyleModel",
          "model_module_version": "1.5.0",
          "state": {
            "_model_module": "@jupyter-widgets/controls",
            "_model_module_version": "1.5.0",
            "_model_name": "DescriptionStyleModel",
            "_view_count": null,
            "_view_module": "@jupyter-widgets/base",
            "_view_module_version": "1.2.0",
            "_view_name": "StyleView",
            "description_width": ""
          }
        },
        "581f8a58197f41ff912f1c2b883f03c3": {
          "model_module": "@jupyter-widgets/base",
          "model_name": "LayoutModel",
          "model_module_version": "1.2.0",
          "state": {
            "_model_module": "@jupyter-widgets/base",
            "_model_module_version": "1.2.0",
            "_model_name": "LayoutModel",
            "_view_count": null,
            "_view_module": "@jupyter-widgets/base",
            "_view_module_version": "1.2.0",
            "_view_name": "LayoutView",
            "align_content": null,
            "align_items": null,
            "align_self": null,
            "border": null,
            "bottom": null,
            "display": null,
            "flex": null,
            "flex_flow": null,
            "grid_area": null,
            "grid_auto_columns": null,
            "grid_auto_flow": null,
            "grid_auto_rows": null,
            "grid_column": null,
            "grid_gap": null,
            "grid_row": null,
            "grid_template_areas": null,
            "grid_template_columns": null,
            "grid_template_rows": null,
            "height": null,
            "justify_content": null,
            "justify_items": null,
            "left": null,
            "margin": null,
            "max_height": null,
            "max_width": null,
            "min_height": null,
            "min_width": null,
            "object_fit": null,
            "object_position": null,
            "order": null,
            "overflow": null,
            "overflow_x": null,
            "overflow_y": null,
            "padding": null,
            "right": null,
            "top": null,
            "visibility": null,
            "width": null
          }
        },
        "192502a29d404378913e01ad9507c0c9": {
          "model_module": "@jupyter-widgets/controls",
          "model_name": "ProgressStyleModel",
          "model_module_version": "1.5.0",
          "state": {
            "_model_module": "@jupyter-widgets/controls",
            "_model_module_version": "1.5.0",
            "_model_name": "ProgressStyleModel",
            "_view_count": null,
            "_view_module": "@jupyter-widgets/base",
            "_view_module_version": "1.2.0",
            "_view_name": "StyleView",
            "bar_color": null,
            "description_width": ""
          }
        },
        "f08ff298538a480482a968160772a3a6": {
          "model_module": "@jupyter-widgets/base",
          "model_name": "LayoutModel",
          "model_module_version": "1.2.0",
          "state": {
            "_model_module": "@jupyter-widgets/base",
            "_model_module_version": "1.2.0",
            "_model_name": "LayoutModel",
            "_view_count": null,
            "_view_module": "@jupyter-widgets/base",
            "_view_module_version": "1.2.0",
            "_view_name": "LayoutView",
            "align_content": null,
            "align_items": null,
            "align_self": null,
            "border": null,
            "bottom": null,
            "display": null,
            "flex": null,
            "flex_flow": null,
            "grid_area": null,
            "grid_auto_columns": null,
            "grid_auto_flow": null,
            "grid_auto_rows": null,
            "grid_column": null,
            "grid_gap": null,
            "grid_row": null,
            "grid_template_areas": null,
            "grid_template_columns": null,
            "grid_template_rows": null,
            "height": null,
            "justify_content": null,
            "justify_items": null,
            "left": null,
            "margin": null,
            "max_height": null,
            "max_width": null,
            "min_height": null,
            "min_width": null,
            "object_fit": null,
            "object_position": null,
            "order": null,
            "overflow": null,
            "overflow_x": null,
            "overflow_y": null,
            "padding": null,
            "right": null,
            "top": null,
            "visibility": null,
            "width": null
          }
        },
        "e41c41a637db4d9d82a6ca903458bbd8": {
          "model_module": "@jupyter-widgets/controls",
          "model_name": "DescriptionStyleModel",
          "model_module_version": "1.5.0",
          "state": {
            "_model_module": "@jupyter-widgets/controls",
            "_model_module_version": "1.5.0",
            "_model_name": "DescriptionStyleModel",
            "_view_count": null,
            "_view_module": "@jupyter-widgets/base",
            "_view_module_version": "1.2.0",
            "_view_name": "StyleView",
            "description_width": ""
          }
        }
      }
    }
  },
  "nbformat": 4,
  "nbformat_minor": 0
}