{
  "nbformat": 4,
  "nbformat_minor": 0,
  "metadata": {
    "colab": {
      "name": "ISPR_HW2.ipynb",
      "provenance": [],
      "collapsed_sections": []
    },
    "kernelspec": {
      "name": "python3",
      "display_name": "Python 3"
    },
    "language_info": {
      "name": "python"
    }
  },
  "cells": [
    {
      "cell_type": "markdown",
      "source": [
        "# ISPR Home Work 2\n",
        "\n",
        "### Student: Moroni Luca\n",
        "### Mat: 635966\n",
        "\n",
        "## Assignment: 3"
      ],
      "metadata": {
        "id": "CO4w4I73mKcf"
      }
    },
    {
      "cell_type": "markdown",
      "source": [
        "## Importing used libraries"
      ],
      "metadata": {
        "id": "wmtS9DucmRpS"
      }
    },
    {
      "cell_type": "code",
      "execution_count": 1,
      "metadata": {
        "id": "yxpfslldZP_W"
      },
      "outputs": [],
      "source": [
        "import numpy as np\n",
        "from sklearn import svm, metrics\n",
        "from sklearn.model_selection import train_test_split\n",
        "from sklearn.datasets import fetch_openml\n",
        "from sklearn.preprocessing import MinMaxScaler\n",
        "from sklearn.linear_model import LogisticRegression"
      ]
    },
    {
      "cell_type": "markdown",
      "source": [
        "## Load dataset"
      ],
      "metadata": {
        "id": "GC0HnZBcn2OC"
      }
    },
    {
      "cell_type": "code",
      "source": [
        "# Load data from https://www.openml.org/d/554\n",
        "X, y = fetch_openml(\"mnist_784\", version=1, return_X_y=True, as_frame=False)"
      ],
      "metadata": {
        "id": "mrOMOEjcaj1i"
      },
      "execution_count": 2,
      "outputs": []
    },
    {
      "cell_type": "code",
      "source": [
        "X_train, X_test, y_train, y_test = train_test_split(\n",
        "    X, y, test_size=10000, random_state=42\n",
        ")"
      ],
      "metadata": {
        "id": "rSndfVQFmyyF"
      },
      "execution_count": 3,
      "outputs": []
    },
    {
      "cell_type": "code",
      "source": [
        "print(\"shape of X and y in train: \", X_train.shape, y_train.shape)\n",
        "print(\"shape of X and y in test: \", X_test.shape, y_test.shape)"
      ],
      "metadata": {
        "id": "sPnJzBUbaudv",
        "colab": {
          "base_uri": "https://localhost:8080/"
        },
        "outputId": "8854b496-a76a-4aa2-cfd6-7375e8b0342c"
      },
      "execution_count": 4,
      "outputs": [
        {
          "output_type": "stream",
          "name": "stdout",
          "text": [
            "shape of X and y in train:  (60000, 784) (60000,)\n",
            "shape of X and y in test:  (10000, 784) (10000,)\n"
          ]
        }
      ]
    },
    {
      "cell_type": "markdown",
      "source": [
        "## Preprocessing"
      ],
      "metadata": {
        "id": "qXYRX_HzoYIL"
      }
    },
    {
      "cell_type": "code",
      "source": [
        "scaler = MinMaxScaler()\n",
        "scaler.fit(X_train)\n",
        "X_train = scaler.transform(X_train)\n",
        "X_test = scaler.transform(X_test)"
      ],
      "metadata": {
        "id": "lMwMHLP2oZxl"
      },
      "execution_count": 5,
      "outputs": []
    },
    {
      "cell_type": "markdown",
      "source": [
        "## Sklearn Classifier"
      ],
      "metadata": {
        "id": "OmlJGm6Xpgaa"
      }
    },
    {
      "cell_type": "code",
      "source": [
        "linear_classifier = LogisticRegression()\n",
        "linear_classifier.fit(X_train, y_train)"
      ],
      "metadata": {
        "id": "19KYJ8LupixQ",
        "colab": {
          "base_uri": "https://localhost:8080/"
        },
        "outputId": "f4acd0df-ca26-4f48-9237-ef021bec503a"
      },
      "execution_count": 6,
      "outputs": [
        {
          "output_type": "stream",
          "name": "stderr",
          "text": [
            "/usr/local/lib/python3.7/dist-packages/sklearn/linear_model/_logistic.py:818: ConvergenceWarning: lbfgs failed to converge (status=1):\n",
            "STOP: TOTAL NO. of ITERATIONS REACHED LIMIT.\n",
            "\n",
            "Increase the number of iterations (max_iter) or scale the data as shown in:\n",
            "    https://scikit-learn.org/stable/modules/preprocessing.html\n",
            "Please also refer to the documentation for alternative solver options:\n",
            "    https://scikit-learn.org/stable/modules/linear_model.html#logistic-regression\n",
            "  extra_warning_msg=_LOGISTIC_SOLVER_CONVERGENCE_MSG,\n"
          ]
        },
        {
          "output_type": "execute_result",
          "data": {
            "text/plain": [
              "LogisticRegression()"
            ]
          },
          "metadata": {},
          "execution_count": 6
        }
      ]
    },
    {
      "cell_type": "code",
      "source": [
        "y_pred = linear_classifier.predict(X_test)"
      ],
      "metadata": {
        "id": "mHAthrJFqYs-"
      },
      "execution_count": 8,
      "outputs": []
    },
    {
      "cell_type": "code",
      "source": [
        "print(metrics.accuracy_score(y_test, y_pred, normalize=True))"
      ],
      "metadata": {
        "id": "Vz9ua3r0p7g5",
        "colab": {
          "base_uri": "https://localhost:8080/"
        },
        "outputId": "5a52ecb9-3301-4d0c-a68f-06c327bb88ef"
      },
      "execution_count": 11,
      "outputs": [
        {
          "output_type": "stream",
          "name": "stdout",
          "text": [
            "0.9199\n"
          ]
        }
      ]
    },
    {
      "cell_type": "markdown",
      "source": [
        "## Restricted Boltzmann Machine"
      ],
      "metadata": {
        "id": "qt6Fx7SzsbLT"
      }
    },
    {
      "cell_type": "code",
      "source": [
        "class RBM():\n",
        "  def __init__(self):\n",
        "    pass\n",
        "\n",
        "  def training(self):\n",
        "    pass\n",
        "  \n",
        "  def inference(self):\n",
        "    pass"
      ],
      "metadata": {
        "id": "66pwc73NseRl"
      },
      "execution_count": null,
      "outputs": []
    },
    {
      "cell_type": "markdown",
      "source": [
        "## Preprocess dataset with RBM"
      ],
      "metadata": {
        "id": "naGTHItMsweE"
      }
    },
    {
      "cell_type": "code",
      "source": [
        "# todo\n",
        "X_train_rbm = ...\n",
        "X_test_rbm = ..."
      ],
      "metadata": {
        "id": "qUHVi-1cs067"
      },
      "execution_count": null,
      "outputs": []
    },
    {
      "cell_type": "markdown",
      "source": [
        "## Sklearn Classifier over RBM output"
      ],
      "metadata": {
        "id": "Ntmzyp1gs2g4"
      }
    },
    {
      "cell_type": "code",
      "source": [
        "linear_classifier.fit(X_train_rbm, y_train)"
      ],
      "metadata": {
        "id": "MnJTIZHMs7hT"
      },
      "execution_count": null,
      "outputs": []
    },
    {
      "cell_type": "code",
      "source": [
        "y_pred = linear_classifier.predict(X_test_rbm)"
      ],
      "metadata": {
        "id": "_3Q1zPvUtGRp"
      },
      "execution_count": null,
      "outputs": []
    },
    {
      "cell_type": "code",
      "source": [
        "print(metrics.accuracy_score(y_test, y_pred, normalize=True))"
      ],
      "metadata": {
        "id": "F65KHTAbtJIE"
      },
      "execution_count": null,
      "outputs": []
    }
  ]
}